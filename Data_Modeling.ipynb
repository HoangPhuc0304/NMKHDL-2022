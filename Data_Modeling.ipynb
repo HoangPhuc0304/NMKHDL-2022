{
 "cells": [
  {
   "cell_type": "markdown",
   "metadata": {},
   "source": [
    "<h1><b>Mô hình hóa dữ liệu</b></h1>\n",
    "\n",
    "<hr/>\n"
   ]
  },
  {
   "cell_type": "markdown",
   "metadata": {},
   "source": [
    "<h3><b>Install & Import</b></h3>\n",
    "\n",
    "Cài đặt và import những thư viện cần thiết cho phần mô hình hóa dữ liệu."
   ]
  },
  {
   "cell_type": "code",
   "execution_count": 1,
   "metadata": {},
   "outputs": [],
   "source": [
    "#Cài đặt các thư viện"
   ]
  },
  {
   "cell_type": "code",
   "execution_count": 22,
   "metadata": {},
   "outputs": [],
   "source": [
    "#Import các thư viện\n",
    "import seaborn as sns\n",
    "import matplotlib.pyplot as plt\n",
    "import numpy as np\n",
    "import pandas as pd\n",
    "import math\n",
    "from datetime import timezone\n",
    "import datetime\n",
    "import warnings\n",
    "warnings.simplefilter(action='ignore', category=FutureWarning)\n",
    "\n",
    "from sklearn.preprocessing import StandardScaler\n",
    "from sklearn.preprocessing import OneHotEncoder\n",
    "from sklearn.preprocessing import MultiLabelBinarizer\n",
    "from sklearn.ensemble import RandomForestRegressor\n",
    "from sklearn.neural_network import MLPRegressor\n",
    "from sklearn.metrics import mean_squared_error\n",
    "from sklearn.metrics import mean_absolute_error\n",
    "from sklearn.model_selection import train_test_split\n",
    "from sklearn.metrics import r2_score"
   ]
  },
  {
   "attachments": {},
   "cell_type": "markdown",
   "metadata": {},
   "source": [
    "### Bài toán: \n",
    "\n",
    "Dự đoán số lượng ứng viên đăng kí một công việc dựa trên các đặc trưng của công việc đó (trình độ, mức lương, quy mô của công ty,...) \n",
    "\n",
    "#### Các thuật toán sử dụng:\n",
    "- Multiple layer perception Regression \n",
    "- Random Forest Regression "
   ]
  },
  {
   "cell_type": "markdown",
   "metadata": {},
   "source": [
    "### Chuẩn bị dữ liệu\n",
    "\n",
    "Ở bước này ta sẽ chọn ra những thuộc tính có mức độ liên quan cao, có thể khai thác cho bài toán"
   ]
  },
  {
   "cell_type": "code",
   "execution_count": 23,
   "metadata": {},
   "outputs": [
    {
     "data": {
      "text/html": [
       "<div>\n",
       "<style scoped>\n",
       "    .dataframe tbody tr th:only-of-type {\n",
       "        vertical-align: middle;\n",
       "    }\n",
       "\n",
       "    .dataframe tbody tr th {\n",
       "        vertical-align: top;\n",
       "    }\n",
       "\n",
       "    .dataframe thead th {\n",
       "        text-align: right;\n",
       "    }\n",
       "</style>\n",
       "<table border=\"1\" class=\"dataframe\">\n",
       "  <thead>\n",
       "    <tr style=\"text-align: right;\">\n",
       "      <th></th>\n",
       "      <th>Unnamed: 0</th>\n",
       "      <th>jobId</th>\n",
       "      <th>jobTitle</th>\n",
       "      <th>userId</th>\n",
       "      <th>companyLogo</th>\n",
       "      <th>alias</th>\n",
       "      <th>approvedOn</th>\n",
       "      <th>expiredOn</th>\n",
       "      <th>companyName</th>\n",
       "      <th>companyId</th>\n",
       "      <th>...</th>\n",
       "      <th>numOfApplications</th>\n",
       "      <th>isMobileHotJob</th>\n",
       "      <th>isMobileTopJob</th>\n",
       "      <th>isBoldAndRedJob</th>\n",
       "      <th>isUrgentJob</th>\n",
       "      <th>isUrgentJobM</th>\n",
       "      <th>onlineOn</th>\n",
       "      <th>visibilityDisplay</th>\n",
       "      <th>priorityOrder</th>\n",
       "      <th>typeWorkingName</th>\n",
       "    </tr>\n",
       "  </thead>\n",
       "  <tbody>\n",
       "    <tr>\n",
       "      <th>0</th>\n",
       "      <td>0</td>\n",
       "      <td>1581202</td>\n",
       "      <td>Project Management Manager - Attractive Salary...</td>\n",
       "      <td>5975282</td>\n",
       "      <td>https://images.vietnamworks.com/pictureofcompa...</td>\n",
       "      <td>project-management-manager-attractive-salary</td>\n",
       "      <td>2022-11-18 15:59:04+07:00</td>\n",
       "      <td>2022-12-18 23:59:59+07:00</td>\n",
       "      <td>Công Ty TNHH Công Nghệ Welco Việt Nam</td>\n",
       "      <td>313962</td>\n",
       "      <td>...</td>\n",
       "      <td>24</td>\n",
       "      <td>False</td>\n",
       "      <td>False</td>\n",
       "      <td>False</td>\n",
       "      <td>False</td>\n",
       "      <td>False</td>\n",
       "      <td>2022-11-26 11:34:00+07:00</td>\n",
       "      <td>False</td>\n",
       "      <td>2022-11-26 11:34:00</td>\n",
       "      <td>Full-time</td>\n",
       "    </tr>\n",
       "    <tr>\n",
       "      <th>1</th>\n",
       "      <td>1</td>\n",
       "      <td>1593683</td>\n",
       "      <td>Production Supervisor</td>\n",
       "      <td>5975282</td>\n",
       "      <td>https://images.vietnamworks.com/pictureofcompa...</td>\n",
       "      <td>production-supervisor-351</td>\n",
       "      <td>2022-11-18 09:38:08+07:00</td>\n",
       "      <td>2022-12-18 23:59:59+07:00</td>\n",
       "      <td>Công Ty TNHH Công Nghệ Welco Việt Nam</td>\n",
       "      <td>313962</td>\n",
       "      <td>...</td>\n",
       "      <td>7</td>\n",
       "      <td>False</td>\n",
       "      <td>False</td>\n",
       "      <td>False</td>\n",
       "      <td>False</td>\n",
       "      <td>False</td>\n",
       "      <td>2022-11-26 11:34:00+07:00</td>\n",
       "      <td>False</td>\n",
       "      <td>2022-11-26 11:34:00</td>\n",
       "      <td>Full-time</td>\n",
       "    </tr>\n",
       "    <tr>\n",
       "      <th>2</th>\n",
       "      <td>2</td>\n",
       "      <td>1594103</td>\n",
       "      <td>[Datatech Beeginner] Chuyên Viên Đảm Bảo An Ni...</td>\n",
       "      <td>417756</td>\n",
       "      <td>https://images.vietnamworks.com/pictureofcompa...</td>\n",
       "      <td>datatech-beeginner-chuyen-vien-dam-bao-an-ninh...</td>\n",
       "      <td>2022-11-18 18:08:52+07:00</td>\n",
       "      <td>2022-12-18 23:59:59+07:00</td>\n",
       "      <td>Ngân Hàng Thương Mại Cổ Phần Quân Đội - MB</td>\n",
       "      <td>2332</td>\n",
       "      <td>...</td>\n",
       "      <td>0</td>\n",
       "      <td>True</td>\n",
       "      <td>True</td>\n",
       "      <td>False</td>\n",
       "      <td>True</td>\n",
       "      <td>False</td>\n",
       "      <td>2022-11-26 11:34:00+07:00</td>\n",
       "      <td>False</td>\n",
       "      <td>2022-11-26 11:34:00</td>\n",
       "      <td>Full-time</td>\n",
       "    </tr>\n",
       "    <tr>\n",
       "      <th>3</th>\n",
       "      <td>3</td>\n",
       "      <td>1589116</td>\n",
       "      <td>Trưởng Bộ Phận Tổng Hợp Báo Cáo, Phòng Kế Hoạc...</td>\n",
       "      <td>2859613</td>\n",
       "      <td>https://images.vietnamworks.com/pictureofcompa...</td>\n",
       "      <td>truong-bo-phan-tong-hop-bao-cao-phong-ke-hoach...</td>\n",
       "      <td>2022-11-04 09:59:37+07:00</td>\n",
       "      <td>2022-12-04 23:59:59+07:00</td>\n",
       "      <td>Ngân Hàng TMCP Đại Chúng Việt Nam</td>\n",
       "      <td>136607</td>\n",
       "      <td>...</td>\n",
       "      <td>10</td>\n",
       "      <td>True</td>\n",
       "      <td>True</td>\n",
       "      <td>False</td>\n",
       "      <td>False</td>\n",
       "      <td>False</td>\n",
       "      <td>2022-11-26 11:34:00+07:00</td>\n",
       "      <td>False</td>\n",
       "      <td>2022-11-26 11:34:00</td>\n",
       "      <td>Full-time</td>\n",
       "    </tr>\n",
       "    <tr>\n",
       "      <th>4</th>\n",
       "      <td>4</td>\n",
       "      <td>1589145</td>\n",
       "      <td>Lập Trình Viên Java C</td>\n",
       "      <td>1465669</td>\n",
       "      <td>https://images.vietnamworks.com/pictureofcompa...</td>\n",
       "      <td>lap-trinh-vien-java-c-1-1</td>\n",
       "      <td>2022-11-04 10:40:07+07:00</td>\n",
       "      <td>2022-12-04 23:59:59+07:00</td>\n",
       "      <td>Tập Đoàn MK - MK Group</td>\n",
       "      <td>60453</td>\n",
       "      <td>...</td>\n",
       "      <td>3</td>\n",
       "      <td>True</td>\n",
       "      <td>True</td>\n",
       "      <td>False</td>\n",
       "      <td>False</td>\n",
       "      <td>False</td>\n",
       "      <td>2022-11-26 11:34:00+07:00</td>\n",
       "      <td>False</td>\n",
       "      <td>2022-11-26 11:34:00</td>\n",
       "      <td>Full-time</td>\n",
       "    </tr>\n",
       "  </tbody>\n",
       "</table>\n",
       "<p>5 rows × 38 columns</p>\n",
       "</div>"
      ],
      "text/plain": [
       "   Unnamed: 0    jobId                                           jobTitle  \\\n",
       "0           0  1581202  Project Management Manager - Attractive Salary...   \n",
       "1           1  1593683                              Production Supervisor   \n",
       "2           2  1594103  [Datatech Beeginner] Chuyên Viên Đảm Bảo An Ni...   \n",
       "3           3  1589116  Trưởng Bộ Phận Tổng Hợp Báo Cáo, Phòng Kế Hoạc...   \n",
       "4           4  1589145                              Lập Trình Viên Java C   \n",
       "\n",
       "    userId                                        companyLogo  \\\n",
       "0  5975282  https://images.vietnamworks.com/pictureofcompa...   \n",
       "1  5975282  https://images.vietnamworks.com/pictureofcompa...   \n",
       "2   417756  https://images.vietnamworks.com/pictureofcompa...   \n",
       "3  2859613  https://images.vietnamworks.com/pictureofcompa...   \n",
       "4  1465669  https://images.vietnamworks.com/pictureofcompa...   \n",
       "\n",
       "                                               alias  \\\n",
       "0       project-management-manager-attractive-salary   \n",
       "1                          production-supervisor-351   \n",
       "2  datatech-beeginner-chuyen-vien-dam-bao-an-ninh...   \n",
       "3  truong-bo-phan-tong-hop-bao-cao-phong-ke-hoach...   \n",
       "4                          lap-trinh-vien-java-c-1-1   \n",
       "\n",
       "                  approvedOn                  expiredOn  \\\n",
       "0  2022-11-18 15:59:04+07:00  2022-12-18 23:59:59+07:00   \n",
       "1  2022-11-18 09:38:08+07:00  2022-12-18 23:59:59+07:00   \n",
       "2  2022-11-18 18:08:52+07:00  2022-12-18 23:59:59+07:00   \n",
       "3  2022-11-04 09:59:37+07:00  2022-12-04 23:59:59+07:00   \n",
       "4  2022-11-04 10:40:07+07:00  2022-12-04 23:59:59+07:00   \n",
       "\n",
       "                                  companyName  companyId  ...  \\\n",
       "0       Công Ty TNHH Công Nghệ Welco Việt Nam     313962  ...   \n",
       "1       Công Ty TNHH Công Nghệ Welco Việt Nam     313962  ...   \n",
       "2  Ngân Hàng Thương Mại Cổ Phần Quân Đội - MB       2332  ...   \n",
       "3           Ngân Hàng TMCP Đại Chúng Việt Nam     136607  ...   \n",
       "4                      Tập Đoàn MK - MK Group      60453  ...   \n",
       "\n",
       "   numOfApplications  isMobileHotJob  isMobileTopJob  isBoldAndRedJob  \\\n",
       "0                 24           False           False            False   \n",
       "1                  7           False           False            False   \n",
       "2                  0            True            True            False   \n",
       "3                 10            True            True            False   \n",
       "4                  3            True            True            False   \n",
       "\n",
       "   isUrgentJob  isUrgentJobM                   onlineOn visibilityDisplay  \\\n",
       "0        False         False  2022-11-26 11:34:00+07:00             False   \n",
       "1        False         False  2022-11-26 11:34:00+07:00             False   \n",
       "2         True         False  2022-11-26 11:34:00+07:00             False   \n",
       "3        False         False  2022-11-26 11:34:00+07:00             False   \n",
       "4        False         False  2022-11-26 11:34:00+07:00             False   \n",
       "\n",
       "         priorityOrder typeWorkingName  \n",
       "0  2022-11-26 11:34:00       Full-time  \n",
       "1  2022-11-26 11:34:00       Full-time  \n",
       "2  2022-11-26 11:34:00       Full-time  \n",
       "3  2022-11-26 11:34:00       Full-time  \n",
       "4  2022-11-26 11:34:00       Full-time  \n",
       "\n",
       "[5 rows x 38 columns]"
      ]
     },
     "execution_count": 23,
     "metadata": {},
     "output_type": "execute_result"
    }
   ],
   "source": [
    "#Đọc dữ liệu\n",
    "data_df = pd.read_csv('data/job_list.csv')\n",
    "data_df.head()"
   ]
  },
  {
   "cell_type": "markdown",
   "metadata": {},
   "source": [
    "Ở đây, ta có tất cả 38 cột, song ta sẽ bỏ qua các cột quá đặc thù khó có thể khai thác như **jobId**, **jobTitle**, **userId**, **companyLogo**,**alias**,...\n",
    "\n",
    "Những cột chúng ta sẽ lấy là: **numOfApplications**, **salary**, **skills**, **industries**, **workingLocations**, **jobLevel**, **companySize**, **approvedOn**, **typeWorkingName**"
   ]
  },
  {
   "cell_type": "code",
   "execution_count": 24,
   "metadata": {},
   "outputs": [],
   "source": [
    "#Lấy ra dữ liệu cần thiết cho dự đoán\n",
    "application_df = data_df[['numOfApplications','salary','skills','industries','workingLocations','jobLevel','companySize','approvedOn','typeWorkingName']].copy()"
   ]
  },
  {
   "cell_type": "markdown",
   "metadata": {},
   "source": [
    "### Tiền xử lý"
   ]
  },
  {
   "cell_type": "markdown",
   "metadata": {},
   "source": [
    "#### Kiểm tra các giá trị thiếu"
   ]
  },
  {
   "cell_type": "code",
   "execution_count": 25,
   "metadata": {},
   "outputs": [
    {
     "data": {
      "text/plain": [
       "numOfApplications       0\n",
       "salary                  0\n",
       "skills                  0\n",
       "industries              0\n",
       "workingLocations        0\n",
       "jobLevel                0\n",
       "companySize          1189\n",
       "approvedOn              0\n",
       "typeWorkingName         0\n",
       "dtype: int64"
      ]
     },
     "execution_count": 25,
     "metadata": {},
     "output_type": "execute_result"
    }
   ],
   "source": [
    "application_df.isna().sum()"
   ]
  },
  {
   "cell_type": "markdown",
   "metadata": {},
   "source": [
    "Ở cột **companySize**, dữ liệu bị thiếu khá nhiều, việc bỏ đi không phù hợp với trường hợp này vì sẽ làm mất đi lượng thông tin lớn cũng như giảm tính chính xác của bài toán đang xét, vì vậy ta sẽ điền thêm dữ liệu cho các giá trị cột này\n",
    "\n",
    "Trước hết, cần kiểm tra kiểu dữ liệu và các giá trị của cột `companySize`"
   ]
  },
  {
   "cell_type": "code",
   "execution_count": 26,
   "metadata": {},
   "outputs": [
    {
     "data": {
      "text/plain": [
       "0      (100, 499)\n",
       "1      (100, 499)\n",
       "2    (1000, 4999)\n",
       "3    (1000, 4999)\n",
       "4      (500, 999)\n",
       "Name: companySize, dtype: object"
      ]
     },
     "execution_count": 26,
     "metadata": {},
     "output_type": "execute_result"
    }
   ],
   "source": [
    "application_df['companySize'].head()"
   ]
  },
  {
   "cell_type": "markdown",
   "metadata": {},
   "source": [
    "Dữ liệu ở đây là một object, trước hết chúng ta cần chuyển các dữ liệu này về dạng số và lấy trung bình, sau đó điền các giá trị thiếu bằng giá trị trung vị (tránh trường hợp khi mất cân bằng trong tập dữ liệu) "
   ]
  },
  {
   "cell_type": "code",
   "execution_count": 27,
   "metadata": {},
   "outputs": [],
   "source": [
    "#Chuyển dữ liệu từ dạng object sang numberic\n",
    "application_df['companySize'] = application_df['companySize'].apply(lambda x : math.ceil(np.mean([int(size) for size in str(x).replace('(','').replace(')','').split(',')])) if not isinstance(x, float) else np.nan)\n",
    "\n",
    "#Bổ sung các giá trị thiếu\n",
    "median_size = math.floor(application_df['companySize'].median())\n",
    "application_df['companySize'] = application_df['companySize'].fillna(median_size)"
   ]
  },
  {
   "cell_type": "markdown",
   "metadata": {},
   "source": [
    "Ngoài ra, có thêm một vấn đề ở cột **salary** khi ở đây có rất nhiều giá trị bằng 0, được xem như những giá trị thiếu (những giá trị mà các nhà tuyển dụng không cung cấp), cũng cần bổ sung bằng giá trị trung vị ở cột này."
   ]
  },
  {
   "cell_type": "code",
   "execution_count": 28,
   "metadata": {},
   "outputs": [
    {
     "data": {
      "text/plain": [
       "0       0\n",
       "1       0\n",
       "2       0\n",
       "3    1500\n",
       "4     700\n",
       "Name: salary, dtype: int64"
      ]
     },
     "execution_count": 28,
     "metadata": {},
     "output_type": "execute_result"
    }
   ],
   "source": [
    "application_df['salary'].head()"
   ]
  },
  {
   "cell_type": "code",
   "execution_count": 29,
   "metadata": {},
   "outputs": [],
   "source": [
    "median_salary = math.floor(application_df['salary'].loc[application_df['salary'] > 0].median())\n",
    "application_df['salary'] = application_df['salary'].replace(to_replace = 0, value = median_salary)"
   ]
  },
  {
   "cell_type": "markdown",
   "metadata": {},
   "source": [
    "#### Chuyển đổi dữ liệu ở các cột dạng `categorical` về dạng `numeric`"
   ]
  },
  {
   "cell_type": "markdown",
   "metadata": {},
   "source": [
    "Tiến hành chuyển các cột không phải dạng số về số\n",
    "\n",
    "Ở đây có nhiều cách để chuyển đổi như sử dụng `OrdinalEncoder`, `LabelEncoder`, `OneHotEncoder`,... Trong phần này, ta sẽ dùng `OrdinalEncoder`."
   ]
  },
  {
   "cell_type": "code",
   "execution_count": 30,
   "metadata": {},
   "outputs": [],
   "source": [
    "ohe = OneHotEncoder()\n",
    "encoder_df = pd.DataFrame(ohe.fit_transform(application_df[['jobLevel']]).toarray())\n",
    "ohe.categories_[0]\n",
    "\n",
    "m_1 = pd.DataFrame(ohe.fit_transform(application_df[['jobLevel']]).toarray(),columns=ohe.categories_)\n",
    "m_2 = pd.DataFrame(ohe.fit_transform(application_df[['typeWorkingName']]).toarray(),columns=ohe.categories_)\n",
    "application_df = pd.concat([application_df,m_1.iloc[:,1:],m_2.iloc[:,1:]],axis=1)\n",
    "application_df = application_df.drop(['jobLevel','typeWorkingName'], axis=1)"
   ]
  },
  {
   "cell_type": "markdown",
   "metadata": {},
   "source": [
    "Với những cột có nhiều hơn 1 giá trị, ta sẽ sử dụng `MultiLabelBinarizer`"
   ]
  },
  {
   "cell_type": "code",
   "execution_count": 31,
   "metadata": {},
   "outputs": [
    {
     "data": {
      "text/html": [
       "<div>\n",
       "<style scoped>\n",
       "    .dataframe tbody tr th:only-of-type {\n",
       "        vertical-align: middle;\n",
       "    }\n",
       "\n",
       "    .dataframe tbody tr th {\n",
       "        vertical-align: top;\n",
       "    }\n",
       "\n",
       "    .dataframe thead th {\n",
       "        text-align: right;\n",
       "    }\n",
       "</style>\n",
       "<table border=\"1\" class=\"dataframe\">\n",
       "  <thead>\n",
       "    <tr style=\"text-align: right;\">\n",
       "      <th></th>\n",
       "      <th>industries</th>\n",
       "      <th>skills</th>\n",
       "      <th>workingLocations</th>\n",
       "    </tr>\n",
       "  </thead>\n",
       "  <tbody>\n",
       "    <tr>\n",
       "      <th>0</th>\n",
       "      <td>Executive management;Electrical/Electronics;Pl...</td>\n",
       "      <td>English;Project Management;Communication;OEM M...</td>\n",
       "      <td>Hai Duong</td>\n",
       "    </tr>\n",
       "    <tr>\n",
       "      <th>1</th>\n",
       "      <td>Executive management;Production/Process;Electr...</td>\n",
       "      <td>Tiếng Anh;Giám Sát Sản Xuất;Sản Xuất;Điện Tử;Q...</td>\n",
       "      <td>Hai Duong;Hai Duong</td>\n",
       "    </tr>\n",
       "    <tr>\n",
       "      <th>2</th>\n",
       "      <td>IT - Software;Banking;IT - Hardware/Networking</td>\n",
       "      <td>Java;.NET;DevOps;Cloud;Kafka</td>\n",
       "      <td>Ha Noi</td>\n",
       "    </tr>\n",
       "    <tr>\n",
       "      <th>3</th>\n",
       "      <td>Banking</td>\n",
       "      <td>Ngân Hàng</td>\n",
       "      <td>Ha Noi</td>\n",
       "    </tr>\n",
       "    <tr>\n",
       "      <th>4</th>\n",
       "      <td>IT - Software;IT - Hardware/Networking;High Te...</td>\n",
       "      <td>Lập Trình Viên / Software Developer;IT Phần Cứ...</td>\n",
       "      <td>Ha Noi</td>\n",
       "    </tr>\n",
       "  </tbody>\n",
       "</table>\n",
       "</div>"
      ],
      "text/plain": [
       "                                          industries  \\\n",
       "0  Executive management;Electrical/Electronics;Pl...   \n",
       "1  Executive management;Production/Process;Electr...   \n",
       "2     IT - Software;Banking;IT - Hardware/Networking   \n",
       "3                                            Banking   \n",
       "4  IT - Software;IT - Hardware/Networking;High Te...   \n",
       "\n",
       "                                              skills     workingLocations  \n",
       "0  English;Project Management;Communication;OEM M...            Hai Duong  \n",
       "1  Tiếng Anh;Giám Sát Sản Xuất;Sản Xuất;Điện Tử;Q...  Hai Duong;Hai Duong  \n",
       "2                       Java;.NET;DevOps;Cloud;Kafka               Ha Noi  \n",
       "3                                          Ngân Hàng               Ha Noi  \n",
       "4  Lập Trình Viên / Software Developer;IT Phần Cứ...               Ha Noi  "
      ]
     },
     "execution_count": 31,
     "metadata": {},
     "output_type": "execute_result"
    }
   ],
   "source": [
    "application_df[['industries','skills','workingLocations']].head()"
   ]
  },
  {
   "cell_type": "code",
   "execution_count": 32,
   "metadata": {},
   "outputs": [],
   "source": [
    "mlb = MultiLabelBinarizer()\n",
    "dg_1 = pd.DataFrame(mlb.fit_transform(application_df['skills'].apply(lambda x : x.split(';'))),columns=mlb.classes_)\n",
    "dg_2 = pd.DataFrame(mlb.fit_transform(application_df['industries'].apply(lambda x : x.split(';'))),columns=mlb.classes_)\n",
    "dg_3 = pd.DataFrame(mlb.fit_transform(application_df['workingLocations'].apply(lambda x : x.split(';'))),columns=mlb.classes_)\n",
    "\n",
    "application_df = pd.concat([application_df,dg_1,dg_2,dg_3],axis=1)\n",
    "application_df = application_df.drop(['skills','industries','workingLocations'], axis=1)\n",
    "\n"
   ]
  },
  {
   "cell_type": "markdown",
   "metadata": {},
   "source": [
    "Đối với cột **approvedOn**, các giá trị đang ở dạng chuỗi, ta sẽ chuyển đổi các dữ liệu này về dạng số (hiệu timestamp) với ý nghĩa là số giờ (h) đã đăng tải   "
   ]
  },
  {
   "cell_type": "code",
   "execution_count": 33,
   "metadata": {},
   "outputs": [],
   "source": [
    "newest_date = application_df['approvedOn'].max()\n",
    "application_df['approvedOn'] = application_df['approvedOn'].apply(lambda x : round((datetime.datetime.fromisoformat(newest_date).timestamp() - datetime.datetime.fromisoformat(x).timestamp())/3600,0))"
   ]
  },
  {
   "cell_type": "markdown",
   "metadata": {},
   "source": [
    "Dữ liệu cuối cùng thu được sau khi hoàn tất quá trình tiền xử lý"
   ]
  },
  {
   "cell_type": "code",
   "execution_count": 34,
   "metadata": {},
   "outputs": [
    {
     "data": {
      "text/html": [
       "<div>\n",
       "<style scoped>\n",
       "    .dataframe tbody tr th:only-of-type {\n",
       "        vertical-align: middle;\n",
       "    }\n",
       "\n",
       "    .dataframe tbody tr th {\n",
       "        vertical-align: top;\n",
       "    }\n",
       "\n",
       "    .dataframe thead th {\n",
       "        text-align: right;\n",
       "    }\n",
       "</style>\n",
       "<table border=\"1\" class=\"dataframe\">\n",
       "  <thead>\n",
       "    <tr style=\"text-align: right;\">\n",
       "      <th></th>\n",
       "      <th>numOfApplications</th>\n",
       "      <th>salary</th>\n",
       "      <th>companySize</th>\n",
       "      <th>approvedOn</th>\n",
       "      <th>(Experienced (non-manager),)</th>\n",
       "      <th>(Fresher/Entry level,)</th>\n",
       "      <th>(Intern/Student,)</th>\n",
       "      <th>(Manager,)</th>\n",
       "      <th>(Full-time,)</th>\n",
       "      <th>(Internship,)</th>\n",
       "      <th>...</th>\n",
       "      <th>Thai Binh</th>\n",
       "      <th>Thai Nguyen</th>\n",
       "      <th>Thanh Hoa</th>\n",
       "      <th>Thua Thien-Hue</th>\n",
       "      <th>Tien Giang</th>\n",
       "      <th>Tra Vinh</th>\n",
       "      <th>Tuyen Quang</th>\n",
       "      <th>Vinh Long</th>\n",
       "      <th>Vinh Phuc</th>\n",
       "      <th>Yen Bai</th>\n",
       "    </tr>\n",
       "  </thead>\n",
       "  <tbody>\n",
       "    <tr>\n",
       "      <th>0</th>\n",
       "      <td>24</td>\n",
       "      <td>1000</td>\n",
       "      <td>300.0</td>\n",
       "      <td>191.0</td>\n",
       "      <td>0.0</td>\n",
       "      <td>0.0</td>\n",
       "      <td>0.0</td>\n",
       "      <td>1.0</td>\n",
       "      <td>1.0</td>\n",
       "      <td>0.0</td>\n",
       "      <td>...</td>\n",
       "      <td>0</td>\n",
       "      <td>0</td>\n",
       "      <td>0</td>\n",
       "      <td>0</td>\n",
       "      <td>0</td>\n",
       "      <td>0</td>\n",
       "      <td>0</td>\n",
       "      <td>0</td>\n",
       "      <td>0</td>\n",
       "      <td>0</td>\n",
       "    </tr>\n",
       "    <tr>\n",
       "      <th>1</th>\n",
       "      <td>7</td>\n",
       "      <td>1000</td>\n",
       "      <td>300.0</td>\n",
       "      <td>198.0</td>\n",
       "      <td>0.0</td>\n",
       "      <td>0.0</td>\n",
       "      <td>0.0</td>\n",
       "      <td>1.0</td>\n",
       "      <td>1.0</td>\n",
       "      <td>0.0</td>\n",
       "      <td>...</td>\n",
       "      <td>0</td>\n",
       "      <td>0</td>\n",
       "      <td>0</td>\n",
       "      <td>0</td>\n",
       "      <td>0</td>\n",
       "      <td>0</td>\n",
       "      <td>0</td>\n",
       "      <td>0</td>\n",
       "      <td>0</td>\n",
       "      <td>0</td>\n",
       "    </tr>\n",
       "    <tr>\n",
       "      <th>2</th>\n",
       "      <td>0</td>\n",
       "      <td>1000</td>\n",
       "      <td>3000.0</td>\n",
       "      <td>189.0</td>\n",
       "      <td>1.0</td>\n",
       "      <td>0.0</td>\n",
       "      <td>0.0</td>\n",
       "      <td>0.0</td>\n",
       "      <td>1.0</td>\n",
       "      <td>0.0</td>\n",
       "      <td>...</td>\n",
       "      <td>0</td>\n",
       "      <td>0</td>\n",
       "      <td>0</td>\n",
       "      <td>0</td>\n",
       "      <td>0</td>\n",
       "      <td>0</td>\n",
       "      <td>0</td>\n",
       "      <td>0</td>\n",
       "      <td>0</td>\n",
       "      <td>0</td>\n",
       "    </tr>\n",
       "    <tr>\n",
       "      <th>3</th>\n",
       "      <td>10</td>\n",
       "      <td>1500</td>\n",
       "      <td>3000.0</td>\n",
       "      <td>533.0</td>\n",
       "      <td>1.0</td>\n",
       "      <td>0.0</td>\n",
       "      <td>0.0</td>\n",
       "      <td>0.0</td>\n",
       "      <td>1.0</td>\n",
       "      <td>0.0</td>\n",
       "      <td>...</td>\n",
       "      <td>0</td>\n",
       "      <td>0</td>\n",
       "      <td>0</td>\n",
       "      <td>0</td>\n",
       "      <td>0</td>\n",
       "      <td>0</td>\n",
       "      <td>0</td>\n",
       "      <td>0</td>\n",
       "      <td>0</td>\n",
       "      <td>0</td>\n",
       "    </tr>\n",
       "    <tr>\n",
       "      <th>4</th>\n",
       "      <td>3</td>\n",
       "      <td>700</td>\n",
       "      <td>750.0</td>\n",
       "      <td>533.0</td>\n",
       "      <td>1.0</td>\n",
       "      <td>0.0</td>\n",
       "      <td>0.0</td>\n",
       "      <td>0.0</td>\n",
       "      <td>1.0</td>\n",
       "      <td>0.0</td>\n",
       "      <td>...</td>\n",
       "      <td>0</td>\n",
       "      <td>0</td>\n",
       "      <td>0</td>\n",
       "      <td>0</td>\n",
       "      <td>0</td>\n",
       "      <td>0</td>\n",
       "      <td>0</td>\n",
       "      <td>0</td>\n",
       "      <td>0</td>\n",
       "      <td>0</td>\n",
       "    </tr>\n",
       "  </tbody>\n",
       "</table>\n",
       "<p>5 rows × 7942 columns</p>\n",
       "</div>"
      ],
      "text/plain": [
       "   numOfApplications  salary  companySize  approvedOn  \\\n",
       "0                 24    1000        300.0       191.0   \n",
       "1                  7    1000        300.0       198.0   \n",
       "2                  0    1000       3000.0       189.0   \n",
       "3                 10    1500       3000.0       533.0   \n",
       "4                  3     700        750.0       533.0   \n",
       "\n",
       "   (Experienced (non-manager),)  (Fresher/Entry level,)  (Intern/Student,)  \\\n",
       "0                           0.0                     0.0                0.0   \n",
       "1                           0.0                     0.0                0.0   \n",
       "2                           1.0                     0.0                0.0   \n",
       "3                           1.0                     0.0                0.0   \n",
       "4                           1.0                     0.0                0.0   \n",
       "\n",
       "   (Manager,)  (Full-time,)  (Internship,)  ...  Thai Binh  Thai Nguyen  \\\n",
       "0         1.0           1.0            0.0  ...          0            0   \n",
       "1         1.0           1.0            0.0  ...          0            0   \n",
       "2         0.0           1.0            0.0  ...          0            0   \n",
       "3         0.0           1.0            0.0  ...          0            0   \n",
       "4         0.0           1.0            0.0  ...          0            0   \n",
       "\n",
       "   Thanh Hoa  Thua Thien-Hue  Tien Giang  Tra Vinh  Tuyen Quang  Vinh Long  \\\n",
       "0          0               0           0         0            0          0   \n",
       "1          0               0           0         0            0          0   \n",
       "2          0               0           0         0            0          0   \n",
       "3          0               0           0         0            0          0   \n",
       "4          0               0           0         0            0          0   \n",
       "\n",
       "   Vinh Phuc  Yen Bai  \n",
       "0          0        0  \n",
       "1          0        0  \n",
       "2          0        0  \n",
       "3          0        0  \n",
       "4          0        0  \n",
       "\n",
       "[5 rows x 7942 columns]"
      ]
     },
     "execution_count": 34,
     "metadata": {},
     "output_type": "execute_result"
    }
   ],
   "source": [
    "application_df.head()"
   ]
  },
  {
   "attachments": {},
   "cell_type": "markdown",
   "metadata": {},
   "source": [
    "### Multiple Layer Perception Regression\n"
   ]
  },
  {
   "attachments": {},
   "cell_type": "markdown",
   "metadata": {},
   "source": [
    "Chọn các tập dữ liệu (independent variable) X và tập giá trị (dependent variable) Y cần thiết cho việc mô hình bài toán đang xét"
   ]
  },
  {
   "cell_type": "code",
   "execution_count": 63,
   "metadata": {},
   "outputs": [],
   "source": [
    "y = application_df['numOfApplications']\n",
    "X = application_df.drop(['numOfApplications'],axis = 1)"
   ]
  },
  {
   "cell_type": "code",
   "execution_count": 64,
   "metadata": {},
   "outputs": [],
   "source": [
    "X_train,X_test, y_train, y_test = train_test_split(X,y,test_size = 0.2,random_state = 0)"
   ]
  },
  {
   "cell_type": "code",
   "execution_count": 65,
   "metadata": {},
   "outputs": [],
   "source": [
    "sc=StandardScaler()\n",
    "X_train[['salary','companySize','approvedOn']] = sc.fit_transform(X_train[['salary','companySize','approvedOn']])\n",
    "X_test[['salary','companySize','approvedOn']] = sc.fit_transform(X_test[['salary','companySize','approvedOn']])"
   ]
  },
  {
   "cell_type": "code",
   "execution_count": 66,
   "metadata": {},
   "outputs": [
    {
     "name": "stdout",
     "output_type": "stream",
     "text": [
      "Iteration 1, loss = 843.42276535\n",
      "Validation score: 0.160239\n",
      "Iteration 2, loss = 518.35282008\n",
      "Validation score: 0.270757\n",
      "Iteration 3, loss = 364.96226370\n",
      "Validation score: 0.275392\n",
      "Iteration 4, loss = 214.79219469\n",
      "Validation score: 0.268260\n",
      "Iteration 5, loss = 125.98043863\n",
      "Validation score: 0.237262\n",
      "Iteration 6, loss = 84.42577501\n",
      "Validation score: 0.239579\n",
      "Iteration 7, loss = 59.02630976\n",
      "Validation score: 0.240722\n",
      "Iteration 8, loss = 43.19327901\n",
      "Validation score: 0.242613\n",
      "Iteration 9, loss = 35.24312121\n",
      "Validation score: 0.221859\n",
      "Iteration 10, loss = 29.32645315\n",
      "Validation score: 0.246724\n",
      "Iteration 11, loss = 25.94665639\n",
      "Validation score: 0.238377\n",
      "Iteration 12, loss = 22.55840292\n",
      "Validation score: 0.249560\n",
      "Iteration 13, loss = 17.77022317\n",
      "Validation score: 0.241623\n",
      "Iteration 14, loss = 14.73491055\n",
      "Validation score: 0.249668\n",
      "Validation score did not improve more than tol=0.000100 for 10 consecutive epochs. Stopping.\n"
     ]
    }
   ],
   "source": [
    "mlpregressor = MLPRegressor(hidden_layer_sizes=(256, 512, 512, 256, ),random_state=0, max_iter=500, early_stopping=True, verbose=1)\n",
    "\n",
    "model = mlpregressor.fit(X_train,y_train)"
   ]
  },
  {
   "cell_type": "code",
   "execution_count": 67,
   "metadata": {},
   "outputs": [
    {
     "name": "stdout",
     "output_type": "stream",
     "text": [
      "Mean Absolute Error (MAE): 19.453505901210907\n",
      "Mean Squared Error (MSE): 1007.8754416082996\n",
      "Root Mean Squared Error (RMSE): 31.747054061885798\n",
      "R Square (R^2): 0.24994456985197933\n"
     ]
    }
   ],
   "source": [
    "Y_pred = model.predict(X_test)\n",
    "\n",
    "# MAE (Mean Absolute Error)\n",
    "print('Mean Absolute Error (MAE):', mean_absolute_error(y_test, Y_pred))\n",
    "# MSE (Mean Square Error)\n",
    "print('Mean Squared Error (MSE):', mean_squared_error(y_test, Y_pred))\n",
    "# RMSE (Root Mean Square Error)\n",
    "print('Root Mean Squared Error (RMSE):', np.sqrt(mean_squared_error(y_test, Y_pred)))\n",
    "#R Square\n",
    "print('R Square (R^2):', r2_score(y_test,Y_pred))"
   ]
  },
  {
   "cell_type": "code",
   "execution_count": 68,
   "metadata": {},
   "outputs": [],
   "source": [
    "myMax = max(max(y_test),max(Y_pred))"
   ]
  },
  {
   "cell_type": "code",
   "execution_count": 69,
   "metadata": {},
   "outputs": [
    {
     "data": {
      "image/png": "[encoded data removed]",
      "text/plain": [
       "<Figure size 640x480 with 1 Axes>"
      ]
     },
     "metadata": {},
     "output_type": "display_data"
    }
   ],
   "source": [
    "plt.scatter(y_test,Y_pred,alpha = 0.3)\n",
    "plt.xlabel('Test')\n",
    "plt.ylabel('Predict')\n",
    "plt.plot([0,myMax],[0,myMax])\n",
    "plt.show()"
   ]
  },
  {
   "cell_type": "markdown",
   "metadata": {},
   "source": [
    "### Random Forest Regression"
   ]
  },
  {
   "cell_type": "markdown",
   "metadata": {},
   "source": [
    "Chọn các tập dữ liệu (independent variable) X và tập giá trị (dependent variable) Y cần thiết cho việc mô hình bài toán đang xét"
   ]
  },
  {
   "cell_type": "code",
   "execution_count": 35,
   "metadata": {},
   "outputs": [],
   "source": [
    "X = application_df.drop(['numOfApplications'], axis=1)\n",
    "Y = application_df['numOfApplications']"
   ]
  },
  {
   "cell_type": "markdown",
   "metadata": {},
   "source": [
    "Chia tập bộ dữ liệu thành các tập train (tập huấn luyện) và tập test (Tập kiểm tra)\n",
    "- Tập train là tập dữ liệu được sử dụng để huấn luyện mô hình. Các thuật toán học máy sẽ học các mô hình từ tập huấn luyện này. Việc học sẽ khác nhau tùy thuộc vào thuật toán và mô hình sử dụng\n",
    "- Tập test là tập giá trị được sử dụng để đánh giá độ chính xác hoặc sai số của mô hình dự đoán đã được huấn luyện. Ta cần so sánh với tập test để đánh giá khả năng tổng quát hóa với những dữ liệu không chỉ đã học mà còn với những dữ liệu mới, chưa gặp trước đó."
   ]
  },
  {
   "cell_type": "code",
   "execution_count": 36,
   "metadata": {},
   "outputs": [],
   "source": [
    "#Ta sẽ chọn 80% cho tập train và 20% cho tập test\n",
    "X_train, X_test, Y_train, Y_test = train_test_split(X,Y,test_size=0.2,random_state=0)"
   ]
  },
  {
   "cell_type": "markdown",
   "metadata": {},
   "source": [
    "Scale dữ liệu (Feature scaling)\n",
    "\n",
    "- Đây là một phương pháp được dùng để scale (điều chỉnh) phạm vi của các giá trị để làm cho phù hợp với các giá trị đặc trưng trong tập dữ liệu, đặc biệt đối với những tập có phạm vi chênh lệch lớn.\n",
    "- Có 2 cách phổ biến để scale dữ liệu đó là Normalization và Standardization. Trong đó Normalization sẽ scale khoảng dữ liệu bất kì về 0 -> 1, còn Standardization sẽ scale dữ liệu về một phân bố trong đó giá trị trung bình của các quan sát là 0 và độ lệch chuẩn là 1.\n",
    "\n",
    "Ở bài toán này, ta sẽ scale các dữ liệu ở các cột **salary**, **companySize**,**approvedOn** bằng phương pháp Standardization bằng StandardScaler (thư viện có sẵn của scikit-learn)"
   ]
  },
  {
   "cell_type": "code",
   "execution_count": 37,
   "metadata": {},
   "outputs": [],
   "source": [
    "sc=StandardScaler()\n",
    "X_train[['salary','companySize','approvedOn']] = sc.fit_transform(X_train[['salary','companySize','approvedOn']])\n",
    "X_test[['salary','companySize','approvedOn']] = sc.fit_transform(X_test[['salary','companySize','approvedOn']])"
   ]
  },
  {
   "cell_type": "markdown",
   "metadata": {},
   "source": [
    "Sau khi đã chia các tập dữ liệu và scale, ta tiến hành khởi tạo mô hình Random Forest Regression và đưa tập train vào để tiến hành huấn luyện."
   ]
  },
  {
   "cell_type": "code",
   "execution_count": 38,
   "metadata": {},
   "outputs": [
    {
     "data": {
      "text/html": [
       "<style>#sk-container-id-1 {color: black;background-color: white;}#sk-container-id-1 pre{padding: 0;}#sk-container-id-1 div.sk-toggleable {background-color: white;}#sk-container-id-1 label.sk-toggleable__label {cursor: pointer;display: block;width: 100%;margin-bottom: 0;padding: 0.3em;box-sizing: border-box;text-align: center;}#sk-container-id-1 label.sk-toggleable__label-arrow:before {content: \"▸\";float: left;margin-right: 0.25em;color: #696969;}#sk-container-id-1 label.sk-toggleable__label-arrow:hover:before {color: black;}#sk-container-id-1 div.sk-estimator:hover label.sk-toggleable__label-arrow:before {color: black;}#sk-container-id-1 div.sk-toggleable__content {max-height: 0;max-width: 0;overflow: hidden;text-align: left;background-color: #f0f8ff;}#sk-container-id-1 div.sk-toggleable__content pre {margin: 0.2em;color: black;border-radius: 0.25em;background-color: #f0f8ff;}#sk-container-id-1 input.sk-toggleable__control:checked~div.sk-toggleable__content {max-height: 200px;max-width: 100%;overflow: auto;}#sk-container-id-1 input.sk-toggleable__control:checked~label.sk-toggleable__label-arrow:before {content: \"▾\";}#sk-container-id-1 div.sk-estimator input.sk-toggleable__control:checked~label.sk-toggleable__label {background-color: #d4ebff;}#sk-container-id-1 div.sk-label input.sk-toggleable__control:checked~label.sk-toggleable__label {background-color: #d4ebff;}#sk-container-id-1 input.sk-hidden--visually {border: 0;clip: rect(1px 1px 1px 1px);clip: rect(1px, 1px, 1px, 1px);height: 1px;margin: -1px;overflow: hidden;padding: 0;position: absolute;width: 1px;}#sk-container-id-1 div.sk-estimator {font-family: monospace;background-color: #f0f8ff;border: 1px dotted black;border-radius: 0.25em;box-sizing: border-box;margin-bottom: 0.5em;}#sk-container-id-1 div.sk-estimator:hover {background-color: #d4ebff;}#sk-container-id-1 div.sk-parallel-item::after {content: \"\";width: 100%;border-bottom: 1px solid gray;flex-grow: 1;}#sk-container-id-1 div.sk-label:hover label.sk-toggleable__label {background-color: #d4ebff;}#sk-container-id-1 div.sk-serial::before {content: \"\";position: absolute;border-left: 1px solid gray;box-sizing: border-box;top: 0;bottom: 0;left: 50%;z-index: 0;}#sk-container-id-1 div.sk-serial {display: flex;flex-direction: column;align-items: center;background-color: white;padding-right: 0.2em;padding-left: 0.2em;position: relative;}#sk-container-id-1 div.sk-item {position: relative;z-index: 1;}#sk-container-id-1 div.sk-parallel {display: flex;align-items: stretch;justify-content: center;background-color: white;position: relative;}#sk-container-id-1 div.sk-item::before, #sk-container-id-1 div.sk-parallel-item::before {content: \"\";position: absolute;border-left: 1px solid gray;box-sizing: border-box;top: 0;bottom: 0;left: 50%;z-index: -1;}#sk-container-id-1 div.sk-parallel-item {display: flex;flex-direction: column;z-index: 1;position: relative;background-color: white;}#sk-container-id-1 div.sk-parallel-item:first-child::after {align-self: flex-end;width: 50%;}#sk-container-id-1 div.sk-parallel-item:last-child::after {align-self: flex-start;width: 50%;}#sk-container-id-1 div.sk-parallel-item:only-child::after {width: 0;}#sk-container-id-1 div.sk-dashed-wrapped {border: 1px dashed gray;margin: 0 0.4em 0.5em 0.4em;box-sizing: border-box;padding-bottom: 0.4em;background-color: white;}#sk-container-id-1 div.sk-label label {font-family: monospace;font-weight: bold;display: inline-block;line-height: 1.2em;}#sk-container-id-1 div.sk-label-container {text-align: center;}#sk-container-id-1 div.sk-container {/* jupyter's `normalize.less` sets `[hidden] { display: none; }` but bootstrap.min.css set `[hidden] { display: none !important; }` so we also need the `!important` here to be able to override the default hidden behavior on the sphinx rendered scikit-learn.org. See: https://github.com/scikit-learn/scikit-learn/issues/21755 */display: inline-block !important;position: relative;}#sk-container-id-1 div.sk-text-repr-fallback {display: none;}</style><div id=\"sk-container-id-1\" class=\"sk-top-container\"><div class=\"sk-text-repr-fallback\"><pre>RandomForestRegressor(random_state=0)</pre><b>In a Jupyter environment, please rerun this cell to show the HTML representation or trust the notebook. <br />On GitHub, the HTML representation is unable to render, please try loading this page with nbviewer.org.</b></div><div class=\"sk-container\" hidden><div class=\"sk-item\"><div class=\"sk-estimator sk-toggleable\"><input class=\"sk-toggleable__control sk-hidden--visually\" id=\"sk-estimator-id-1\" type=\"checkbox\" checked><label for=\"sk-estimator-id-1\" class=\"sk-toggleable__label sk-toggleable__label-arrow\">RandomForestRegressor</label><div class=\"sk-toggleable__content\"><pre>RandomForestRegressor(random_state=0)</pre></div></div></div></div></div>"
      ],
      "text/plain": [
       "RandomForestRegressor(random_state=0)"
      ]
     },
     "execution_count": 38,
     "metadata": {},
     "output_type": "execute_result"
    }
   ],
   "source": [
    "model = RandomForestRegressor(n_estimators = 100, random_state = 0)\n",
    "model.fit(X_train, Y_train) "
   ]
  },
  {
   "cell_type": "markdown",
   "metadata": {},
   "source": [
    "Tiến hành dự đoán và đánh giá"
   ]
  },
  {
   "cell_type": "code",
   "execution_count": 39,
   "metadata": {},
   "outputs": [
    {
     "name": "stdout",
     "output_type": "stream",
     "text": [
      "Mean Absolute Error (MAE): 18.978807231588288\n",
      "Mean Squared Error (MSE): 1096.7570398535397\n",
      "Root Mean Squared Error (RMSE): 33.11732235331745\n",
      "R Square (R^2): 0.18379936712961142\n"
     ]
    }
   ],
   "source": [
    "Y_pred = model.predict(X_test)\n",
    "\n",
    "# MAE (Mean Absolute Error)\n",
    "print('Mean Absolute Error (MAE):', mean_absolute_error(Y_test, Y_pred))\n",
    "# MSE (Mean Square Error)\n",
    "print('Mean Squared Error (MSE):', mean_squared_error(Y_test, Y_pred))\n",
    "# RMSE (Root Mean Square Error)\n",
    "print('Root Mean Squared Error (RMSE):', np.sqrt(mean_squared_error(Y_test, Y_pred)))\n",
    "#R Square\n",
    "print('R Square (R^2):', r2_score(Y_test,Y_pred))"
   ]
  },
  {
   "cell_type": "code",
   "execution_count": 41,
   "metadata": {},
   "outputs": [
    {
     "ename": "TypeError",
     "evalue": "scatterplot() takes from 0 to 1 positional arguments but 2 were given",
     "output_type": "error",
     "traceback": [
      "\u001b[1;31m---------------------------------------------------------------------------\u001b[0m",
      "\u001b[1;31mTypeError\u001b[0m                                 Traceback (most recent call last)",
      "\u001b[1;32mc:\\Users\\ADMIN\\Desktop\\Học tập\\Năm 3\\Học kì 1\\T6 (1-4) Nhập môn khoa học dữ liệu\\Đồ án cuối kì_3\\NMKHDL-2022\\Data_Modeling.ipynb Cell 48\u001b[0m in \u001b[0;36m<cell line: 2>\u001b[1;34m()\u001b[0m\n\u001b[0;32m      <a href='vscode-notebook-cell:/c%3A/Users/ADMIN/Desktop/H%E1%BB%8Dc%20t%E1%BA%ADp/N%C4%83m%203/H%E1%BB%8Dc%20k%C3%AC%201/T6%20%281-4%29%20Nh%E1%BA%ADp%20m%C3%B4n%20khoa%20h%E1%BB%8Dc%20d%E1%BB%AF%20li%E1%BB%87u/%C4%90%E1%BB%93%20%C3%A1n%20cu%E1%BB%91i%20k%C3%AC_3/NMKHDL-2022/Data_Modeling.ipynb#X55sZmlsZQ%3D%3D?line=0'>1</a>\u001b[0m sns\u001b[39m.\u001b[39mset_theme()\n\u001b[1;32m----> <a href='vscode-notebook-cell:/c%3A/Users/ADMIN/Desktop/H%E1%BB%8Dc%20t%E1%BA%ADp/N%C4%83m%203/H%E1%BB%8Dc%20k%C3%AC%201/T6%20%281-4%29%20Nh%E1%BA%ADp%20m%C3%B4n%20khoa%20h%E1%BB%8Dc%20d%E1%BB%AF%20li%E1%BB%87u/%C4%90%E1%BB%93%20%C3%A1n%20cu%E1%BB%91i%20k%C3%AC_3/NMKHDL-2022/Data_Modeling.ipynb#X55sZmlsZQ%3D%3D?line=1'>2</a>\u001b[0m sns\u001b[39m.\u001b[39;49mscatterplot(Y_test, Y_pred)\n\u001b[0;32m      <a href='vscode-notebook-cell:/c%3A/Users/ADMIN/Desktop/H%E1%BB%8Dc%20t%E1%BA%ADp/N%C4%83m%203/H%E1%BB%8Dc%20k%C3%AC%201/T6%20%281-4%29%20Nh%E1%BA%ADp%20m%C3%B4n%20khoa%20h%E1%BB%8Dc%20d%E1%BB%AF%20li%E1%BB%87u/%C4%90%E1%BB%93%20%C3%A1n%20cu%E1%BB%91i%20k%C3%AC_3/NMKHDL-2022/Data_Modeling.ipynb#X55sZmlsZQ%3D%3D?line=2'>3</a>\u001b[0m plt\u001b[39m.\u001b[39mxlabel(\u001b[39m'\u001b[39m\u001b[39mActual\u001b[39m\u001b[39m'\u001b[39m)\n\u001b[0;32m      <a href='vscode-notebook-cell:/c%3A/Users/ADMIN/Desktop/H%E1%BB%8Dc%20t%E1%BA%ADp/N%C4%83m%203/H%E1%BB%8Dc%20k%C3%AC%201/T6%20%281-4%29%20Nh%E1%BA%ADp%20m%C3%B4n%20khoa%20h%E1%BB%8Dc%20d%E1%BB%AF%20li%E1%BB%87u/%C4%90%E1%BB%93%20%C3%A1n%20cu%E1%BB%91i%20k%C3%AC_3/NMKHDL-2022/Data_Modeling.ipynb#X55sZmlsZQ%3D%3D?line=3'>4</a>\u001b[0m plt\u001b[39m.\u001b[39mxlabel(\u001b[39m'\u001b[39m\u001b[39mPredicted\u001b[39m\u001b[39m'\u001b[39m)\n",
      "\u001b[1;31mTypeError\u001b[0m: scatterplot() takes from 0 to 1 positional arguments but 2 were given"
     ]
    }
   ],
   "source": [
    "sns.set_theme()\n",
    "sns.scatterplot(Y_test, Y_pred)\n",
    "plt.xlabel('Actual')\n",
    "plt.xlabel('Predicted')"
   ]
  }
 ],
 "metadata": {
  "kernelspec": {
   "display_name": "Python 3",
   "language": "python",
   "name": "python3"
  },
  "language_info": {
   "codemirror_mode": {
    "name": "ipython",
    "version": 3
   },
   "file_extension": ".py",
   "mimetype": "text/x-python",
   "name": "python",
   "nbconvert_exporter": "python",
   "pygments_lexer": "ipython3",
   "version": "3.9.0"
  },
  "orig_nbformat": 4,
  "vscode": {
   "interpreter": {
    "hash": "25034407fed5d681614dac11a1c0537e8cb49e3a8883c071303eea01322943d9"
   }
  }
 },
 "nbformat": 4,
 "nbformat_minor": 2
}
