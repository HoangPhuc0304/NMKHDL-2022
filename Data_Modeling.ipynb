{
 "cells": [
  {
   "cell_type": "markdown",
   "metadata": {},
   "source": [
    "<h1><b>Mô hình hóa dữ liệu</b></h1>\n",
    "\n",
    "<hr/>\n"
   ]
  },
  {
   "cell_type": "markdown",
   "metadata": {},
   "source": [
    "<h3><b>Install & Import</b></h3>\n",
    "\n",
    "Cài đặt và import những thư viện cần thiết cho phần mô hình hóa dữ liệu."
   ]
  },
  {
   "cell_type": "code",
   "execution_count": 1,
   "metadata": {},
   "outputs": [],
   "source": [
    "#Cài đặt các thư viện"
   ]
  },
  {
   "cell_type": "code",
   "execution_count": null,
   "metadata": {},
   "outputs": [],
   "source": [
    "#Import các thư viện\n",
    "import seaborn as sns\n",
    "import matplotlib.pyplot as plt\n",
    "import numpy as np\n",
    "import pandas as pd\n",
    "import math\n",
    "from datetime import timezone\n",
    "import datetime\n",
    "import warnings\n",
    "warnings.simplefilter(action='ignore', category=FutureWarning)\n",
    "\n",
    "from sklearn.preprocessing import StandardScaler\n",
    "from sklearn.preprocessing import OneHotEncoder\n",
    "from sklearn.preprocessing import MultiLabelBinarizer\n",
    "from sklearn.ensemble import RandomForestRegressor\n",
    "from sklearn.neural_network import MLPRegressor\n",
    "from sklearn.feature_selection import chi2\n",
    "from sklearn.metrics import mean_squared_error\n",
    "from sklearn.metrics import mean_absolute_error\n",
    "from sklearn.model_selection import train_test_split\n",
    "from sklearn.metrics import r2_score"
   ]
  },
  {
   "cell_type": "markdown",
   "metadata": {},
   "source": [
    "### Bài toán: \n",
    "\n",
    "Dự đoán số lượng ứng viên đăng kí một công việc dựa trên các đặc trưng của công việc đó (trình độ, mức lương, quy mô của công ty,...) \n",
    "\n",
    "#### Các thuật toán sử dụng:\n",
    "- Multiple layer perception Regression \n",
    "- Random Forest Regression "
   ]
  },
  {
   "cell_type": "markdown",
   "metadata": {},
   "source": [
    "### Chuẩn bị dữ liệu\n",
    "\n",
    "Ở bước này ta sẽ chọn ra những thuộc tính có mức độ liên quan cao, có thể khai thác cho bài toán"
   ]
  },
  {
   "cell_type": "code",
   "execution_count": 3,
   "metadata": {},
   "outputs": [
    {
     "data": {
      "text/html": [
       "<div>\n",
       "<style scoped>\n",
       "    .dataframe tbody tr th:only-of-type {\n",
       "        vertical-align: middle;\n",
       "    }\n",
       "\n",
       "    .dataframe tbody tr th {\n",
       "        vertical-align: top;\n",
       "    }\n",
       "\n",
       "    .dataframe thead th {\n",
       "        text-align: right;\n",
       "    }\n",
       "</style>\n",
       "<table border=\"1\" class=\"dataframe\">\n",
       "  <thead>\n",
       "    <tr style=\"text-align: right;\">\n",
       "      <th></th>\n",
       "      <th>Unnamed: 0</th>\n",
       "      <th>jobId</th>\n",
       "      <th>jobTitle</th>\n",
       "      <th>userId</th>\n",
       "      <th>companyLogo</th>\n",
       "      <th>alias</th>\n",
       "      <th>approvedOn</th>\n",
       "      <th>expiredOn</th>\n",
       "      <th>companyName</th>\n",
       "      <th>companyId</th>\n",
       "      <th>...</th>\n",
       "      <th>numOfApplications</th>\n",
       "      <th>isMobileHotJob</th>\n",
       "      <th>isMobileTopJob</th>\n",
       "      <th>isBoldAndRedJob</th>\n",
       "      <th>isUrgentJob</th>\n",
       "      <th>isUrgentJobM</th>\n",
       "      <th>onlineOn</th>\n",
       "      <th>visibilityDisplay</th>\n",
       "      <th>priorityOrder</th>\n",
       "      <th>typeWorkingName</th>\n",
       "    </tr>\n",
       "  </thead>\n",
       "  <tbody>\n",
       "    <tr>\n",
       "      <th>0</th>\n",
       "      <td>0</td>\n",
       "      <td>1581202</td>\n",
       "      <td>Project Management Manager - Attractive Salary...</td>\n",
       "      <td>5975282</td>\n",
       "      <td>https://images.vietnamworks.com/pictureofcompa...</td>\n",
       "      <td>project-management-manager-attractive-salary</td>\n",
       "      <td>2022-11-18 15:59:04+07:00</td>\n",
       "      <td>2022-12-18 23:59:59+07:00</td>\n",
       "      <td>Công Ty TNHH Công Nghệ Welco Việt Nam</td>\n",
       "      <td>313962</td>\n",
       "      <td>...</td>\n",
       "      <td>24</td>\n",
       "      <td>False</td>\n",
       "      <td>False</td>\n",
       "      <td>False</td>\n",
       "      <td>False</td>\n",
       "      <td>False</td>\n",
       "      <td>2022-11-26 11:34:00+07:00</td>\n",
       "      <td>False</td>\n",
       "      <td>2022-11-26 11:34:00</td>\n",
       "      <td>Full-time</td>\n",
       "    </tr>\n",
       "    <tr>\n",
       "      <th>1</th>\n",
       "      <td>1</td>\n",
       "      <td>1593683</td>\n",
       "      <td>Production Supervisor</td>\n",
       "      <td>5975282</td>\n",
       "      <td>https://images.vietnamworks.com/pictureofcompa...</td>\n",
       "      <td>production-supervisor-351</td>\n",
       "      <td>2022-11-18 09:38:08+07:00</td>\n",
       "      <td>2022-12-18 23:59:59+07:00</td>\n",
       "      <td>Công Ty TNHH Công Nghệ Welco Việt Nam</td>\n",
       "      <td>313962</td>\n",
       "      <td>...</td>\n",
       "      <td>7</td>\n",
       "      <td>False</td>\n",
       "      <td>False</td>\n",
       "      <td>False</td>\n",
       "      <td>False</td>\n",
       "      <td>False</td>\n",
       "      <td>2022-11-26 11:34:00+07:00</td>\n",
       "      <td>False</td>\n",
       "      <td>2022-11-26 11:34:00</td>\n",
       "      <td>Full-time</td>\n",
       "    </tr>\n",
       "    <tr>\n",
       "      <th>2</th>\n",
       "      <td>2</td>\n",
       "      <td>1594103</td>\n",
       "      <td>[Datatech Beeginner] Chuyên Viên Đảm Bảo An Ni...</td>\n",
       "      <td>417756</td>\n",
       "      <td>https://images.vietnamworks.com/pictureofcompa...</td>\n",
       "      <td>datatech-beeginner-chuyen-vien-dam-bao-an-ninh...</td>\n",
       "      <td>2022-11-18 18:08:52+07:00</td>\n",
       "      <td>2022-12-18 23:59:59+07:00</td>\n",
       "      <td>Ngân Hàng Thương Mại Cổ Phần Quân Đội - MB</td>\n",
       "      <td>2332</td>\n",
       "      <td>...</td>\n",
       "      <td>0</td>\n",
       "      <td>True</td>\n",
       "      <td>True</td>\n",
       "      <td>False</td>\n",
       "      <td>True</td>\n",
       "      <td>False</td>\n",
       "      <td>2022-11-26 11:34:00+07:00</td>\n",
       "      <td>False</td>\n",
       "      <td>2022-11-26 11:34:00</td>\n",
       "      <td>Full-time</td>\n",
       "    </tr>\n",
       "    <tr>\n",
       "      <th>3</th>\n",
       "      <td>3</td>\n",
       "      <td>1589116</td>\n",
       "      <td>Trưởng Bộ Phận Tổng Hợp Báo Cáo, Phòng Kế Hoạc...</td>\n",
       "      <td>2859613</td>\n",
       "      <td>https://images.vietnamworks.com/pictureofcompa...</td>\n",
       "      <td>truong-bo-phan-tong-hop-bao-cao-phong-ke-hoach...</td>\n",
       "      <td>2022-11-04 09:59:37+07:00</td>\n",
       "      <td>2022-12-04 23:59:59+07:00</td>\n",
       "      <td>Ngân Hàng TMCP Đại Chúng Việt Nam</td>\n",
       "      <td>136607</td>\n",
       "      <td>...</td>\n",
       "      <td>10</td>\n",
       "      <td>True</td>\n",
       "      <td>True</td>\n",
       "      <td>False</td>\n",
       "      <td>False</td>\n",
       "      <td>False</td>\n",
       "      <td>2022-11-26 11:34:00+07:00</td>\n",
       "      <td>False</td>\n",
       "      <td>2022-11-26 11:34:00</td>\n",
       "      <td>Full-time</td>\n",
       "    </tr>\n",
       "    <tr>\n",
       "      <th>4</th>\n",
       "      <td>4</td>\n",
       "      <td>1589145</td>\n",
       "      <td>Lập Trình Viên Java C</td>\n",
       "      <td>1465669</td>\n",
       "      <td>https://images.vietnamworks.com/pictureofcompa...</td>\n",
       "      <td>lap-trinh-vien-java-c-1-1</td>\n",
       "      <td>2022-11-04 10:40:07+07:00</td>\n",
       "      <td>2022-12-04 23:59:59+07:00</td>\n",
       "      <td>Tập Đoàn MK - MK Group</td>\n",
       "      <td>60453</td>\n",
       "      <td>...</td>\n",
       "      <td>3</td>\n",
       "      <td>True</td>\n",
       "      <td>True</td>\n",
       "      <td>False</td>\n",
       "      <td>False</td>\n",
       "      <td>False</td>\n",
       "      <td>2022-11-26 11:34:00+07:00</td>\n",
       "      <td>False</td>\n",
       "      <td>2022-11-26 11:34:00</td>\n",
       "      <td>Full-time</td>\n",
       "    </tr>\n",
       "  </tbody>\n",
       "</table>\n",
       "<p>5 rows × 38 columns</p>\n",
       "</div>"
      ],
      "text/plain": [
       "   Unnamed: 0    jobId                                           jobTitle  \\\n",
       "0           0  1581202  Project Management Manager - Attractive Salary...   \n",
       "1           1  1593683                              Production Supervisor   \n",
       "2           2  1594103  [Datatech Beeginner] Chuyên Viên Đảm Bảo An Ni...   \n",
       "3           3  1589116  Trưởng Bộ Phận Tổng Hợp Báo Cáo, Phòng Kế Hoạc...   \n",
       "4           4  1589145                              Lập Trình Viên Java C   \n",
       "\n",
       "    userId                                        companyLogo  \\\n",
       "0  5975282  https://images.vietnamworks.com/pictureofcompa...   \n",
       "1  5975282  https://images.vietnamworks.com/pictureofcompa...   \n",
       "2   417756  https://images.vietnamworks.com/pictureofcompa...   \n",
       "3  2859613  https://images.vietnamworks.com/pictureofcompa...   \n",
       "4  1465669  https://images.vietnamworks.com/pictureofcompa...   \n",
       "\n",
       "                                               alias  \\\n",
       "0       project-management-manager-attractive-salary   \n",
       "1                          production-supervisor-351   \n",
       "2  datatech-beeginner-chuyen-vien-dam-bao-an-ninh...   \n",
       "3  truong-bo-phan-tong-hop-bao-cao-phong-ke-hoach...   \n",
       "4                          lap-trinh-vien-java-c-1-1   \n",
       "\n",
       "                  approvedOn                  expiredOn  \\\n",
       "0  2022-11-18 15:59:04+07:00  2022-12-18 23:59:59+07:00   \n",
       "1  2022-11-18 09:38:08+07:00  2022-12-18 23:59:59+07:00   \n",
       "2  2022-11-18 18:08:52+07:00  2022-12-18 23:59:59+07:00   \n",
       "3  2022-11-04 09:59:37+07:00  2022-12-04 23:59:59+07:00   \n",
       "4  2022-11-04 10:40:07+07:00  2022-12-04 23:59:59+07:00   \n",
       "\n",
       "                                  companyName  companyId  ...  \\\n",
       "0       Công Ty TNHH Công Nghệ Welco Việt Nam     313962  ...   \n",
       "1       Công Ty TNHH Công Nghệ Welco Việt Nam     313962  ...   \n",
       "2  Ngân Hàng Thương Mại Cổ Phần Quân Đội - MB       2332  ...   \n",
       "3           Ngân Hàng TMCP Đại Chúng Việt Nam     136607  ...   \n",
       "4                      Tập Đoàn MK - MK Group      60453  ...   \n",
       "\n",
       "   numOfApplications  isMobileHotJob  isMobileTopJob  isBoldAndRedJob  \\\n",
       "0                 24           False           False            False   \n",
       "1                  7           False           False            False   \n",
       "2                  0            True            True            False   \n",
       "3                 10            True            True            False   \n",
       "4                  3            True            True            False   \n",
       "\n",
       "   isUrgentJob  isUrgentJobM                   onlineOn visibilityDisplay  \\\n",
       "0        False         False  2022-11-26 11:34:00+07:00             False   \n",
       "1        False         False  2022-11-26 11:34:00+07:00             False   \n",
       "2         True         False  2022-11-26 11:34:00+07:00             False   \n",
       "3        False         False  2022-11-26 11:34:00+07:00             False   \n",
       "4        False         False  2022-11-26 11:34:00+07:00             False   \n",
       "\n",
       "         priorityOrder typeWorkingName  \n",
       "0  2022-11-26 11:34:00       Full-time  \n",
       "1  2022-11-26 11:34:00       Full-time  \n",
       "2  2022-11-26 11:34:00       Full-time  \n",
       "3  2022-11-26 11:34:00       Full-time  \n",
       "4  2022-11-26 11:34:00       Full-time  \n",
       "\n",
       "[5 rows x 38 columns]"
      ]
     },
     "execution_count": 3,
     "metadata": {},
     "output_type": "execute_result"
    }
   ],
   "source": [
    "#Đọc dữ liệu\n",
    "data_df = pd.read_csv('data/job_list.csv')\n",
    "data_df.head()"
   ]
  },
  {
   "cell_type": "markdown",
   "metadata": {},
   "source": [
    "Ở đây, ta có tất cả 38 cột, song ta sẽ bỏ qua các cột quá đặc thù khó có thể khai thác như **jobId**, **jobTitle**, **userId**, **companyLogo**,**alias**,...\n",
    "\n",
    "Những cột chúng ta sẽ lấy là: **numOfApplications**, **salary**, **skills**, **industries**, **workingLocations**, **jobLevel**, **companySize**, **approvedOn**, **typeWorkingName**"
   ]
  },
  {
   "cell_type": "code",
   "execution_count": 4,
   "metadata": {},
   "outputs": [],
   "source": [
    "#Lấy ra dữ liệu cần thiết cho dự đoán\n",
    "application_df = data_df[['numOfApplications','salary','skills','industries','workingLocations','jobLevel','companySize','approvedOn','typeWorkingName']].copy()"
   ]
  },
  {
   "cell_type": "markdown",
   "metadata": {},
   "source": [
    "### Tiền xử lý"
   ]
  },
  {
   "cell_type": "markdown",
   "metadata": {},
   "source": [
    "#### Kiểm tra các giá trị thiếu"
   ]
  },
  {
   "cell_type": "code",
   "execution_count": 5,
   "metadata": {},
   "outputs": [
    {
     "data": {
      "text/plain": [
       "numOfApplications       0\n",
       "salary                  0\n",
       "skills                  0\n",
       "industries              0\n",
       "workingLocations        0\n",
       "jobLevel                0\n",
       "companySize          1189\n",
       "approvedOn              0\n",
       "typeWorkingName         0\n",
       "dtype: int64"
      ]
     },
     "execution_count": 5,
     "metadata": {},
     "output_type": "execute_result"
    }
   ],
   "source": [
    "application_df.isna().sum()"
   ]
  },
  {
   "cell_type": "markdown",
   "metadata": {},
   "source": [
    "Ở cột **companySize**, dữ liệu bị thiếu khá nhiều, việc bỏ đi không phù hợp với trường hợp này vì sẽ làm mất đi lượng thông tin lớn cũng như giảm tính chính xác của bài toán đang xét, vì vậy ta sẽ điền thêm dữ liệu cho các giá trị cột này\n",
    "\n",
    "Trước hết, cần kiểm tra kiểu dữ liệu và các giá trị của cột `companySize`"
   ]
  },
  {
   "cell_type": "code",
   "execution_count": 6,
   "metadata": {},
   "outputs": [
    {
     "data": {
      "text/plain": [
       "0      (100, 499)\n",
       "1      (100, 499)\n",
       "2    (1000, 4999)\n",
       "3    (1000, 4999)\n",
       "4      (500, 999)\n",
       "Name: companySize, dtype: object"
      ]
     },
     "execution_count": 6,
     "metadata": {},
     "output_type": "execute_result"
    }
   ],
   "source": [
    "application_df['companySize'].head()"
   ]
  },
  {
   "cell_type": "markdown",
   "metadata": {},
   "source": [
    "Dữ liệu ở đây là một object, trước hết chúng ta cần chuyển các dữ liệu này về dạng số và lấy trung bình, sau đó điền các giá trị thiếu bằng giá trị trung vị (tránh trường hợp khi mất cân bằng trong tập dữ liệu) "
   ]
  },
  {
   "cell_type": "code",
   "execution_count": 7,
   "metadata": {},
   "outputs": [],
   "source": [
    "#Chuyển dữ liệu từ dạng object sang numberic\n",
    "application_df['companySize'] = application_df['companySize'].apply(lambda x : math.ceil(np.mean([int(size) for size in str(x).replace('(','').replace(')','').split(',')])) if not isinstance(x, float) else np.nan)\n",
    "\n",
    "#Bổ sung các giá trị thiếu\n",
    "median_size = math.floor(application_df['companySize'].median())\n",
    "application_df['companySize'] = application_df['companySize'].fillna(median_size)"
   ]
  },
  {
   "cell_type": "markdown",
   "metadata": {},
   "source": [
    "Ngoài ra, có thêm một vấn đề ở cột **salary** khi ở đây có rất nhiều giá trị bằng 0, được xem như những giá trị thiếu (những giá trị mà các nhà tuyển dụng không cung cấp), cũng cần bổ sung bằng giá trị trung vị ở cột này."
   ]
  },
  {
   "cell_type": "code",
   "execution_count": 8,
   "metadata": {},
   "outputs": [
    {
     "data": {
      "text/plain": [
       "0       0\n",
       "1       0\n",
       "2       0\n",
       "3    1500\n",
       "4     700\n",
       "Name: salary, dtype: int64"
      ]
     },
     "execution_count": 8,
     "metadata": {},
     "output_type": "execute_result"
    }
   ],
   "source": [
    "application_df['salary'].head()"
   ]
  },
  {
   "cell_type": "code",
   "execution_count": 9,
   "metadata": {},
   "outputs": [],
   "source": [
    "median_salary = math.floor(application_df['salary'].loc[application_df['salary'] > 0].median())\n",
    "application_df['salary'] = application_df['salary'].replace(to_replace = 0, value = median_salary)"
   ]
  },
  {
   "cell_type": "markdown",
   "metadata": {},
   "source": [
    "#### Chuyển đổi dữ liệu ở các cột dạng `categorical` về dạng `numeric`"
   ]
  },
  {
   "cell_type": "markdown",
   "metadata": {},
   "source": [
    "Tiến hành chuyển các cột không phải dạng số về số\n",
    "\n",
    "Ở đây có nhiều cách để chuyển đổi như sử dụng `OrdinalEncoder`, `LabelEncoder`, `OneHotEncoder`,... Trong phần này, ta sẽ dùng `OneHotEncoder`."
   ]
  },
  {
   "cell_type": "code",
   "execution_count": 10,
   "metadata": {},
   "outputs": [],
   "source": [
    "ohe = OneHotEncoder()\n",
    "encoder_df = pd.DataFrame(ohe.fit_transform(application_df[['jobLevel']]).toarray())\n",
    "ohe.categories_[0]\n",
    "\n",
    "ohe1_df = pd.DataFrame(ohe.fit_transform(application_df[['jobLevel']]).toarray(),columns=ohe.categories_)\n",
    "ohe2_df = pd.DataFrame(ohe.fit_transform(application_df[['typeWorkingName']]).toarray(),columns=ohe.categories_)\n",
    "application_df = pd.concat([application_df,ohe1_df.iloc[:,1:],ohe2_df.iloc[:,1:]],axis=1)\n",
    "application_df = application_df.drop(['jobLevel','typeWorkingName'], axis=1)"
   ]
  },
  {
   "cell_type": "markdown",
   "metadata": {},
   "source": [
    "Với những cột có nhiều hơn 1 giá trị, ta sẽ sử dụng `MultiLabelBinarizer`"
   ]
  },
  {
   "cell_type": "code",
   "execution_count": 11,
   "metadata": {},
   "outputs": [
    {
     "data": {
      "text/html": [
       "<div>\n",
       "<style scoped>\n",
       "    .dataframe tbody tr th:only-of-type {\n",
       "        vertical-align: middle;\n",
       "    }\n",
       "\n",
       "    .dataframe tbody tr th {\n",
       "        vertical-align: top;\n",
       "    }\n",
       "\n",
       "    .dataframe thead th {\n",
       "        text-align: right;\n",
       "    }\n",
       "</style>\n",
       "<table border=\"1\" class=\"dataframe\">\n",
       "  <thead>\n",
       "    <tr style=\"text-align: right;\">\n",
       "      <th></th>\n",
       "      <th>industries</th>\n",
       "      <th>skills</th>\n",
       "      <th>workingLocations</th>\n",
       "    </tr>\n",
       "  </thead>\n",
       "  <tbody>\n",
       "    <tr>\n",
       "      <th>0</th>\n",
       "      <td>Executive management;Electrical/Electronics;Pl...</td>\n",
       "      <td>English;Project Management;Communication;OEM M...</td>\n",
       "      <td>Hai Duong</td>\n",
       "    </tr>\n",
       "    <tr>\n",
       "      <th>1</th>\n",
       "      <td>Executive management;Production/Process;Electr...</td>\n",
       "      <td>Tiếng Anh;Giám Sát Sản Xuất;Sản Xuất;Điện Tử;Q...</td>\n",
       "      <td>Hai Duong;Hai Duong</td>\n",
       "    </tr>\n",
       "    <tr>\n",
       "      <th>2</th>\n",
       "      <td>IT - Software;Banking;IT - Hardware/Networking</td>\n",
       "      <td>Java;.NET;DevOps;Cloud;Kafka</td>\n",
       "      <td>Ha Noi</td>\n",
       "    </tr>\n",
       "    <tr>\n",
       "      <th>3</th>\n",
       "      <td>Banking</td>\n",
       "      <td>Ngân Hàng</td>\n",
       "      <td>Ha Noi</td>\n",
       "    </tr>\n",
       "    <tr>\n",
       "      <th>4</th>\n",
       "      <td>IT - Software;IT - Hardware/Networking;High Te...</td>\n",
       "      <td>Lập Trình Viên / Software Developer;IT Phần Cứ...</td>\n",
       "      <td>Ha Noi</td>\n",
       "    </tr>\n",
       "  </tbody>\n",
       "</table>\n",
       "</div>"
      ],
      "text/plain": [
       "                                          industries  \\\n",
       "0  Executive management;Electrical/Electronics;Pl...   \n",
       "1  Executive management;Production/Process;Electr...   \n",
       "2     IT - Software;Banking;IT - Hardware/Networking   \n",
       "3                                            Banking   \n",
       "4  IT - Software;IT - Hardware/Networking;High Te...   \n",
       "\n",
       "                                              skills     workingLocations  \n",
       "0  English;Project Management;Communication;OEM M...            Hai Duong  \n",
       "1  Tiếng Anh;Giám Sát Sản Xuất;Sản Xuất;Điện Tử;Q...  Hai Duong;Hai Duong  \n",
       "2                       Java;.NET;DevOps;Cloud;Kafka               Ha Noi  \n",
       "3                                          Ngân Hàng               Ha Noi  \n",
       "4  Lập Trình Viên / Software Developer;IT Phần Cứ...               Ha Noi  "
      ]
     },
     "execution_count": 11,
     "metadata": {},
     "output_type": "execute_result"
    }
   ],
   "source": [
    "application_df[['industries','skills','workingLocations']].head()"
   ]
  },
  {
   "cell_type": "code",
   "execution_count": 12,
   "metadata": {},
   "outputs": [],
   "source": [
    "mlb = MultiLabelBinarizer()\n",
    "mlb1_df = pd.DataFrame(mlb.fit_transform(application_df['skills'].apply(lambda x : x.split(';'))),columns=mlb.classes_)\n",
    "mlb2_df = pd.DataFrame(mlb.fit_transform(application_df['industries'].apply(lambda x : x.split(';'))),columns=mlb.classes_)\n",
    "mlb3_df = pd.DataFrame(mlb.fit_transform(application_df['workingLocations'].apply(lambda x : x.split(';'))),columns=mlb.classes_)\n",
    "\n",
    "application_df = pd.concat([application_df,mlb1_df,mlb2_df,mlb3_df],axis=1)\n",
    "application_df = application_df.drop(['skills','industries','workingLocations'], axis=1)\n",
    "\n"
   ]
  },
  {
   "cell_type": "markdown",
   "metadata": {},
   "source": [
    "Đối với cột **approvedOn**, các giá trị đang ở dạng chuỗi, ta sẽ chuyển đổi các dữ liệu này về dạng số (hiệu timestamp) với ý nghĩa là số giờ (h) đã đăng tải   "
   ]
  },
  {
   "cell_type": "code",
   "execution_count": 13,
   "metadata": {},
   "outputs": [],
   "source": [
    "newest_date = application_df['approvedOn'].max()\n",
    "application_df['approvedOn'] = application_df['approvedOn'].apply(lambda x : round((datetime.datetime.fromisoformat(newest_date).timestamp() - datetime.datetime.fromisoformat(x).timestamp())/3600,0))"
   ]
  },
  {
   "attachments": {},
   "cell_type": "markdown",
   "metadata": {},
   "source": [
    "Dữ liệu thu được sau khi hoàn tất quá trình tiền xử lý"
   ]
  },
  {
   "cell_type": "code",
   "execution_count": 14,
   "metadata": {},
   "outputs": [
    {
     "data": {
      "text/html": [
       "<div>\n",
       "<style scoped>\n",
       "    .dataframe tbody tr th:only-of-type {\n",
       "        vertical-align: middle;\n",
       "    }\n",
       "\n",
       "    .dataframe tbody tr th {\n",
       "        vertical-align: top;\n",
       "    }\n",
       "\n",
       "    .dataframe thead th {\n",
       "        text-align: right;\n",
       "    }\n",
       "</style>\n",
       "<table border=\"1\" class=\"dataframe\">\n",
       "  <thead>\n",
       "    <tr style=\"text-align: right;\">\n",
       "      <th></th>\n",
       "      <th>numOfApplications</th>\n",
       "      <th>salary</th>\n",
       "      <th>companySize</th>\n",
       "      <th>approvedOn</th>\n",
       "      <th>(Experienced (non-manager),)</th>\n",
       "      <th>(Fresher/Entry level,)</th>\n",
       "      <th>(Intern/Student,)</th>\n",
       "      <th>(Manager,)</th>\n",
       "      <th>(Full-time,)</th>\n",
       "      <th>(Internship,)</th>\n",
       "      <th>...</th>\n",
       "      <th>Thai Binh</th>\n",
       "      <th>Thai Nguyen</th>\n",
       "      <th>Thanh Hoa</th>\n",
       "      <th>Thua Thien-Hue</th>\n",
       "      <th>Tien Giang</th>\n",
       "      <th>Tra Vinh</th>\n",
       "      <th>Tuyen Quang</th>\n",
       "      <th>Vinh Long</th>\n",
       "      <th>Vinh Phuc</th>\n",
       "      <th>Yen Bai</th>\n",
       "    </tr>\n",
       "  </thead>\n",
       "  <tbody>\n",
       "    <tr>\n",
       "      <th>0</th>\n",
       "      <td>24</td>\n",
       "      <td>1000</td>\n",
       "      <td>300.0</td>\n",
       "      <td>191.0</td>\n",
       "      <td>0.0</td>\n",
       "      <td>0.0</td>\n",
       "      <td>0.0</td>\n",
       "      <td>1.0</td>\n",
       "      <td>1.0</td>\n",
       "      <td>0.0</td>\n",
       "      <td>...</td>\n",
       "      <td>0</td>\n",
       "      <td>0</td>\n",
       "      <td>0</td>\n",
       "      <td>0</td>\n",
       "      <td>0</td>\n",
       "      <td>0</td>\n",
       "      <td>0</td>\n",
       "      <td>0</td>\n",
       "      <td>0</td>\n",
       "      <td>0</td>\n",
       "    </tr>\n",
       "    <tr>\n",
       "      <th>1</th>\n",
       "      <td>7</td>\n",
       "      <td>1000</td>\n",
       "      <td>300.0</td>\n",
       "      <td>198.0</td>\n",
       "      <td>0.0</td>\n",
       "      <td>0.0</td>\n",
       "      <td>0.0</td>\n",
       "      <td>1.0</td>\n",
       "      <td>1.0</td>\n",
       "      <td>0.0</td>\n",
       "      <td>...</td>\n",
       "      <td>0</td>\n",
       "      <td>0</td>\n",
       "      <td>0</td>\n",
       "      <td>0</td>\n",
       "      <td>0</td>\n",
       "      <td>0</td>\n",
       "      <td>0</td>\n",
       "      <td>0</td>\n",
       "      <td>0</td>\n",
       "      <td>0</td>\n",
       "    </tr>\n",
       "    <tr>\n",
       "      <th>2</th>\n",
       "      <td>0</td>\n",
       "      <td>1000</td>\n",
       "      <td>3000.0</td>\n",
       "      <td>189.0</td>\n",
       "      <td>1.0</td>\n",
       "      <td>0.0</td>\n",
       "      <td>0.0</td>\n",
       "      <td>0.0</td>\n",
       "      <td>1.0</td>\n",
       "      <td>0.0</td>\n",
       "      <td>...</td>\n",
       "      <td>0</td>\n",
       "      <td>0</td>\n",
       "      <td>0</td>\n",
       "      <td>0</td>\n",
       "      <td>0</td>\n",
       "      <td>0</td>\n",
       "      <td>0</td>\n",
       "      <td>0</td>\n",
       "      <td>0</td>\n",
       "      <td>0</td>\n",
       "    </tr>\n",
       "    <tr>\n",
       "      <th>3</th>\n",
       "      <td>10</td>\n",
       "      <td>1500</td>\n",
       "      <td>3000.0</td>\n",
       "      <td>533.0</td>\n",
       "      <td>1.0</td>\n",
       "      <td>0.0</td>\n",
       "      <td>0.0</td>\n",
       "      <td>0.0</td>\n",
       "      <td>1.0</td>\n",
       "      <td>0.0</td>\n",
       "      <td>...</td>\n",
       "      <td>0</td>\n",
       "      <td>0</td>\n",
       "      <td>0</td>\n",
       "      <td>0</td>\n",
       "      <td>0</td>\n",
       "      <td>0</td>\n",
       "      <td>0</td>\n",
       "      <td>0</td>\n",
       "      <td>0</td>\n",
       "      <td>0</td>\n",
       "    </tr>\n",
       "    <tr>\n",
       "      <th>4</th>\n",
       "      <td>3</td>\n",
       "      <td>700</td>\n",
       "      <td>750.0</td>\n",
       "      <td>533.0</td>\n",
       "      <td>1.0</td>\n",
       "      <td>0.0</td>\n",
       "      <td>0.0</td>\n",
       "      <td>0.0</td>\n",
       "      <td>1.0</td>\n",
       "      <td>0.0</td>\n",
       "      <td>...</td>\n",
       "      <td>0</td>\n",
       "      <td>0</td>\n",
       "      <td>0</td>\n",
       "      <td>0</td>\n",
       "      <td>0</td>\n",
       "      <td>0</td>\n",
       "      <td>0</td>\n",
       "      <td>0</td>\n",
       "      <td>0</td>\n",
       "      <td>0</td>\n",
       "    </tr>\n",
       "  </tbody>\n",
       "</table>\n",
       "<p>5 rows × 7942 columns</p>\n",
       "</div>"
      ],
      "text/plain": [
       "   numOfApplications  salary  companySize  approvedOn  \\\n",
       "0                 24    1000        300.0       191.0   \n",
       "1                  7    1000        300.0       198.0   \n",
       "2                  0    1000       3000.0       189.0   \n",
       "3                 10    1500       3000.0       533.0   \n",
       "4                  3     700        750.0       533.0   \n",
       "\n",
       "   (Experienced (non-manager),)  (Fresher/Entry level,)  (Intern/Student,)  \\\n",
       "0                           0.0                     0.0                0.0   \n",
       "1                           0.0                     0.0                0.0   \n",
       "2                           1.0                     0.0                0.0   \n",
       "3                           1.0                     0.0                0.0   \n",
       "4                           1.0                     0.0                0.0   \n",
       "\n",
       "   (Manager,)  (Full-time,)  (Internship,)  ...  Thai Binh  Thai Nguyen  \\\n",
       "0         1.0           1.0            0.0  ...          0            0   \n",
       "1         1.0           1.0            0.0  ...          0            0   \n",
       "2         0.0           1.0            0.0  ...          0            0   \n",
       "3         0.0           1.0            0.0  ...          0            0   \n",
       "4         0.0           1.0            0.0  ...          0            0   \n",
       "\n",
       "   Thanh Hoa  Thua Thien-Hue  Tien Giang  Tra Vinh  Tuyen Quang  Vinh Long  \\\n",
       "0          0               0           0         0            0          0   \n",
       "1          0               0           0         0            0          0   \n",
       "2          0               0           0         0            0          0   \n",
       "3          0               0           0         0            0          0   \n",
       "4          0               0           0         0            0          0   \n",
       "\n",
       "   Vinh Phuc  Yen Bai  \n",
       "0          0        0  \n",
       "1          0        0  \n",
       "2          0        0  \n",
       "3          0        0  \n",
       "4          0        0  \n",
       "\n",
       "[5 rows x 7942 columns]"
      ]
     },
     "execution_count": 14,
     "metadata": {},
     "output_type": "execute_result"
    }
   ],
   "source": [
    "application_df.head()"
   ]
  },
  {
   "attachments": {},
   "cell_type": "markdown",
   "metadata": {},
   "source": [
    "Tuy nhiên, sau khi chuyển tất cả các dữ liệu có được về dạng số với 7942 cột, song liệu tất cả các cột này có thật sự hữu ích cho mô hình? Hay ta sẽ chỉ lấy ra các cột có mức độ liên quan cao đến bài toán mà ở đây là đối với cột **numOfApplications**\n",
    "\n",
    "Để làm được điều đó, nhóm sẽ sử dụng phương pháp `Feature Selection`"
   ]
  },
  {
   "attachments": {},
   "cell_type": "markdown",
   "metadata": {},
   "source": [
    "#### Feature Selection"
   ]
  },
  {
   "attachments": {},
   "cell_type": "markdown",
   "metadata": {},
   "source": [
    "Đây là một phương pháp để chọn lọc ra các đặc trưng liên quan, có giá trị đóng góp cao trong quá trình xây dựng mô hình và dự đoán.\n",
    "\n",
    "Tại sao phải sử dụng kĩ thuật Feature selection\n",
    "- Giảm chi phí tính toán về mặt thời gian và bộ nhớ (Với bài toán chứa lượng lớn các feature (cột) trong dữ liệu sẽ gây tốn bộ nhớ và gia tăng thời gian tính toán)\n",
    "\n",
    "- Không phù hợp với các thuật toán (hiệu quả kém đi). Ví dụ như Linear, Decision tree\n",
    "\n",
    "- Giảm hiện tượng overfit\n",
    "\n",
    "- Model sẽ khái quát hóa hơn đối với dữ liệu mới"
   ]
  },
  {
   "attachments": {},
   "cell_type": "markdown",
   "metadata": {},
   "source": [
    "##### Feature Selection for Numeric"
   ]
  },
  {
   "attachments": {},
   "cell_type": "markdown",
   "metadata": {},
   "source": [
    "Ở đây, ta sẽ tính correlation và chọn ra các cột thực sự có ý nghĩa (có mức độ liên quan cao đến bài toán đang xét)"
   ]
  },
  {
   "cell_type": "code",
   "execution_count": 15,
   "metadata": {},
   "outputs": [
    {
     "data": {
      "text/html": [
       "<div>\n",
       "<style scoped>\n",
       "    .dataframe tbody tr th:only-of-type {\n",
       "        vertical-align: middle;\n",
       "    }\n",
       "\n",
       "    .dataframe tbody tr th {\n",
       "        vertical-align: top;\n",
       "    }\n",
       "\n",
       "    .dataframe thead th {\n",
       "        text-align: right;\n",
       "    }\n",
       "</style>\n",
       "<table border=\"1\" class=\"dataframe\">\n",
       "  <thead>\n",
       "    <tr style=\"text-align: right;\">\n",
       "      <th></th>\n",
       "      <th>numOfApplications</th>\n",
       "      <th>salary</th>\n",
       "      <th>companySize</th>\n",
       "      <th>approvedOn</th>\n",
       "    </tr>\n",
       "  </thead>\n",
       "  <tbody>\n",
       "    <tr>\n",
       "      <th>numOfApplications</th>\n",
       "      <td>1.000000</td>\n",
       "      <td>0.026395</td>\n",
       "      <td>0.019131</td>\n",
       "      <td>0.272530</td>\n",
       "    </tr>\n",
       "    <tr>\n",
       "      <th>salary</th>\n",
       "      <td>0.026395</td>\n",
       "      <td>1.000000</td>\n",
       "      <td>-0.001105</td>\n",
       "      <td>0.017109</td>\n",
       "    </tr>\n",
       "    <tr>\n",
       "      <th>companySize</th>\n",
       "      <td>0.019131</td>\n",
       "      <td>-0.001105</td>\n",
       "      <td>1.000000</td>\n",
       "      <td>-0.011494</td>\n",
       "    </tr>\n",
       "    <tr>\n",
       "      <th>approvedOn</th>\n",
       "      <td>0.272530</td>\n",
       "      <td>0.017109</td>\n",
       "      <td>-0.011494</td>\n",
       "      <td>1.000000</td>\n",
       "    </tr>\n",
       "  </tbody>\n",
       "</table>\n",
       "</div>"
      ],
      "text/plain": [
       "                   numOfApplications    salary  companySize  approvedOn\n",
       "numOfApplications           1.000000  0.026395     0.019131    0.272530\n",
       "salary                      0.026395  1.000000    -0.001105    0.017109\n",
       "companySize                 0.019131 -0.001105     1.000000   -0.011494\n",
       "approvedOn                  0.272530  0.017109    -0.011494    1.000000"
      ]
     },
     "execution_count": 15,
     "metadata": {},
     "output_type": "execute_result"
    }
   ],
   "source": [
    "numeric_df = application_df[['numOfApplications','salary','companySize','approvedOn']].copy()\n",
    "corr = numeric_df.corr()\n",
    "corr"
   ]
  },
  {
   "attachments": {},
   "cell_type": "markdown",
   "metadata": {},
   "source": [
    "Dùng biểu đồ heatmap để mô tả mức độ liên quan của các cột"
   ]
  },
  {
   "cell_type": "code",
   "execution_count": 16,
   "metadata": {},
   "outputs": [
    {
     "data": {
      "text/plain": [
       "<AxesSubplot:>"
      ]
     },
     "execution_count": 16,
     "metadata": {},
     "output_type": "execute_result"
    },
    {
     "data": {
      "image/png": "[encoded data removed]",
      "text/plain": [
       "<Figure size 800x600 with 2 Axes>"
      ]
     },
     "metadata": {},
     "output_type": "display_data"
    }
   ],
   "source": [
    "plt.figure(figsize=(8,6))\n",
    "sns.heatmap(corr, annot=True)"
   ]
  },
  {
   "attachments": {},
   "cell_type": "markdown",
   "metadata": {},
   "source": [
    "Vì các cột **salary**, **companySize** có corr thấp (không có ý nghĩa cho việc xây dựng mô hình), nên ta sẽ loại bỏ các cột này  "
   ]
  },
  {
   "cell_type": "code",
   "execution_count": 17,
   "metadata": {},
   "outputs": [],
   "source": [
    "application_df = application_df.drop(['salary','companySize'], axis=1)"
   ]
  },
  {
   "attachments": {},
   "cell_type": "markdown",
   "metadata": {},
   "source": [
    "##### Feature Selection for Categorical"
   ]
  },
  {
   "attachments": {},
   "cell_type": "markdown",
   "metadata": {},
   "source": [
    "Ở đây nhóm sẽ sử dụng **Chi-Square** để lấy ra các đặc trưng có mức độ liên quan cao đối với các cột có kiểu là `Categorical` mà ta đã encode về dạng số trước đó"
   ]
  },
  {
   "cell_type": "code",
   "execution_count": 18,
   "metadata": {},
   "outputs": [
    {
     "data": {
      "text/plain": [
       "(array([132.43441896, 231.3323097 , 471.91329554, ..., 628.4268634 ,\n",
       "        148.19420978, 565.8936017 ]),\n",
       " array([9.99999994e-01, 5.73596452e-01, 6.94855886e-18, ...,\n",
       "        2.07184043e-37, 9.99998414e-01, 3.96618791e-29]))"
      ]
     },
     "execution_count": 18,
     "metadata": {},
     "output_type": "execute_result"
    }
   ],
   "source": [
    "categorical_df = application_df.drop(['numOfApplications', 'approvedOn'], axis=1)\n",
    "chi_scores = chi2(categorical_df, application_df['numOfApplications'])\n",
    "chi_scores"
   ]
  },
  {
   "attachments": {},
   "cell_type": "markdown",
   "metadata": {},
   "source": [
    "Top 10 những thuộc tính có mức độ liên quan cao nhất"
   ]
  },
  {
   "cell_type": "code",
   "execution_count": 19,
   "metadata": {},
   "outputs": [
    {
     "data": {
      "text/plain": [
       "<AxesSubplot:>"
      ]
     },
     "execution_count": 19,
     "metadata": {},
     "output_type": "execute_result"
    },
    {
     "data": {
      "image/png": "[encoded data removed]",
      "text/plain": [
       "<Figure size 640x480 with 1 Axes>"
      ]
     },
     "metadata": {},
     "output_type": "display_data"
    }
   ],
   "source": [
    "chi_values = pd.Series(chi_scores[0], index=categorical_df.columns)\n",
    "chi_values = chi_values.sort_values(ascending=False)\n",
    "chi_values[:10].plot.bar()"
   ]
  },
  {
   "attachments": {},
   "cell_type": "markdown",
   "metadata": {},
   "source": [
    "Top 10 những thuộc tính có mức độ liên quan thấp nhất"
   ]
  },
  {
   "cell_type": "code",
   "execution_count": 20,
   "metadata": {},
   "outputs": [
    {
     "data": {
      "text/plain": [
       "<AxesSubplot:>"
      ]
     },
     "execution_count": 20,
     "metadata": {},
     "output_type": "execute_result"
    },
    {
     "data": {
      "image/png": "[encoded data removed]",
      "text/plain": [
       "<Figure size 640x480 with 1 Axes>"
      ]
     },
     "metadata": {},
     "output_type": "display_data"
    }
   ],
   "source": [
    "p_values = pd.Series(chi_scores[1], index=categorical_df.columns)\n",
    "p_values = p_values.sort_values(ascending=False)\n",
    "p_values[:10].plot.bar()"
   ]
  },
  {
   "attachments": {},
   "cell_type": "markdown",
   "metadata": {},
   "source": [
    "Ta sẽ loại bỏ đi những cột mà có p-value > 0.05 (Tức có ít liên quan đến với việc dự đoán của bài toán)"
   ]
  },
  {
   "cell_type": "code",
   "execution_count": 21,
   "metadata": {},
   "outputs": [],
   "source": [
    "lower_importance_columns = p_values[p_values.values > 0.05].index.values\n",
    "application_df = application_df.drop(columns=lower_importance_columns, axis=1)"
   ]
  },
  {
   "attachments": {},
   "cell_type": "markdown",
   "metadata": {},
   "source": [
    "Dữ liệu cuối cùng có được sử dụng cho phần dự đoán"
   ]
  },
  {
   "cell_type": "code",
   "execution_count": 22,
   "metadata": {},
   "outputs": [
    {
     "data": {
      "text/html": [
       "<div>\n",
       "<style scoped>\n",
       "    .dataframe tbody tr th:only-of-type {\n",
       "        vertical-align: middle;\n",
       "    }\n",
       "\n",
       "    .dataframe tbody tr th {\n",
       "        vertical-align: top;\n",
       "    }\n",
       "\n",
       "    .dataframe thead th {\n",
       "        text-align: right;\n",
       "    }\n",
       "</style>\n",
       "<table border=\"1\" class=\"dataframe\">\n",
       "  <thead>\n",
       "    <tr style=\"text-align: right;\">\n",
       "      <th></th>\n",
       "      <th>numOfApplications</th>\n",
       "      <th>approvedOn</th>\n",
       "      <th>(Intern/Student,)</th>\n",
       "      <th>(Manager,)</th>\n",
       "      <th>(Part-time,)</th>\n",
       "      <th>(Seasonal,)</th>\n",
       "      <th>2D Graphic Design</th>\n",
       "      <th>3D Modelling</th>\n",
       "      <th>ASM Miền Đông</th>\n",
       "      <th>ATM</th>\n",
       "      <th>...</th>\n",
       "      <th>Can Tho</th>\n",
       "      <th>Dong Thap</th>\n",
       "      <th>Ho Chi Minh</th>\n",
       "      <th>Khanh Hoa</th>\n",
       "      <th>Long An</th>\n",
       "      <th>Mekong Delta</th>\n",
       "      <th>Other</th>\n",
       "      <th>Tay Ninh</th>\n",
       "      <th>Vinh Long</th>\n",
       "      <th>Yen Bai</th>\n",
       "    </tr>\n",
       "  </thead>\n",
       "  <tbody>\n",
       "    <tr>\n",
       "      <th>0</th>\n",
       "      <td>24</td>\n",
       "      <td>191.0</td>\n",
       "      <td>0.0</td>\n",
       "      <td>1.0</td>\n",
       "      <td>0.0</td>\n",
       "      <td>0.0</td>\n",
       "      <td>0</td>\n",
       "      <td>0</td>\n",
       "      <td>0</td>\n",
       "      <td>0</td>\n",
       "      <td>...</td>\n",
       "      <td>0</td>\n",
       "      <td>0</td>\n",
       "      <td>0</td>\n",
       "      <td>0</td>\n",
       "      <td>0</td>\n",
       "      <td>0</td>\n",
       "      <td>0</td>\n",
       "      <td>0</td>\n",
       "      <td>0</td>\n",
       "      <td>0</td>\n",
       "    </tr>\n",
       "    <tr>\n",
       "      <th>1</th>\n",
       "      <td>7</td>\n",
       "      <td>198.0</td>\n",
       "      <td>0.0</td>\n",
       "      <td>1.0</td>\n",
       "      <td>0.0</td>\n",
       "      <td>0.0</td>\n",
       "      <td>0</td>\n",
       "      <td>0</td>\n",
       "      <td>0</td>\n",
       "      <td>0</td>\n",
       "      <td>...</td>\n",
       "      <td>0</td>\n",
       "      <td>0</td>\n",
       "      <td>0</td>\n",
       "      <td>0</td>\n",
       "      <td>0</td>\n",
       "      <td>0</td>\n",
       "      <td>0</td>\n",
       "      <td>0</td>\n",
       "      <td>0</td>\n",
       "      <td>0</td>\n",
       "    </tr>\n",
       "    <tr>\n",
       "      <th>2</th>\n",
       "      <td>0</td>\n",
       "      <td>189.0</td>\n",
       "      <td>0.0</td>\n",
       "      <td>0.0</td>\n",
       "      <td>0.0</td>\n",
       "      <td>0.0</td>\n",
       "      <td>0</td>\n",
       "      <td>0</td>\n",
       "      <td>0</td>\n",
       "      <td>0</td>\n",
       "      <td>...</td>\n",
       "      <td>0</td>\n",
       "      <td>0</td>\n",
       "      <td>0</td>\n",
       "      <td>0</td>\n",
       "      <td>0</td>\n",
       "      <td>0</td>\n",
       "      <td>0</td>\n",
       "      <td>0</td>\n",
       "      <td>0</td>\n",
       "      <td>0</td>\n",
       "    </tr>\n",
       "    <tr>\n",
       "      <th>3</th>\n",
       "      <td>10</td>\n",
       "      <td>533.0</td>\n",
       "      <td>0.0</td>\n",
       "      <td>0.0</td>\n",
       "      <td>0.0</td>\n",
       "      <td>0.0</td>\n",
       "      <td>0</td>\n",
       "      <td>0</td>\n",
       "      <td>0</td>\n",
       "      <td>0</td>\n",
       "      <td>...</td>\n",
       "      <td>0</td>\n",
       "      <td>0</td>\n",
       "      <td>0</td>\n",
       "      <td>0</td>\n",
       "      <td>0</td>\n",
       "      <td>0</td>\n",
       "      <td>0</td>\n",
       "      <td>0</td>\n",
       "      <td>0</td>\n",
       "      <td>0</td>\n",
       "    </tr>\n",
       "    <tr>\n",
       "      <th>4</th>\n",
       "      <td>3</td>\n",
       "      <td>533.0</td>\n",
       "      <td>0.0</td>\n",
       "      <td>0.0</td>\n",
       "      <td>0.0</td>\n",
       "      <td>0.0</td>\n",
       "      <td>0</td>\n",
       "      <td>0</td>\n",
       "      <td>0</td>\n",
       "      <td>0</td>\n",
       "      <td>...</td>\n",
       "      <td>0</td>\n",
       "      <td>0</td>\n",
       "      <td>0</td>\n",
       "      <td>0</td>\n",
       "      <td>0</td>\n",
       "      <td>0</td>\n",
       "      <td>0</td>\n",
       "      <td>0</td>\n",
       "      <td>0</td>\n",
       "      <td>0</td>\n",
       "    </tr>\n",
       "  </tbody>\n",
       "</table>\n",
       "<p>5 rows × 1300 columns</p>\n",
       "</div>"
      ],
      "text/plain": [
       "   numOfApplications  approvedOn  (Intern/Student,)  (Manager,)  (Part-time,)  \\\n",
       "0                 24       191.0                0.0         1.0           0.0   \n",
       "1                  7       198.0                0.0         1.0           0.0   \n",
       "2                  0       189.0                0.0         0.0           0.0   \n",
       "3                 10       533.0                0.0         0.0           0.0   \n",
       "4                  3       533.0                0.0         0.0           0.0   \n",
       "\n",
       "   (Seasonal,)  2D Graphic Design  3D Modelling  ASM Miền Đông  ATM  ...  \\\n",
       "0          0.0                  0             0              0    0  ...   \n",
       "1          0.0                  0             0              0    0  ...   \n",
       "2          0.0                  0             0              0    0  ...   \n",
       "3          0.0                  0             0              0    0  ...   \n",
       "4          0.0                  0             0              0    0  ...   \n",
       "\n",
       "   Can Tho  Dong Thap  Ho Chi Minh  Khanh Hoa  Long An  Mekong Delta  Other  \\\n",
       "0        0          0            0          0        0             0      0   \n",
       "1        0          0            0          0        0             0      0   \n",
       "2        0          0            0          0        0             0      0   \n",
       "3        0          0            0          0        0             0      0   \n",
       "4        0          0            0          0        0             0      0   \n",
       "\n",
       "   Tay Ninh  Vinh Long  Yen Bai  \n",
       "0         0          0        0  \n",
       "1         0          0        0  \n",
       "2         0          0        0  \n",
       "3         0          0        0  \n",
       "4         0          0        0  \n",
       "\n",
       "[5 rows x 1300 columns]"
      ]
     },
     "execution_count": 22,
     "metadata": {},
     "output_type": "execute_result"
    }
   ],
   "source": [
    "application_df.head()"
   ]
  },
  {
   "cell_type": "markdown",
   "metadata": {},
   "source": [
    "### Multiple Layer Perception Regression\n"
   ]
  },
  {
   "cell_type": "markdown",
   "metadata": {},
   "source": [
    "Chọn các tập dữ liệu (independent variable) X và tập giá trị (dependent variable) Y cần thiết cho việc mô hình bài toán đang xét"
   ]
  },
  {
   "cell_type": "code",
   "execution_count": 23,
   "metadata": {},
   "outputs": [],
   "source": [
    "y1 = application_df['numOfApplications']\n",
    "X1 = application_df.drop(['numOfApplications'],axis = 1)"
   ]
  },
  {
   "cell_type": "markdown",
   "metadata": {},
   "source": [
    "Chia tập bộ dữ liệu thành các tập train (tập huấn luyện) và tập test (Tập kiểm tra)\n",
    "- Tập train là tập dữ liệu được sử dụng để huấn luyện mô hình. Các thuật toán học máy sẽ học các mô hình từ tập huấn luyện này. Việc học sẽ khác nhau tùy thuộc vào thuật toán và mô hình sử dụng\n",
    "- Tập test là tập giá trị được sử dụng để đánh giá độ chính xác hoặc sai số của mô hình dự đoán đã được huấn luyện. Ta cần so sánh với tập test để đánh giá khả năng tổng quát hóa với những dữ liệu không chỉ đã học mà còn với những dữ liệu mới, chưa gặp trước đó."
   ]
  },
  {
   "cell_type": "code",
   "execution_count": 24,
   "metadata": {},
   "outputs": [],
   "source": [
    "#Ta sẽ chọn 80% cho tập train và 20% cho tập test\n",
    "X1_train,X1_test, y1_train, y1_test = train_test_split(X1,y1,test_size = 0.2,random_state = 0)"
   ]
  },
  {
   "cell_type": "markdown",
   "metadata": {},
   "source": [
    "Scale dữ liệu (Feature scaling)\n",
    "\n",
    "- Đây là một phương pháp được dùng để scale (điều chỉnh) phạm vi của các giá trị để làm cho phù hợp với các giá trị đặc trưng trong tập dữ liệu, đặc biệt đối với những tập có phạm vi chênh lệch lớn.\n",
    "- Có 2 cách phổ biến để scale dữ liệu đó là Normalization và Standardization. Trong đó Normalization sẽ scale khoảng dữ liệu bất kì về 0 -> 1, còn Standardization sẽ scale dữ liệu về một phân bố trong đó giá trị trung bình của các quan sát là 0 và độ lệch chuẩn là 1.\n",
    "\n",
    "Ở bài toán này, ta sẽ scale các dữ liệu ở các cột **salary**, **companySize**,**approvedOn** bằng phương pháp Standardization bằng StandardScaler (thư viện có sẵn của scikit-learn)"
   ]
  },
  {
   "cell_type": "code",
   "execution_count": 25,
   "metadata": {},
   "outputs": [],
   "source": [
    "sc=StandardScaler()\n",
    "X1_train[['approvedOn']] = sc.fit_transform(X1_train[['approvedOn']])\n",
    "X1_test[['approvedOn']] = sc.fit_transform(X1_test[['approvedOn']])"
   ]
  },
  {
   "cell_type": "markdown",
   "metadata": {},
   "source": [
    "Sau khi đã chia các tập dữ liệu và scale, ta tiến hành khởi tạo mô hình Multiple layer perception Regression và đưa tập train vào để tiến hành huấn luyện."
   ]
  },
  {
   "cell_type": "code",
   "execution_count": 26,
   "metadata": {},
   "outputs": [
    {
     "name": "stdout",
     "output_type": "stream",
     "text": [
      "Iteration 1, loss = 816.29149137\n",
      "Validation score: 0.194178\n",
      "Iteration 2, loss = 534.69306806\n",
      "Validation score: 0.279616\n",
      "Iteration 3, loss = 442.35160024\n",
      "Validation score: 0.282275\n",
      "Iteration 4, loss = 331.20079412\n",
      "Validation score: 0.270303\n",
      "Iteration 5, loss = 241.07307440\n",
      "Validation score: 0.224717\n",
      "Iteration 6, loss = 185.74938988\n",
      "Validation score: 0.262003\n",
      "Iteration 7, loss = 154.26889565\n",
      "Validation score: 0.233974\n",
      "Iteration 8, loss = 139.83485717\n",
      "Validation score: 0.231855\n",
      "Iteration 9, loss = 129.40809014\n",
      "Validation score: 0.242811\n",
      "Iteration 10, loss = 122.51755291\n",
      "Validation score: 0.222708\n",
      "Iteration 11, loss = 119.15164695\n",
      "Validation score: 0.214522\n",
      "Iteration 12, loss = 112.30615843\n",
      "Validation score: 0.227717\n",
      "Iteration 13, loss = 107.19694358\n",
      "Validation score: 0.206388\n",
      "Iteration 14, loss = 104.62457192\n",
      "Validation score: 0.225908\n",
      "Validation score did not improve more than tol=0.000100 for 10 consecutive epochs. Stopping.\n"
     ]
    }
   ],
   "source": [
    "mlpregressor = MLPRegressor(hidden_layer_sizes=(256, 512, 512, 256, ),random_state=0, max_iter=500, early_stopping=True, verbose=1)\n",
    "\n",
    "model = mlpregressor.fit(X1_train,y1_train)"
   ]
  },
  {
   "attachments": {},
   "cell_type": "markdown",
   "metadata": {},
   "source": [
    "Tiến hành dự đoán"
   ]
  },
  {
   "cell_type": "code",
   "execution_count": 27,
   "metadata": {},
   "outputs": [],
   "source": [
    "y1_pred = model.predict(X1_test)"
   ]
  },
  {
   "cell_type": "markdown",
   "metadata": {},
   "source": [
    "So sánh các giá trị dự đoán được với dữ liệu trong tập test"
   ]
  },
  {
   "cell_type": "code",
   "execution_count": 28,
   "metadata": {},
   "outputs": [
    {
     "data": {
      "text/html": [
       "<div>\n",
       "<style scoped>\n",
       "    .dataframe tbody tr th:only-of-type {\n",
       "        vertical-align: middle;\n",
       "    }\n",
       "\n",
       "    .dataframe tbody tr th {\n",
       "        vertical-align: top;\n",
       "    }\n",
       "\n",
       "    .dataframe thead th {\n",
       "        text-align: right;\n",
       "    }\n",
       "</style>\n",
       "<table border=\"1\" class=\"dataframe\">\n",
       "  <thead>\n",
       "    <tr style=\"text-align: right;\">\n",
       "      <th></th>\n",
       "      <th>Actual</th>\n",
       "      <th>Predicted</th>\n",
       "    </tr>\n",
       "  </thead>\n",
       "  <tbody>\n",
       "    <tr>\n",
       "      <th>5362</th>\n",
       "      <td>10</td>\n",
       "      <td>61.370444</td>\n",
       "    </tr>\n",
       "    <tr>\n",
       "      <th>7332</th>\n",
       "      <td>41</td>\n",
       "      <td>36.668656</td>\n",
       "    </tr>\n",
       "    <tr>\n",
       "      <th>273</th>\n",
       "      <td>50</td>\n",
       "      <td>28.705180</td>\n",
       "    </tr>\n",
       "    <tr>\n",
       "      <th>4915</th>\n",
       "      <td>12</td>\n",
       "      <td>32.785377</td>\n",
       "    </tr>\n",
       "    <tr>\n",
       "      <th>6578</th>\n",
       "      <td>9</td>\n",
       "      <td>53.345228</td>\n",
       "    </tr>\n",
       "    <tr>\n",
       "      <th>...</th>\n",
       "      <td>...</td>\n",
       "      <td>...</td>\n",
       "    </tr>\n",
       "    <tr>\n",
       "      <th>4105</th>\n",
       "      <td>10</td>\n",
       "      <td>16.585130</td>\n",
       "    </tr>\n",
       "    <tr>\n",
       "      <th>5338</th>\n",
       "      <td>87</td>\n",
       "      <td>15.232508</td>\n",
       "    </tr>\n",
       "    <tr>\n",
       "      <th>993</th>\n",
       "      <td>22</td>\n",
       "      <td>27.313292</td>\n",
       "    </tr>\n",
       "    <tr>\n",
       "      <th>1570</th>\n",
       "      <td>17</td>\n",
       "      <td>27.292318</td>\n",
       "    </tr>\n",
       "    <tr>\n",
       "      <th>286</th>\n",
       "      <td>43</td>\n",
       "      <td>54.271844</td>\n",
       "    </tr>\n",
       "  </tbody>\n",
       "</table>\n",
       "<p>1610 rows × 2 columns</p>\n",
       "</div>"
      ],
      "text/plain": [
       "      Actual  Predicted\n",
       "5362      10  61.370444\n",
       "7332      41  36.668656\n",
       "273       50  28.705180\n",
       "4915      12  32.785377\n",
       "6578       9  53.345228\n",
       "...      ...        ...\n",
       "4105      10  16.585130\n",
       "5338      87  15.232508\n",
       "993       22  27.313292\n",
       "1570      17  27.292318\n",
       "286       43  54.271844\n",
       "\n",
       "[1610 rows x 2 columns]"
      ]
     },
     "execution_count": 28,
     "metadata": {},
     "output_type": "execute_result"
    }
   ],
   "source": [
    "comparison_df = pd.DataFrame({'Actual': y1_test,'Predicted': y1_pred})\n",
    "comparison_df"
   ]
  },
  {
   "cell_type": "code",
   "execution_count": 29,
   "metadata": {},
   "outputs": [
    {
     "data": {
      "image/png": "[encoded data removed]",
      "text/plain": [
       "<Figure size 640x480 with 1 Axes>"
      ]
     },
     "metadata": {},
     "output_type": "display_data"
    }
   ],
   "source": [
    "plt.title(\"Distribution of y predicted and y actual\")\n",
    "ax1=sns.kdeplot(y1_test, label = 'Actual')\n",
    "sns.kdeplot(y1_pred, ax=ax1, label = 'Predicted')\n",
    "ax1.legend(loc=\"upper right\")\n",
    "plt.show()"
   ]
  },
  {
   "cell_type": "code",
   "execution_count": 30,
   "metadata": {},
   "outputs": [
    {
     "data": {
      "image/png": "[encoded data removed]",
      "text/plain": [
       "<Figure size 640x480 with 1 Axes>"
      ]
     },
     "metadata": {},
     "output_type": "display_data"
    }
   ],
   "source": [
    "sns.set_theme()\n",
    "sns.scatterplot(x = y1_test,y = y1_pred)\n",
    "plt.xlabel('Actual')\n",
    "plt.ylabel('Predicted')\n",
    "plt.show()"
   ]
  },
  {
   "cell_type": "markdown",
   "metadata": {},
   "source": [
    "### Random Forest Regression"
   ]
  },
  {
   "cell_type": "markdown",
   "metadata": {},
   "source": [
    "Chọn các tập dữ liệu (independent variable) X và tập giá trị (dependent variable) Y cần thiết cho việc mô hình bài toán đang xét"
   ]
  },
  {
   "cell_type": "code",
   "execution_count": 31,
   "metadata": {},
   "outputs": [],
   "source": [
    "y2 = application_df['numOfApplications']\n",
    "X2 = application_df.drop(['numOfApplications'], axis=1)"
   ]
  },
  {
   "cell_type": "markdown",
   "metadata": {},
   "source": [
    "Chia tập bộ dữ liệu thành các tập train (tập huấn luyện) và tập test (Tập kiểm tra)\n",
    "- Tập train là tập dữ liệu được sử dụng để huấn luyện mô hình. Các thuật toán học máy sẽ học các mô hình từ tập huấn luyện này. Việc học sẽ khác nhau tùy thuộc vào thuật toán và mô hình sử dụng\n",
    "- Tập test là tập giá trị được sử dụng để đánh giá độ chính xác hoặc sai số của mô hình dự đoán đã được huấn luyện. Ta cần so sánh với tập test để đánh giá khả năng tổng quát hóa với những dữ liệu không chỉ đã học mà còn với những dữ liệu mới, chưa gặp trước đó."
   ]
  },
  {
   "cell_type": "code",
   "execution_count": 32,
   "metadata": {},
   "outputs": [],
   "source": [
    "#Ta sẽ chọn 80% cho tập train và 20% cho tập test\n",
    "X2_train, X2_test, y2_train, y2_test = train_test_split(X2,y2,test_size=0.2,random_state=0)"
   ]
  },
  {
   "cell_type": "markdown",
   "metadata": {},
   "source": [
    "Scale dữ liệu (Feature scaling)\n",
    "\n",
    "- Đây là một phương pháp được dùng để scale (điều chỉnh) phạm vi của các giá trị để làm cho phù hợp với các giá trị đặc trưng trong tập dữ liệu, đặc biệt đối với những tập có phạm vi chênh lệch lớn.\n",
    "- Có 2 cách phổ biến để scale dữ liệu đó là Normalization và Standardization. Trong đó Normalization sẽ scale khoảng dữ liệu bất kì về 0 -> 1, còn Standardization sẽ scale dữ liệu về một phân bố trong đó giá trị trung bình của các quan sát là 0 và độ lệch chuẩn là 1.\n",
    "\n",
    "Ở bài toán này, ta sẽ scale các dữ liệu ở các cột **salary**, **companySize**,**approvedOn** bằng phương pháp Standardization bằng StandardScaler (thư viện có sẵn của scikit-learn)"
   ]
  },
  {
   "cell_type": "code",
   "execution_count": 33,
   "metadata": {},
   "outputs": [],
   "source": [
    "sc=StandardScaler()\n",
    "X2_train[['approvedOn']] = sc.fit_transform(X2_train[['approvedOn']])\n",
    "X2_test[['approvedOn']] = sc.fit_transform(X2_test[['approvedOn']])"
   ]
  },
  {
   "cell_type": "markdown",
   "metadata": {},
   "source": [
    "Sau khi đã chia các tập dữ liệu và scale, ta tiến hành khởi tạo mô hình Random Forest Regression và đưa tập train vào để tiến hành huấn luyện."
   ]
  },
  {
   "cell_type": "code",
   "execution_count": 34,
   "metadata": {},
   "outputs": [
    {
     "data": {
      "text/html": [
       "<style>#sk-container-id-1 {color: black;background-color: white;}#sk-container-id-1 pre{padding: 0;}#sk-container-id-1 div.sk-toggleable {background-color: white;}#sk-container-id-1 label.sk-toggleable__label {cursor: pointer;display: block;width: 100%;margin-bottom: 0;padding: 0.3em;box-sizing: border-box;text-align: center;}#sk-container-id-1 label.sk-toggleable__label-arrow:before {content: \"▸\";float: left;margin-right: 0.25em;color: #696969;}#sk-container-id-1 label.sk-toggleable__label-arrow:hover:before {color: black;}#sk-container-id-1 div.sk-estimator:hover label.sk-toggleable__label-arrow:before {color: black;}#sk-container-id-1 div.sk-toggleable__content {max-height: 0;max-width: 0;overflow: hidden;text-align: left;background-color: #f0f8ff;}#sk-container-id-1 div.sk-toggleable__content pre {margin: 0.2em;color: black;border-radius: 0.25em;background-color: #f0f8ff;}#sk-container-id-1 input.sk-toggleable__control:checked~div.sk-toggleable__content {max-height: 200px;max-width: 100%;overflow: auto;}#sk-container-id-1 input.sk-toggleable__control:checked~label.sk-toggleable__label-arrow:before {content: \"▾\";}#sk-container-id-1 div.sk-estimator input.sk-toggleable__control:checked~label.sk-toggleable__label {background-color: #d4ebff;}#sk-container-id-1 div.sk-label input.sk-toggleable__control:checked~label.sk-toggleable__label {background-color: #d4ebff;}#sk-container-id-1 input.sk-hidden--visually {border: 0;clip: rect(1px 1px 1px 1px);clip: rect(1px, 1px, 1px, 1px);height: 1px;margin: -1px;overflow: hidden;padding: 0;position: absolute;width: 1px;}#sk-container-id-1 div.sk-estimator {font-family: monospace;background-color: #f0f8ff;border: 1px dotted black;border-radius: 0.25em;box-sizing: border-box;margin-bottom: 0.5em;}#sk-container-id-1 div.sk-estimator:hover {background-color: #d4ebff;}#sk-container-id-1 div.sk-parallel-item::after {content: \"\";width: 100%;border-bottom: 1px solid gray;flex-grow: 1;}#sk-container-id-1 div.sk-label:hover label.sk-toggleable__label {background-color: #d4ebff;}#sk-container-id-1 div.sk-serial::before {content: \"\";position: absolute;border-left: 1px solid gray;box-sizing: border-box;top: 0;bottom: 0;left: 50%;z-index: 0;}#sk-container-id-1 div.sk-serial {display: flex;flex-direction: column;align-items: center;background-color: white;padding-right: 0.2em;padding-left: 0.2em;position: relative;}#sk-container-id-1 div.sk-item {position: relative;z-index: 1;}#sk-container-id-1 div.sk-parallel {display: flex;align-items: stretch;justify-content: center;background-color: white;position: relative;}#sk-container-id-1 div.sk-item::before, #sk-container-id-1 div.sk-parallel-item::before {content: \"\";position: absolute;border-left: 1px solid gray;box-sizing: border-box;top: 0;bottom: 0;left: 50%;z-index: -1;}#sk-container-id-1 div.sk-parallel-item {display: flex;flex-direction: column;z-index: 1;position: relative;background-color: white;}#sk-container-id-1 div.sk-parallel-item:first-child::after {align-self: flex-end;width: 50%;}#sk-container-id-1 div.sk-parallel-item:last-child::after {align-self: flex-start;width: 50%;}#sk-container-id-1 div.sk-parallel-item:only-child::after {width: 0;}#sk-container-id-1 div.sk-dashed-wrapped {border: 1px dashed gray;margin: 0 0.4em 0.5em 0.4em;box-sizing: border-box;padding-bottom: 0.4em;background-color: white;}#sk-container-id-1 div.sk-label label {font-family: monospace;font-weight: bold;display: inline-block;line-height: 1.2em;}#sk-container-id-1 div.sk-label-container {text-align: center;}#sk-container-id-1 div.sk-container {/* jupyter's `normalize.less` sets `[hidden] { display: none; }` but bootstrap.min.css set `[hidden] { display: none !important; }` so we also need the `!important` here to be able to override the default hidden behavior on the sphinx rendered scikit-learn.org. See: https://github.com/scikit-learn/scikit-learn/issues/21755 */display: inline-block !important;position: relative;}#sk-container-id-1 div.sk-text-repr-fallback {display: none;}</style><div id=\"sk-container-id-1\" class=\"sk-top-container\"><div class=\"sk-text-repr-fallback\"><pre>RandomForestRegressor(random_state=0)</pre><b>In a Jupyter environment, please rerun this cell to show the HTML representation or trust the notebook. <br />On GitHub, the HTML representation is unable to render, please try loading this page with nbviewer.org.</b></div><div class=\"sk-container\" hidden><div class=\"sk-item\"><div class=\"sk-estimator sk-toggleable\"><input class=\"sk-toggleable__control sk-hidden--visually\" id=\"sk-estimator-id-1\" type=\"checkbox\" checked><label for=\"sk-estimator-id-1\" class=\"sk-toggleable__label sk-toggleable__label-arrow\">RandomForestRegressor</label><div class=\"sk-toggleable__content\"><pre>RandomForestRegressor(random_state=0)</pre></div></div></div></div></div>"
      ],
      "text/plain": [
       "RandomForestRegressor(random_state=0)"
      ]
     },
     "execution_count": 34,
     "metadata": {},
     "output_type": "execute_result"
    }
   ],
   "source": [
    "model = RandomForestRegressor(n_estimators = 100, random_state = 0)\n",
    "model.fit(X2_train, y2_train) "
   ]
  },
  {
   "attachments": {},
   "cell_type": "markdown",
   "metadata": {},
   "source": [
    "Tiến hành dự đoán"
   ]
  },
  {
   "cell_type": "code",
   "execution_count": 35,
   "metadata": {},
   "outputs": [],
   "source": [
    "y2_pred = model.predict(X2_test)"
   ]
  },
  {
   "cell_type": "markdown",
   "metadata": {},
   "source": [
    "So sánh các giá trị dự đoán được với dữ liệu trong tập test"
   ]
  },
  {
   "cell_type": "code",
   "execution_count": 36,
   "metadata": {},
   "outputs": [
    {
     "data": {
      "text/html": [
       "<div>\n",
       "<style scoped>\n",
       "    .dataframe tbody tr th:only-of-type {\n",
       "        vertical-align: middle;\n",
       "    }\n",
       "\n",
       "    .dataframe tbody tr th {\n",
       "        vertical-align: top;\n",
       "    }\n",
       "\n",
       "    .dataframe thead th {\n",
       "        text-align: right;\n",
       "    }\n",
       "</style>\n",
       "<table border=\"1\" class=\"dataframe\">\n",
       "  <thead>\n",
       "    <tr style=\"text-align: right;\">\n",
       "      <th></th>\n",
       "      <th>Actual</th>\n",
       "      <th>Predicted</th>\n",
       "    </tr>\n",
       "  </thead>\n",
       "  <tbody>\n",
       "    <tr>\n",
       "      <th>5362</th>\n",
       "      <td>10</td>\n",
       "      <td>21.360667</td>\n",
       "    </tr>\n",
       "    <tr>\n",
       "      <th>7332</th>\n",
       "      <td>41</td>\n",
       "      <td>26.280000</td>\n",
       "    </tr>\n",
       "    <tr>\n",
       "      <th>273</th>\n",
       "      <td>50</td>\n",
       "      <td>12.381024</td>\n",
       "    </tr>\n",
       "    <tr>\n",
       "      <th>4915</th>\n",
       "      <td>12</td>\n",
       "      <td>13.200968</td>\n",
       "    </tr>\n",
       "    <tr>\n",
       "      <th>6578</th>\n",
       "      <td>9</td>\n",
       "      <td>34.805333</td>\n",
       "    </tr>\n",
       "    <tr>\n",
       "      <th>...</th>\n",
       "      <td>...</td>\n",
       "      <td>...</td>\n",
       "    </tr>\n",
       "    <tr>\n",
       "      <th>4105</th>\n",
       "      <td>10</td>\n",
       "      <td>28.625197</td>\n",
       "    </tr>\n",
       "    <tr>\n",
       "      <th>5338</th>\n",
       "      <td>87</td>\n",
       "      <td>3.093381</td>\n",
       "    </tr>\n",
       "    <tr>\n",
       "      <th>993</th>\n",
       "      <td>22</td>\n",
       "      <td>31.262833</td>\n",
       "    </tr>\n",
       "    <tr>\n",
       "      <th>1570</th>\n",
       "      <td>17</td>\n",
       "      <td>24.520000</td>\n",
       "    </tr>\n",
       "    <tr>\n",
       "      <th>286</th>\n",
       "      <td>43</td>\n",
       "      <td>20.901667</td>\n",
       "    </tr>\n",
       "  </tbody>\n",
       "</table>\n",
       "<p>1610 rows × 2 columns</p>\n",
       "</div>"
      ],
      "text/plain": [
       "      Actual  Predicted\n",
       "5362      10  21.360667\n",
       "7332      41  26.280000\n",
       "273       50  12.381024\n",
       "4915      12  13.200968\n",
       "6578       9  34.805333\n",
       "...      ...        ...\n",
       "4105      10  28.625197\n",
       "5338      87   3.093381\n",
       "993       22  31.262833\n",
       "1570      17  24.520000\n",
       "286       43  20.901667\n",
       "\n",
       "[1610 rows x 2 columns]"
      ]
     },
     "execution_count": 36,
     "metadata": {},
     "output_type": "execute_result"
    }
   ],
   "source": [
    "comparison_df = pd.DataFrame({'Actual': y2_test,'Predicted': y2_pred})\n",
    "comparison_df"
   ]
  },
  {
   "cell_type": "code",
   "execution_count": 37,
   "metadata": {},
   "outputs": [
    {
     "data": {
      "image/png": "[encoded data removed]",
      "text/plain": [
       "<Figure size 640x480 with 1 Axes>"
      ]
     },
     "metadata": {},
     "output_type": "display_data"
    }
   ],
   "source": [
    "plt.title(\"Distribution of y predicted and y actual\")\n",
    "ax1=sns.kdeplot(y2_test, label = 'Actual')\n",
    "sns.kdeplot(y2_pred, ax=ax1, label = 'Predicted')\n",
    "ax1.legend(loc=\"upper right\")\n",
    "plt.show()"
   ]
  },
  {
   "cell_type": "code",
   "execution_count": 38,
   "metadata": {},
   "outputs": [
    {
     "data": {
      "image/png": "[encoded data removed]",
      "text/plain": [
       "<Figure size 640x480 with 1 Axes>"
      ]
     },
     "metadata": {},
     "output_type": "display_data"
    }
   ],
   "source": [
    "sns.set_theme()\n",
    "sns.scatterplot(x = y2_test,y = y2_pred)\n",
    "plt.xlabel('Actual')\n",
    "plt.ylabel('Predicted')\n",
    "plt.show()"
   ]
  },
  {
   "cell_type": "markdown",
   "metadata": {},
   "source": [
    "<h1><b>Đánh giá mô hình (Evaluation)</b></h1>\n",
    "\n",
    "<hr/>"
   ]
  },
  {
   "cell_type": "markdown",
   "metadata": {},
   "source": [
    "<h3><b> R² Score , the coefficient of determination</b></h3>\n",
    "\n",
    "- $R^2 score$ thường được kí hiệu là $R^2$, dùng để đánh giá hiệu xuất của mô hình máy học dựa trên hồi quy.\n",
    "\n",
    "- $R^2 score$ biểu thị tỷ lệ phương sai (của y) đã được giải thích bởi các biến độc lập trong mô hình. Nó cung cấp một dấu hiệu về mức độ phù hợp và do đó là thước đo xem các mẫu không nhìn thấy có khả năng được mô hình dự đoán tốt như thế nào, thông qua tỷ lệ phương sai được giải thích.\n",
    "\n",
    "- Giá trị $R^2$ dao động từ 0 đến 1. $R^2$ càng gần 1 thì mô hình đã xây dựng càng phù hợp với bộ dữ liệu dùng chạy hồi quy. $R^2$ càng gần 0 thì mô hình đã xây dựng càng kém phù hợp với bộ dữ liệu dùng chạy hồi quy. Ngoài ra nó có thể âm (vì mô hình có thể xấu đi tùy ý).\n",
    "\n",
    "$R^2 score$ được định nghĩa bằng công thức:"
   ]
  },
  {
   "cell_type": "markdown",
   "metadata": {},
   "source": [
    "![title](https://i.postimg.cc/25VNLhmh/Screenshot-641.png)"
   ]
  },
  {
   "cell_type": "markdown",
   "metadata": {},
   "source": [
    "Trong đó: \n",
    "- $yhat_i$ là là giá trị dự đoán của mẫu thứ i.\n",
    "- $y_i$ là giá trị thực của mẫu thứ i\n",
    "- n là tổng số mẫu"
   ]
  },
  {
   "cell_type": "code",
   "execution_count": 39,
   "metadata": {},
   "outputs": [],
   "source": [
    "def R2_Score(y_test,y_pred):\n",
    "    rss = np.sum(np.square(y_test - y_pred))\n",
    "    tss = np.sum(np.square(y_test - np.mean(y_test)))\n",
    "    return 1 - (rss/tss)"
   ]
  },
  {
   "cell_type": "markdown",
   "metadata": {},
   "source": [
    "<h3><b>Đánh giá mô hình</b></h3>"
   ]
  },
  {
   "cell_type": "markdown",
   "metadata": {},
   "source": [
    "### Multiple Layer Perception Regression"
   ]
  },
  {
   "cell_type": "code",
   "execution_count": 40,
   "metadata": {},
   "outputs": [
    {
     "name": "stdout",
     "output_type": "stream",
     "text": [
      "R Square (R^2)             :  0.250991485708403\n",
      "R Square (R^2) with sklearn:  0.250991485708403\n"
     ]
    }
   ],
   "source": [
    "print('R Square (R^2)             : ',R2_Score(y1_test,y1_pred))\n",
    "print('R Square (R^2) with sklearn: ', r2_score(y1_test,y1_pred))"
   ]
  },
  {
   "cell_type": "markdown",
   "metadata": {},
   "source": [
    "### Random Forest Regression"
   ]
  },
  {
   "cell_type": "code",
   "execution_count": 41,
   "metadata": {},
   "outputs": [
    {
     "name": "stdout",
     "output_type": "stream",
     "text": [
      "R Square (R^2)             :  0.17637507823256715\n",
      "R Square (R^2) with sklearn:  0.17637507823256715\n"
     ]
    }
   ],
   "source": [
    "print('R Square (R^2)             : ',R2_Score(y2_test,y2_pred))\n",
    "print('R Square (R^2) with sklearn: ', r2_score(y2_test,y2_pred))"
   ]
  },
  {
   "cell_type": "markdown",
   "metadata": {},
   "source": [
    "### Từ kết quả của $R^2 score$ ta rút ra nhận xét:\n",
    "- Cả hai mô hình đều chưa thực sự tối ưu đối với bộ dữ liệu.\n",
    "- Nguyên nhân phần lớn đến từ bộ dữ liệu ta thu thập có thể chưa đủ lớn.\n",
    "- Có thể bị thiếu đối với những thông tin đầu vào ảnh hưởng đến dự đoán."
   ]
  },
  {
   "attachments": {},
   "cell_type": "markdown",
   "metadata": {},
   "source": [
    "<h3><b> Đánh giá hồi quy Mean Absolute Error (MAE) </b></h3>\n",
    "\n",
    "Công thức: MAE = $\\large \\frac{\\sum_{i=1}^{n}|x_i-y_i|}{n}$\n",
    "\n",
    "Xây dựng hàm mae():\n",
    "- y_true: các giá trị trong tập test.\n",
    "- y_pred: các giá trị trong tập dự đoán.\n",
    "- Giá trị trả về: độ lớn trung bình của các lỗi giữa tập test và tập dự đoán."
   ]
  },
  {
   "cell_type": "code",
   "execution_count": 42,
   "metadata": {},
   "outputs": [],
   "source": [
    "def mae(y_true, y_pred):\n",
    "    return sum(abs(y_true - y_pred)) / len(y_true)"
   ]
  },
  {
   "attachments": {},
   "cell_type": "markdown",
   "metadata": {},
   "source": [
    "<h3><b>Đánh giá mô hình</b></h3>"
   ]
  },
  {
   "attachments": {},
   "cell_type": "markdown",
   "metadata": {},
   "source": [
    "### Multiple Layer Perception Regression"
   ]
  },
  {
   "cell_type": "code",
   "execution_count": 43,
   "metadata": {},
   "outputs": [
    {
     "name": "stdout",
     "output_type": "stream",
     "text": [
      "Mean Absolute Error (MAE)             :  19.831543171502798\n",
      "Mean Absolute Error (MAE) with sklearn:  19.831543171502833\n"
     ]
    }
   ],
   "source": [
    "print('Mean Absolute Error (MAE)             : ', mae(y1_test,y1_pred))\n",
    "print('Mean Absolute Error (MAE) with sklearn: ', mean_absolute_error(y1_test,y1_pred))"
   ]
  },
  {
   "attachments": {},
   "cell_type": "markdown",
   "metadata": {},
   "source": [
    "### Random Forest Regression"
   ]
  },
  {
   "cell_type": "code",
   "execution_count": 44,
   "metadata": {},
   "outputs": [
    {
     "name": "stdout",
     "output_type": "stream",
     "text": [
      "Mean Absolute Error (MAE)             :  19.427823778644747\n",
      "Mean Absolute Error (MAE) with sklearn:  19.42782377864472\n"
     ]
    }
   ],
   "source": [
    "print('Mean Absolute Error (MAE)             : ', mae(y2_test,y2_pred))\n",
    "print('Mean Absolute Error (MAE) with sklearn: ', mean_absolute_error(y2_test,y2_pred))"
   ]
  },
  {
   "attachments": {},
   "cell_type": "markdown",
   "metadata": {},
   "source": [
    "### Từ kết quả của $Mean Absolute Error$ ta rút ra nhận xét:\n",
    "- Độ sai lệch của dữ liệu tập test và tập dự đoán cao, nên mô hình chưa tối ưu.\n",
    "\n",
    "Nguyên nhân: Phần lớn đến từ tập dữ liệu bị thiếu nhiều dẫn đến việc bổ sung dữ liệu ảnh hưởng kết quả dự đoán của mô hình. "
   ]
  }
 ],
 "metadata": {
  "kernelspec": {
   "display_name": "test01",
   "language": "python",
   "name": "python3"
  },
  "language_info": {
   "codemirror_mode": {
    "name": "ipython",
    "version": 3
   },
   "file_extension": ".py",
   "mimetype": "text/x-python",
   "name": "python",
   "nbconvert_exporter": "python",
   "pygments_lexer": "ipython3",
   "version": "3.9.12"
  },
  "vscode": {
   "interpreter": {
    "hash": "57790775ee70add7e11aec3d4f38327ece5559b614a55075eb06a7c4aad259d0"
   }
  }
 },
 "nbformat": 4,
 "nbformat_minor": 2
}
