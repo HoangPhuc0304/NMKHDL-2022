{
 "cells": [
  {
   "cell_type": "markdown",
   "metadata": {},
   "source": [
    "<h1><b>Khám phá & Tiền xử lý dữ liệu</b></h1>\n",
    "\n",
    "<hr/>\n"
   ]
  },
  {
   "cell_type": "markdown",
   "metadata": {},
   "source": [
    "<h3><b>Install & Import</b></h3>\n",
    "\n",
    "Cài đặt và import những thư viện cần thiết cho phần khám phá, tiền xử lý dữ liệu."
   ]
  },
  {
   "cell_type": "code",
   "execution_count": 1,
   "metadata": {},
   "outputs": [],
   "source": [
    "#Cài đặt các thư viện"
   ]
  },
  {
   "cell_type": "code",
   "execution_count": null,
   "metadata": {},
   "outputs": [],
   "source": [
    "#Import các thư viện\n",
    "import pandas as pd\n",
    "import matplotlib.pyplot as plt\n",
    "import numpy as np\n",
    "import seaborn as sns\n",
    "import ast"
   ]
  },
  {
   "cell_type": "markdown",
   "metadata": {},
   "source": [
    "## Khám phá dữ liệu"
   ]
  },
  {
   "cell_type": "markdown",
   "metadata": {},
   "source": [
    "### Đọc dữ liệu từ file csv vào dataframe"
   ]
  },
  {
   "cell_type": "code",
   "execution_count": 3,
   "metadata": {},
   "outputs": [
    {
     "data": {
      "text/html": [
       "<div>\n",
       "<style scoped>\n",
       "    .dataframe tbody tr th:only-of-type {\n",
       "        vertical-align: middle;\n",
       "    }\n",
       "\n",
       "    .dataframe tbody tr th {\n",
       "        vertical-align: top;\n",
       "    }\n",
       "\n",
       "    .dataframe thead th {\n",
       "        text-align: right;\n",
       "    }\n",
       "</style>\n",
       "<table border=\"1\" class=\"dataframe\">\n",
       "  <thead>\n",
       "    <tr style=\"text-align: right;\">\n",
       "      <th></th>\n",
       "      <th>jobId</th>\n",
       "      <th>jobTitle</th>\n",
       "      <th>jobUrl</th>\n",
       "      <th>userId</th>\n",
       "      <th>companyLogo</th>\n",
       "      <th>alias</th>\n",
       "      <th>createdOn</th>\n",
       "      <th>approvedOn</th>\n",
       "      <th>expiredOn</th>\n",
       "      <th>lastUpdatedOn</th>\n",
       "      <th>...</th>\n",
       "      <th>emailAddress</th>\n",
       "      <th>isMobileHotJob</th>\n",
       "      <th>isMobileTopJob</th>\n",
       "      <th>isBoldAndRedJob</th>\n",
       "      <th>isUrgentJob</th>\n",
       "      <th>isUrgentJobM</th>\n",
       "      <th>onlineOn</th>\n",
       "      <th>visibilityDisplay</th>\n",
       "      <th>priorityOrder</th>\n",
       "      <th>nearestGeoLoc</th>\n",
       "    </tr>\n",
       "  </thead>\n",
       "  <tbody>\n",
       "    <tr>\n",
       "      <th>0</th>\n",
       "      <td>1581202</td>\n",
       "      <td>Project Management Manager - Attractive Salary...</td>\n",
       "      <td>NaN</td>\n",
       "      <td>5975282</td>\n",
       "      <td>https://images.vietnamworks.com/pictureofcompa...</td>\n",
       "      <td>project-management-manager-attractive-salary</td>\n",
       "      <td>NaN</td>\n",
       "      <td>2022-11-18T15:59:04+07:00</td>\n",
       "      <td>2022-12-18T23:59:59+07:00</td>\n",
       "      <td>NaN</td>\n",
       "      <td>...</td>\n",
       "      <td>NaN</td>\n",
       "      <td>False</td>\n",
       "      <td>False</td>\n",
       "      <td>False</td>\n",
       "      <td>False</td>\n",
       "      <td>False</td>\n",
       "      <td>2022-11-26T11:34:00+07:00</td>\n",
       "      <td>False</td>\n",
       "      <td>2022-11-26T11:34:00</td>\n",
       "      <td>NaN</td>\n",
       "    </tr>\n",
       "    <tr>\n",
       "      <th>1</th>\n",
       "      <td>1593683</td>\n",
       "      <td>Production Supervisor</td>\n",
       "      <td>NaN</td>\n",
       "      <td>5975282</td>\n",
       "      <td>https://images.vietnamworks.com/pictureofcompa...</td>\n",
       "      <td>production-supervisor-351</td>\n",
       "      <td>NaN</td>\n",
       "      <td>2022-11-18T09:38:08+07:00</td>\n",
       "      <td>2022-12-18T23:59:59+07:00</td>\n",
       "      <td>NaN</td>\n",
       "      <td>...</td>\n",
       "      <td>NaN</td>\n",
       "      <td>False</td>\n",
       "      <td>False</td>\n",
       "      <td>False</td>\n",
       "      <td>False</td>\n",
       "      <td>False</td>\n",
       "      <td>2022-11-26T11:34:00+07:00</td>\n",
       "      <td>False</td>\n",
       "      <td>2022-11-26T11:34:00</td>\n",
       "      <td>NaN</td>\n",
       "    </tr>\n",
       "    <tr>\n",
       "      <th>2</th>\n",
       "      <td>1594103</td>\n",
       "      <td>[Datatech Beeginner] Chuyên Viên Đảm Bảo An Ni...</td>\n",
       "      <td>NaN</td>\n",
       "      <td>417756</td>\n",
       "      <td>https://images.vietnamworks.com/pictureofcompa...</td>\n",
       "      <td>datatech-beeginner-chuyen-vien-dam-bao-an-ninh...</td>\n",
       "      <td>NaN</td>\n",
       "      <td>2022-11-18T18:08:52+07:00</td>\n",
       "      <td>2022-12-18T23:59:59+07:00</td>\n",
       "      <td>NaN</td>\n",
       "      <td>...</td>\n",
       "      <td>NaN</td>\n",
       "      <td>True</td>\n",
       "      <td>True</td>\n",
       "      <td>False</td>\n",
       "      <td>True</td>\n",
       "      <td>False</td>\n",
       "      <td>2022-11-26T11:34:00+07:00</td>\n",
       "      <td>False</td>\n",
       "      <td>2022-11-26T11:34:00</td>\n",
       "      <td>NaN</td>\n",
       "    </tr>\n",
       "    <tr>\n",
       "      <th>3</th>\n",
       "      <td>1589116</td>\n",
       "      <td>Trưởng Bộ Phận Tổng Hợp Báo Cáo, Phòng Kế Hoạc...</td>\n",
       "      <td>NaN</td>\n",
       "      <td>2859613</td>\n",
       "      <td>https://images.vietnamworks.com/pictureofcompa...</td>\n",
       "      <td>truong-bo-phan-tong-hop-bao-cao-phong-ke-hoach...</td>\n",
       "      <td>NaN</td>\n",
       "      <td>2022-11-04T09:59:37+07:00</td>\n",
       "      <td>2022-12-04T23:59:59+07:00</td>\n",
       "      <td>NaN</td>\n",
       "      <td>...</td>\n",
       "      <td>NaN</td>\n",
       "      <td>True</td>\n",
       "      <td>True</td>\n",
       "      <td>False</td>\n",
       "      <td>False</td>\n",
       "      <td>False</td>\n",
       "      <td>2022-11-26T11:34:00+07:00</td>\n",
       "      <td>False</td>\n",
       "      <td>2022-11-26T11:34:00</td>\n",
       "      <td>NaN</td>\n",
       "    </tr>\n",
       "    <tr>\n",
       "      <th>4</th>\n",
       "      <td>1589145</td>\n",
       "      <td>Lập Trình Viên Java C</td>\n",
       "      <td>NaN</td>\n",
       "      <td>1465669</td>\n",
       "      <td>https://images.vietnamworks.com/pictureofcompa...</td>\n",
       "      <td>lap-trinh-vien-java-c-1-1</td>\n",
       "      <td>NaN</td>\n",
       "      <td>2022-11-04T10:40:07+07:00</td>\n",
       "      <td>2022-12-04T23:59:59+07:00</td>\n",
       "      <td>NaN</td>\n",
       "      <td>...</td>\n",
       "      <td>NaN</td>\n",
       "      <td>True</td>\n",
       "      <td>True</td>\n",
       "      <td>False</td>\n",
       "      <td>False</td>\n",
       "      <td>False</td>\n",
       "      <td>2022-11-26T11:34:00+07:00</td>\n",
       "      <td>False</td>\n",
       "      <td>2022-11-26T11:34:00</td>\n",
       "      <td>NaN</td>\n",
       "    </tr>\n",
       "  </tbody>\n",
       "</table>\n",
       "<p>5 rows × 68 columns</p>\n",
       "</div>"
      ],
      "text/plain": [
       "     jobId                                           jobTitle  jobUrl  \\\n",
       "0  1581202  Project Management Manager - Attractive Salary...     NaN   \n",
       "1  1593683                              Production Supervisor     NaN   \n",
       "2  1594103  [Datatech Beeginner] Chuyên Viên Đảm Bảo An Ni...     NaN   \n",
       "3  1589116  Trưởng Bộ Phận Tổng Hợp Báo Cáo, Phòng Kế Hoạc...     NaN   \n",
       "4  1589145                              Lập Trình Viên Java C     NaN   \n",
       "\n",
       "    userId                                        companyLogo  \\\n",
       "0  5975282  https://images.vietnamworks.com/pictureofcompa...   \n",
       "1  5975282  https://images.vietnamworks.com/pictureofcompa...   \n",
       "2   417756  https://images.vietnamworks.com/pictureofcompa...   \n",
       "3  2859613  https://images.vietnamworks.com/pictureofcompa...   \n",
       "4  1465669  https://images.vietnamworks.com/pictureofcompa...   \n",
       "\n",
       "                                               alias  createdOn  \\\n",
       "0       project-management-manager-attractive-salary        NaN   \n",
       "1                          production-supervisor-351        NaN   \n",
       "2  datatech-beeginner-chuyen-vien-dam-bao-an-ninh...        NaN   \n",
       "3  truong-bo-phan-tong-hop-bao-cao-phong-ke-hoach...        NaN   \n",
       "4                          lap-trinh-vien-java-c-1-1        NaN   \n",
       "\n",
       "                  approvedOn                  expiredOn  lastUpdatedOn  ...  \\\n",
       "0  2022-11-18T15:59:04+07:00  2022-12-18T23:59:59+07:00            NaN  ...   \n",
       "1  2022-11-18T09:38:08+07:00  2022-12-18T23:59:59+07:00            NaN  ...   \n",
       "2  2022-11-18T18:08:52+07:00  2022-12-18T23:59:59+07:00            NaN  ...   \n",
       "3  2022-11-04T09:59:37+07:00  2022-12-04T23:59:59+07:00            NaN  ...   \n",
       "4  2022-11-04T10:40:07+07:00  2022-12-04T23:59:59+07:00            NaN  ...   \n",
       "\n",
       "   emailAddress isMobileHotJob  isMobileTopJob  isBoldAndRedJob  isUrgentJob  \\\n",
       "0           NaN          False           False            False        False   \n",
       "1           NaN          False           False            False        False   \n",
       "2           NaN           True            True            False         True   \n",
       "3           NaN           True            True            False        False   \n",
       "4           NaN           True            True            False        False   \n",
       "\n",
       "   isUrgentJobM                   onlineOn  visibilityDisplay  \\\n",
       "0         False  2022-11-26T11:34:00+07:00              False   \n",
       "1         False  2022-11-26T11:34:00+07:00              False   \n",
       "2         False  2022-11-26T11:34:00+07:00              False   \n",
       "3         False  2022-11-26T11:34:00+07:00              False   \n",
       "4         False  2022-11-26T11:34:00+07:00              False   \n",
       "\n",
       "         priorityOrder  nearestGeoLoc  \n",
       "0  2022-11-26T11:34:00            NaN  \n",
       "1  2022-11-26T11:34:00            NaN  \n",
       "2  2022-11-26T11:34:00            NaN  \n",
       "3  2022-11-26T11:34:00            NaN  \n",
       "4  2022-11-26T11:34:00            NaN  \n",
       "\n",
       "[5 rows x 68 columns]"
      ]
     },
     "execution_count": 3,
     "metadata": {},
     "output_type": "execute_result"
    }
   ],
   "source": [
    "data_df = pd.read_csv('data/raw_data.csv')\n",
    "data_df.head()"
   ]
  },
  {
   "cell_type": "markdown",
   "metadata": {},
   "source": [
    "### Lấy những cột dữ liệu có ý nghĩa và có thể khai thác"
   ]
  },
  {
   "cell_type": "code",
   "execution_count": 4,
   "metadata": {},
   "outputs": [
    {
     "data": {
      "text/html": [
       "<div>\n",
       "<style scoped>\n",
       "    .dataframe tbody tr th:only-of-type {\n",
       "        vertical-align: middle;\n",
       "    }\n",
       "\n",
       "    .dataframe tbody tr th {\n",
       "        vertical-align: top;\n",
       "    }\n",
       "\n",
       "    .dataframe thead th {\n",
       "        text-align: right;\n",
       "    }\n",
       "</style>\n",
       "<table border=\"1\" class=\"dataframe\">\n",
       "  <thead>\n",
       "    <tr style=\"text-align: right;\">\n",
       "      <th></th>\n",
       "      <th>jobId</th>\n",
       "      <th>jobTitle</th>\n",
       "      <th>userId</th>\n",
       "      <th>companyLogo</th>\n",
       "      <th>alias</th>\n",
       "      <th>approvedOn</th>\n",
       "      <th>expiredOn</th>\n",
       "      <th>companyName</th>\n",
       "      <th>companyId</th>\n",
       "      <th>isAnonymous</th>\n",
       "      <th>...</th>\n",
       "      <th>durationDays</th>\n",
       "      <th>numOfApplications</th>\n",
       "      <th>isMobileHotJob</th>\n",
       "      <th>isMobileTopJob</th>\n",
       "      <th>isBoldAndRedJob</th>\n",
       "      <th>isUrgentJob</th>\n",
       "      <th>isUrgentJobM</th>\n",
       "      <th>onlineOn</th>\n",
       "      <th>visibilityDisplay</th>\n",
       "      <th>priorityOrder</th>\n",
       "    </tr>\n",
       "  </thead>\n",
       "  <tbody>\n",
       "    <tr>\n",
       "      <th>0</th>\n",
       "      <td>1581202</td>\n",
       "      <td>Project Management Manager - Attractive Salary...</td>\n",
       "      <td>5975282</td>\n",
       "      <td>https://images.vietnamworks.com/pictureofcompa...</td>\n",
       "      <td>project-management-manager-attractive-salary</td>\n",
       "      <td>2022-11-18T15:59:04+07:00</td>\n",
       "      <td>2022-12-18T23:59:59+07:00</td>\n",
       "      <td>Công Ty TNHH Công Nghệ Welco Việt Nam</td>\n",
       "      <td>313962</td>\n",
       "      <td>False</td>\n",
       "      <td>...</td>\n",
       "      <td>30</td>\n",
       "      <td>24</td>\n",
       "      <td>False</td>\n",
       "      <td>False</td>\n",
       "      <td>False</td>\n",
       "      <td>False</td>\n",
       "      <td>False</td>\n",
       "      <td>2022-11-26T11:34:00+07:00</td>\n",
       "      <td>False</td>\n",
       "      <td>2022-11-26T11:34:00</td>\n",
       "    </tr>\n",
       "    <tr>\n",
       "      <th>1</th>\n",
       "      <td>1593683</td>\n",
       "      <td>Production Supervisor</td>\n",
       "      <td>5975282</td>\n",
       "      <td>https://images.vietnamworks.com/pictureofcompa...</td>\n",
       "      <td>production-supervisor-351</td>\n",
       "      <td>2022-11-18T09:38:08+07:00</td>\n",
       "      <td>2022-12-18T23:59:59+07:00</td>\n",
       "      <td>Công Ty TNHH Công Nghệ Welco Việt Nam</td>\n",
       "      <td>313962</td>\n",
       "      <td>False</td>\n",
       "      <td>...</td>\n",
       "      <td>30</td>\n",
       "      <td>7</td>\n",
       "      <td>False</td>\n",
       "      <td>False</td>\n",
       "      <td>False</td>\n",
       "      <td>False</td>\n",
       "      <td>False</td>\n",
       "      <td>2022-11-26T11:34:00+07:00</td>\n",
       "      <td>False</td>\n",
       "      <td>2022-11-26T11:34:00</td>\n",
       "    </tr>\n",
       "    <tr>\n",
       "      <th>2</th>\n",
       "      <td>1594103</td>\n",
       "      <td>[Datatech Beeginner] Chuyên Viên Đảm Bảo An Ni...</td>\n",
       "      <td>417756</td>\n",
       "      <td>https://images.vietnamworks.com/pictureofcompa...</td>\n",
       "      <td>datatech-beeginner-chuyen-vien-dam-bao-an-ninh...</td>\n",
       "      <td>2022-11-18T18:08:52+07:00</td>\n",
       "      <td>2022-12-18T23:59:59+07:00</td>\n",
       "      <td>Ngân Hàng Thương Mại Cổ Phần Quân Đội - MB</td>\n",
       "      <td>2332</td>\n",
       "      <td>False</td>\n",
       "      <td>...</td>\n",
       "      <td>30</td>\n",
       "      <td>0</td>\n",
       "      <td>True</td>\n",
       "      <td>True</td>\n",
       "      <td>False</td>\n",
       "      <td>True</td>\n",
       "      <td>False</td>\n",
       "      <td>2022-11-26T11:34:00+07:00</td>\n",
       "      <td>False</td>\n",
       "      <td>2022-11-26T11:34:00</td>\n",
       "    </tr>\n",
       "    <tr>\n",
       "      <th>3</th>\n",
       "      <td>1589116</td>\n",
       "      <td>Trưởng Bộ Phận Tổng Hợp Báo Cáo, Phòng Kế Hoạc...</td>\n",
       "      <td>2859613</td>\n",
       "      <td>https://images.vietnamworks.com/pictureofcompa...</td>\n",
       "      <td>truong-bo-phan-tong-hop-bao-cao-phong-ke-hoach...</td>\n",
       "      <td>2022-11-04T09:59:37+07:00</td>\n",
       "      <td>2022-12-04T23:59:59+07:00</td>\n",
       "      <td>Ngân Hàng TMCP Đại Chúng Việt Nam</td>\n",
       "      <td>136607</td>\n",
       "      <td>False</td>\n",
       "      <td>...</td>\n",
       "      <td>30</td>\n",
       "      <td>10</td>\n",
       "      <td>True</td>\n",
       "      <td>True</td>\n",
       "      <td>False</td>\n",
       "      <td>False</td>\n",
       "      <td>False</td>\n",
       "      <td>2022-11-26T11:34:00+07:00</td>\n",
       "      <td>False</td>\n",
       "      <td>2022-11-26T11:34:00</td>\n",
       "    </tr>\n",
       "    <tr>\n",
       "      <th>4</th>\n",
       "      <td>1589145</td>\n",
       "      <td>Lập Trình Viên Java C</td>\n",
       "      <td>1465669</td>\n",
       "      <td>https://images.vietnamworks.com/pictureofcompa...</td>\n",
       "      <td>lap-trinh-vien-java-c-1-1</td>\n",
       "      <td>2022-11-04T10:40:07+07:00</td>\n",
       "      <td>2022-12-04T23:59:59+07:00</td>\n",
       "      <td>Tập Đoàn MK - MK Group</td>\n",
       "      <td>60453</td>\n",
       "      <td>False</td>\n",
       "      <td>...</td>\n",
       "      <td>30</td>\n",
       "      <td>3</td>\n",
       "      <td>True</td>\n",
       "      <td>True</td>\n",
       "      <td>False</td>\n",
       "      <td>False</td>\n",
       "      <td>False</td>\n",
       "      <td>2022-11-26T11:34:00+07:00</td>\n",
       "      <td>False</td>\n",
       "      <td>2022-11-26T11:34:00</td>\n",
       "    </tr>\n",
       "  </tbody>\n",
       "</table>\n",
       "<p>5 rows × 36 columns</p>\n",
       "</div>"
      ],
      "text/plain": [
       "     jobId                                           jobTitle   userId  \\\n",
       "0  1581202  Project Management Manager - Attractive Salary...  5975282   \n",
       "1  1593683                              Production Supervisor  5975282   \n",
       "2  1594103  [Datatech Beeginner] Chuyên Viên Đảm Bảo An Ni...   417756   \n",
       "3  1589116  Trưởng Bộ Phận Tổng Hợp Báo Cáo, Phòng Kế Hoạc...  2859613   \n",
       "4  1589145                              Lập Trình Viên Java C  1465669   \n",
       "\n",
       "                                         companyLogo  \\\n",
       "0  https://images.vietnamworks.com/pictureofcompa...   \n",
       "1  https://images.vietnamworks.com/pictureofcompa...   \n",
       "2  https://images.vietnamworks.com/pictureofcompa...   \n",
       "3  https://images.vietnamworks.com/pictureofcompa...   \n",
       "4  https://images.vietnamworks.com/pictureofcompa...   \n",
       "\n",
       "                                               alias  \\\n",
       "0       project-management-manager-attractive-salary   \n",
       "1                          production-supervisor-351   \n",
       "2  datatech-beeginner-chuyen-vien-dam-bao-an-ninh...   \n",
       "3  truong-bo-phan-tong-hop-bao-cao-phong-ke-hoach...   \n",
       "4                          lap-trinh-vien-java-c-1-1   \n",
       "\n",
       "                  approvedOn                  expiredOn  \\\n",
       "0  2022-11-18T15:59:04+07:00  2022-12-18T23:59:59+07:00   \n",
       "1  2022-11-18T09:38:08+07:00  2022-12-18T23:59:59+07:00   \n",
       "2  2022-11-18T18:08:52+07:00  2022-12-18T23:59:59+07:00   \n",
       "3  2022-11-04T09:59:37+07:00  2022-12-04T23:59:59+07:00   \n",
       "4  2022-11-04T10:40:07+07:00  2022-12-04T23:59:59+07:00   \n",
       "\n",
       "                                  companyName  companyId  isAnonymous  ...  \\\n",
       "0       Công Ty TNHH Công Nghệ Welco Việt Nam     313962        False  ...   \n",
       "1       Công Ty TNHH Công Nghệ Welco Việt Nam     313962        False  ...   \n",
       "2  Ngân Hàng Thương Mại Cổ Phần Quân Đội - MB       2332        False  ...   \n",
       "3           Ngân Hàng TMCP Đại Chúng Việt Nam     136607        False  ...   \n",
       "4                      Tập Đoàn MK - MK Group      60453        False  ...   \n",
       "\n",
       "   durationDays  numOfApplications  isMobileHotJob  isMobileTopJob  \\\n",
       "0            30                 24           False           False   \n",
       "1            30                  7           False           False   \n",
       "2            30                  0            True            True   \n",
       "3            30                 10            True            True   \n",
       "4            30                  3            True            True   \n",
       "\n",
       "   isBoldAndRedJob  isUrgentJob isUrgentJobM                   onlineOn  \\\n",
       "0            False        False        False  2022-11-26T11:34:00+07:00   \n",
       "1            False        False        False  2022-11-26T11:34:00+07:00   \n",
       "2            False         True        False  2022-11-26T11:34:00+07:00   \n",
       "3            False        False        False  2022-11-26T11:34:00+07:00   \n",
       "4            False        False        False  2022-11-26T11:34:00+07:00   \n",
       "\n",
       "  visibilityDisplay        priorityOrder  \n",
       "0             False  2022-11-26T11:34:00  \n",
       "1             False  2022-11-26T11:34:00  \n",
       "2             False  2022-11-26T11:34:00  \n",
       "3             False  2022-11-26T11:34:00  \n",
       "4             False  2022-11-26T11:34:00  \n",
       "\n",
       "[5 rows x 36 columns]"
      ]
     },
     "execution_count": 4,
     "metadata": {},
     "output_type": "execute_result"
    }
   ],
   "source": [
    "list_drop = ['jobUrl','createdOn','lastUpdatedOn','lastSyncedOn','companyProfile',\n",
    "        'companySizeId','contactName', 'createdBy', 'isOnline', 'isActive',\n",
    "        'isApproved','isUnpaidDisable', 'isCompleted','isShowLogoInSearch',\n",
    "        'jobDescription', 'jobRequirement','jobLevelId','languageSelectedId',\n",
    "        'redirectTo', 'requiredCoverLetter', 'address', 'languageId',\n",
    "        'locations', 'canonical', 'isShowContact','salaryRangeId', 'requiredResume',\n",
    "        'companySizeVI','languageSelectedVI', 'prettySalary', 'nearestGeoLoc', \n",
    "        'emailAddress',]\n",
    "data_df = data_df.drop(list_drop, axis = 1)\n",
    "data_df.head()"
   ]
  },
  {
   "cell_type": "markdown",
   "metadata": {},
   "source": [
    "### Số dòng và cột của dữ liệu"
   ]
  },
  {
   "cell_type": "code",
   "execution_count": 5,
   "metadata": {},
   "outputs": [
    {
     "name": "stdout",
     "output_type": "stream",
     "text": [
      "8216\n",
      "36\n"
     ]
    }
   ],
   "source": [
    "num_rows = data_df.shape[0]\n",
    "num_cols = data_df.shape[1]\n",
    "print(num_rows)\n",
    "print(num_cols)"
   ]
  },
  {
   "cell_type": "markdown",
   "metadata": {},
   "source": [
    "### Kiểm tra dữ liệu có các dòng bị lặp không"
   ]
  },
  {
   "cell_type": "code",
   "execution_count": 6,
   "metadata": {},
   "outputs": [
    {
     "name": "stdout",
     "output_type": "stream",
     "text": [
      "Có dòng bị lặp, kiểm tra lại!\n"
     ]
    }
   ],
   "source": [
    "def check_duplicated(data):\n",
    "    check = data.duplicated().sum()\n",
    "    if check == 0:\n",
    "        print('Dữ liệu không bị lặp!')\n",
    "    else:\n",
    "        print('Có dòng bị lặp, kiểm tra lại!')\n",
    "check_duplicated(data_df)"
   ]
  },
  {
   "cell_type": "markdown",
   "metadata": {},
   "source": [
    "### Loại bỏ các dòng bị lặp"
   ]
  },
  {
   "cell_type": "code",
   "execution_count": 7,
   "metadata": {},
   "outputs": [
    {
     "name": "stdout",
     "output_type": "stream",
     "text": [
      "Dữ liệu không bị lặp!\n"
     ]
    }
   ],
   "source": [
    "data_df = data_df.drop_duplicates()\n",
    "check_duplicated(data_df)"
   ]
  },
  {
   "cell_type": "markdown",
   "metadata": {},
   "source": [
    "### Kiểu dữ liệu của mỗi cột. Có cột nào có kiểu dữ liệu chưa phù hợp để có thể xử lý tiếp không?"
   ]
  },
  {
   "cell_type": "code",
   "execution_count": 8,
   "metadata": {},
   "outputs": [
    {
     "data": {
      "text/plain": [
       "jobId                 int64\n",
       "jobTitle             object\n",
       "userId                int64\n",
       "companyLogo          object\n",
       "alias                object\n",
       "approvedOn           object\n",
       "expiredOn            object\n",
       "companyName          object\n",
       "companyId             int64\n",
       "isAnonymous            bool\n",
       "isSalaryVisible        bool\n",
       "isShowLogo             bool\n",
       "salary                int64\n",
       "salaryMax             int64\n",
       "salaryMin             int64\n",
       "typeWorkingId         int64\n",
       "skills               object\n",
       "benefits             object\n",
       "workingLocations     object\n",
       "industries           object\n",
       "jobLevel             object\n",
       "jobLevelVI           object\n",
       "companySize          object\n",
       "languageSelected     object\n",
       "simpleServices       object\n",
       "services             object\n",
       "durationDays          int64\n",
       "numOfApplications     int64\n",
       "isMobileHotJob         bool\n",
       "isMobileTopJob         bool\n",
       "isBoldAndRedJob        bool\n",
       "isUrgentJob            bool\n",
       "isUrgentJobM           bool\n",
       "onlineOn             object\n",
       "visibilityDisplay      bool\n",
       "priorityOrder        object\n",
       "dtype: object"
      ]
     },
     "execution_count": 8,
     "metadata": {},
     "output_type": "execute_result"
    }
   ],
   "source": [
    "col_dtypes = pd.Series(data_df.dtypes)\n",
    "col_dtypes"
   ]
  },
  {
   "cell_type": "markdown",
   "metadata": {},
   "source": [
    "Ở đây chúng ta thấy xuất hiện một vấn đề đối với kiểu dữ liệu của cột ***\"companySize\"***. Kiểu dữ liệu ở đây nên có kiểu số, nhưng hiện tại đang là `object`."
   ]
  },
  {
   "cell_type": "code",
   "execution_count": 9,
   "metadata": {},
   "outputs": [
    {
     "data": {
      "text/plain": [
       "array(['100-499', '1,000-4,999', '500-999', '25-99', nan, 'Over 50,000',\n",
       "       '5,000-9,999', '10,000-19,999', '10-24', '20,000-49,999',\n",
       "       'Less Than 10'], dtype=object)"
      ]
     },
     "execution_count": 9,
     "metadata": {},
     "output_type": "execute_result"
    }
   ],
   "source": [
    "data_df['companySize'].unique()"
   ]
  },
  {
   "cell_type": "markdown",
   "metadata": {},
   "source": [
    "Ta cần đưa dữ liệu này về dạng số để có thể tiếp tục khám phá."
   ]
  },
  {
   "cell_type": "markdown",
   "metadata": {},
   "source": [
    "## Tiền xử lý dữ liệu"
   ]
  },
  {
   "cell_type": "markdown",
   "metadata": {},
   "source": [
    "Ở bước này, ta cần mã hóa cột ***\"companySize\"*** về dạng số để có thể tiếp tục khám phá với quy ước như sau:\n",
    "- \"Less Than 10\" $\\to$ (0,10)\n",
    "- \"Over 50,000\" $\\to$ (50000,100000)\n",
    "- Từ \"10-24\" $\\to$ (10,24)\n",
    "- Từ \"25-99\" $\\to$ (25,99)\n",
    "- Từ \"100-499\" $\\to$ (100,499)\n",
    "- Từ \"500-999\" $\\to$ (500,999)\n",
    "- Từ \"1,000-4,999\" $\\to$ (1000,4999)\n",
    "- Từ \"5,000-9,999\" $\\to$ (5000,9999)\n",
    "- Từ \"10,000-19,999\" $\\to$ (10000,19999)\n",
    "- Từ \"20,000-49,999\" $\\to$ (20000,49999)\n",
    "- Không có dữ liệu $\\to$ NaN"
   ]
  },
  {
   "cell_type": "code",
   "execution_count": 10,
   "metadata": {},
   "outputs": [],
   "source": [
    "def convert_companySize(val):\n",
    "    if(val == 'Less Than 10'):\n",
    "        return (0,10)\n",
    "    elif (val == \"10-24\"):\n",
    "        return (10,24)\n",
    "    elif (val == \"25-99\"):\n",
    "        return (25,99)\n",
    "    elif (val == \"100-499\"):\n",
    "        return (100,499)\n",
    "    elif (val == \"500-999\"):\n",
    "        return (500,999)\n",
    "    elif (val == \"1,000-4,999\"):\n",
    "        return (1000,4999)\n",
    "    elif (val == \"5,000-9,999\"):\n",
    "        return (5000,9999)\n",
    "    elif (val == \"10,000-19,999\"):\n",
    "        return (10000,19999)\n",
    "    elif (val == \"20,000-49,999\"):\n",
    "        return (20000,49999)\n",
    "    elif (val == \"Over 50,000\"):\n",
    "        return (50000,100000)\n",
    "    return np.nan"
   ]
  },
  {
   "cell_type": "code",
   "execution_count": 11,
   "metadata": {},
   "outputs": [],
   "source": [
    "data_df['companySize'] = data_df['companySize'].apply(convert_companySize)"
   ]
  },
  {
   "cell_type": "markdown",
   "metadata": {},
   "source": [
    "## Quay lại bước khám phá dữ liệu "
   ]
  },
  {
   "cell_type": "markdown",
   "metadata": {},
   "source": [
    "#### Tìm hiểu về các cột có kiểu object"
   ]
  },
  {
   "cell_type": "code",
   "execution_count": 12,
   "metadata": {},
   "outputs": [],
   "source": [
    "def object_dtype(s):\n",
    "    dtypes = set()\n",
    "    s.apply(lambda x : dtypes.add(type(x)))\n",
    "    return dtypes"
   ]
  },
  {
   "cell_type": "code",
   "execution_count": 13,
   "metadata": {},
   "outputs": [
    {
     "data": {
      "text/plain": [
       "jobTitle                               {<class 'str'>}\n",
       "companyLogo           {<class 'str'>, <class 'float'>}\n",
       "alias                                  {<class 'str'>}\n",
       "approvedOn                             {<class 'str'>}\n",
       "expiredOn                              {<class 'str'>}\n",
       "companyName                            {<class 'str'>}\n",
       "skills                                 {<class 'str'>}\n",
       "benefits                               {<class 'str'>}\n",
       "workingLocations                       {<class 'str'>}\n",
       "industries                             {<class 'str'>}\n",
       "jobLevel                               {<class 'str'>}\n",
       "jobLevelVI                             {<class 'str'>}\n",
       "companySize         {<class 'tuple'>, <class 'float'>}\n",
       "languageSelected                       {<class 'str'>}\n",
       "simpleServices        {<class 'str'>, <class 'float'>}\n",
       "services              {<class 'str'>, <class 'float'>}\n",
       "onlineOn                               {<class 'str'>}\n",
       "priorityOrder                          {<class 'str'>}\n",
       "dtype: object"
      ]
     },
     "execution_count": 13,
     "metadata": {},
     "output_type": "execute_result"
    }
   ],
   "source": [
    "list_object= list(col_dtypes.loc[col_dtypes.values == object].index)\n",
    "list_type = []\n",
    "for i in list_object:\n",
    "    list_type.insert(len(list_type), object_dtype(data_df[i]))\n",
    "type_object = pd.Series(list_type,list_object)\n",
    "type_object"
   ]
  },
  {
   "cell_type": "markdown",
   "metadata": {},
   "source": [
    "**Ta thấy rằng**\n",
    "- Đưa các cột: ***approvedOn, expiredOn, onlineOn, priorityOrder*** về `datetime` để tiếp tục khám phá thêm ở các cột này\n",
    "- Các cột ***companyLogo, simpleServices, services, companySize*** có thêm kiểu `float`, kiểm tra thì `float` ứng với `NaN`"
   ]
  },
  {
   "cell_type": "markdown",
   "metadata": {},
   "source": [
    "## Tiền xử lý dữ liệu"
   ]
  },
  {
   "cell_type": "markdown",
   "metadata": {},
   "source": [
    "#### Chuyển dtype các cột **\"approvedOn\", \"expiredOn\", \"onlineOn\", \"priorityOrder\"** về `datetime`"
   ]
  },
  {
   "cell_type": "code",
   "execution_count": 14,
   "metadata": {},
   "outputs": [],
   "source": [
    "data_df['approvedOn'] = pd.to_datetime(data_df['approvedOn'])\n",
    "data_df['expiredOn'] = pd.to_datetime(data_df['expiredOn'])\n",
    "data_df['onlineOn'] = pd.to_datetime(data_df['onlineOn'])\n",
    "data_df['priorityOrder'] = pd.to_datetime(data_df['priorityOrder'])"
   ]
  },
  {
   "cell_type": "markdown",
   "metadata": {},
   "source": [
    "## Quay lại bước khám phá dữ liệu "
   ]
  },
  {
   "cell_type": "markdown",
   "metadata": {},
   "source": [
    "### Với mỗi cột có kiểu dữ liệu dạng numeric, ta tìm hiểu sự phân bố các giá trị"
   ]
  },
  {
   "cell_type": "markdown",
   "metadata": {},
   "source": [
    "Ta xếp các cột datetime vào nhóm numeric. Do vậy, các cột có thể thuộc nhóm numeric là: \"jobId\", \"userId\", \"companyId\", \"typeWorkingId\", \"salary\", \"salaryMax\",\"salaryMin\",\"approvedOn\", \"expiredOn\", \"onlineOn\", \"priorityOrder\", \"numOfApplications\", \"durationDays\". Tuy nhiên, các cột \"jobId\", \"userId\", \"companyId\", \"typeWorkingId\" là mã được đánh dưới dạng số nên thực tế chỉ có các cột salary\", \"salaryMax\", \"salaryMin\", \"approvedOn\", \"expiredOn\", \"onlineOn\", \"priorityOrder\", \"numOfApplications\", \"durationDays\" là thuộc numeric.\n",
    "\n",
    "Vơi mỗi cột numeric, ta sẽ tính tỉ lệ phần trăm giá trị thiếu(từ 0 - 100), min, max là các dòng và các cột sẽ là \"salary\", \"salaryMax\",\"salaryMin\",\"approvedOn\", \"expiredOn\", \"onlineOn\", \"priorityOrder\", \"numOfApplications\", \"durationDays\"."
   ]
  },
  {
   "cell_type": "code",
   "execution_count": 15,
   "metadata": {},
   "outputs": [
    {
     "data": {
      "text/html": [
       "<div>\n",
       "<style scoped>\n",
       "    .dataframe tbody tr th:only-of-type {\n",
       "        vertical-align: middle;\n",
       "    }\n",
       "\n",
       "    .dataframe tbody tr th {\n",
       "        vertical-align: top;\n",
       "    }\n",
       "\n",
       "    .dataframe thead th {\n",
       "        text-align: right;\n",
       "    }\n",
       "</style>\n",
       "<table border=\"1\" class=\"dataframe\">\n",
       "  <thead>\n",
       "    <tr style=\"text-align: right;\">\n",
       "      <th></th>\n",
       "      <th>salary</th>\n",
       "      <th>salaryMax</th>\n",
       "      <th>salaryMin</th>\n",
       "      <th>approvedOn</th>\n",
       "      <th>expiredOn</th>\n",
       "      <th>onlineOn</th>\n",
       "      <th>priorityOrder</th>\n",
       "      <th>numOfApplications</th>\n",
       "      <th>durationDays</th>\n",
       "    </tr>\n",
       "  </thead>\n",
       "  <tbody>\n",
       "    <tr>\n",
       "      <th>missing_ratio</th>\n",
       "      <td>0.0</td>\n",
       "      <td>0.0</td>\n",
       "      <td>0.0</td>\n",
       "      <td>0.0</td>\n",
       "      <td>0.0</td>\n",
       "      <td>0.0</td>\n",
       "      <td>0.0</td>\n",
       "      <td>0.0</td>\n",
       "      <td>0.0</td>\n",
       "    </tr>\n",
       "    <tr>\n",
       "      <th>min</th>\n",
       "      <td>0.0</td>\n",
       "      <td>0.0</td>\n",
       "      <td>0.0</td>\n",
       "      <td>2022-10-27 07:47:46+07:00</td>\n",
       "      <td>2022-11-26 23:59:59+07:00</td>\n",
       "      <td>2022-10-27 09:10:43+07:00</td>\n",
       "      <td>1970-01-01 07:00:00</td>\n",
       "      <td>0.0</td>\n",
       "      <td>30.0</td>\n",
       "    </tr>\n",
       "    <tr>\n",
       "      <th>max</th>\n",
       "      <td>150000000.0</td>\n",
       "      <td>150000000.0</td>\n",
       "      <td>100000000.0</td>\n",
       "      <td>2022-11-26 15:11:25+07:00</td>\n",
       "      <td>2022-12-26 23:59:59+07:00</td>\n",
       "      <td>2022-11-26 15:11:25+07:00</td>\n",
       "      <td>2022-11-26 11:34:00</td>\n",
       "      <td>459.0</td>\n",
       "      <td>30.0</td>\n",
       "    </tr>\n",
       "  </tbody>\n",
       "</table>\n",
       "</div>"
      ],
      "text/plain": [
       "                    salary    salaryMax    salaryMin  \\\n",
       "missing_ratio          0.0          0.0          0.0   \n",
       "min                    0.0          0.0          0.0   \n",
       "max            150000000.0  150000000.0  100000000.0   \n",
       "\n",
       "                              approvedOn                  expiredOn  \\\n",
       "missing_ratio                        0.0                        0.0   \n",
       "min            2022-10-27 07:47:46+07:00  2022-11-26 23:59:59+07:00   \n",
       "max            2022-11-26 15:11:25+07:00  2022-12-26 23:59:59+07:00   \n",
       "\n",
       "                                onlineOn        priorityOrder  \\\n",
       "missing_ratio                        0.0                  0.0   \n",
       "min            2022-10-27 09:10:43+07:00  1970-01-01 07:00:00   \n",
       "max            2022-11-26 15:11:25+07:00  2022-11-26 11:34:00   \n",
       "\n",
       "               numOfApplications  durationDays  \n",
       "missing_ratio                0.0           0.0  \n",
       "min                          0.0          30.0  \n",
       "max                        459.0          30.0  "
      ]
     },
     "execution_count": 15,
     "metadata": {},
     "output_type": "execute_result"
    }
   ],
   "source": [
    "col_info = [\"salary\", \"salaryMax\",\"salaryMin\",\"approvedOn\", \"expiredOn\", \"onlineOn\", \"priorityOrder\", \"numOfApplications\", \"durationDays\"]\n",
    "row_info = ['missing_ratio','min','max']\n",
    "nume_col_profiles_df = pd.DataFrame(columns = col_info, index = row_info)\n",
    "\n",
    "\n",
    "def find_info(col_name):\n",
    "    missing_ratios = (data_df[col_name].isna().sum() / len(data_df) * 100)\n",
    "    min_value = data_df[col_name].min()\n",
    "    max_value = data_df[col_name].max()\n",
    "    return missing_ratios, min_value, max_value\n",
    "\n",
    "for name in col_info:\n",
    "    nume_col_profiles_df[name] = find_info(name)\n",
    "nume_col_profiles_df\n",
    "nume_col_profiles_df"
   ]
  },
  {
   "cell_type": "markdown",
   "metadata": {},
   "source": [
    "Có giá trị không hợp lệ trong mỗi cột không? (không xét giá trị thiếu)\n",
    "\n",
    "Ở cột \"salaryMax\",\"salaryMin\" có thể xảy ra các giá trị không hợp lệ khi giá trị tại cột \"salaryMin\" > giá trị tương ứng tại cột \"salaryMax\".\n",
    "\n",
    "Với cột \"salary\", giá trị không hợp lệ cũng có thể xuất hiện khi giá trị tại cột \"salary\" < giá trị tương ứng tại \"salaryMin\" hoặc > giá trị tương ứng tại \"salaryMax\""
   ]
  },
  {
   "cell_type": "code",
   "execution_count": 16,
   "metadata": {},
   "outputs": [],
   "source": [
    "def count_invalid_salary(df):\n",
    "    return df[(df.salary != np.nan) \n",
    "    & (df.salaryMin != np.nan) \n",
    "    & (df.salaryMax != np.nan) \n",
    "    & ((df.salary < df.salaryMin) | (df.salary < df.salaryMax))].count()['salary']"
   ]
  },
  {
   "cell_type": "code",
   "execution_count": 17,
   "metadata": {},
   "outputs": [],
   "source": [
    "def count_invalid_salaryMin(df):\n",
    "    return df[(df.salary != np.nan) \n",
    "    & (df.salaryMin != np.nan) \n",
    "    & (df.salaryMax != np.nan) \n",
    "    & ((df.salaryMin > df.salary) | (df.salaryMin > df.salaryMax))].count()['salaryMin']"
   ]
  },
  {
   "cell_type": "code",
   "execution_count": 18,
   "metadata": {},
   "outputs": [],
   "source": [
    "def count_invalid_salaryMax(df):\n",
    "    return df[(df.salary != np.nan) \n",
    "    & (df.salaryMin != np.nan) \n",
    "    & (df.salaryMax != np.nan) \n",
    "    & ((df.salaryMax < df.salary) | (df.salaryMax < df.salaryMin))].count()['salaryMax']"
   ]
  },
  {
   "cell_type": "code",
   "execution_count": 19,
   "metadata": {},
   "outputs": [
    {
     "name": "stdout",
     "output_type": "stream",
     "text": [
      "0\n",
      "133\n",
      "133\n"
     ]
    }
   ],
   "source": [
    "print(count_invalid_salary(data_df))\n",
    "print(count_invalid_salaryMin(data_df))\n",
    "print(count_invalid_salaryMax(data_df))"
   ]
  },
  {
   "cell_type": "markdown",
   "metadata": {},
   "source": [
    "Do số lượng các giá trị không hợp lệ là khá ít so với số lượng dữ liệu nên ta có thể xóa đi các trường giá trị này."
   ]
  },
  {
   "cell_type": "markdown",
   "metadata": {},
   "source": [
    "## Tiền xử lý dữ liệu\n",
    "\n",
    "Ta sẽ xóa đi những dòng dữ liệu chứa các giá trị không hợp lệ ở trên"
   ]
  },
  {
   "cell_type": "code",
   "execution_count": 20,
   "metadata": {},
   "outputs": [],
   "source": [
    "data_df = data_df.drop(data_df[(data_df['salary'] != np.nan) \n",
    "    & (data_df['salaryMin'] != np.nan) \n",
    "    & (data_df['salaryMax'] != np.nan) \n",
    "    & (data_df['salary'] < data_df['salaryMin']) | (data_df['salary'] > data_df['salaryMax']) | (data_df['salaryMax'] < data_df['salaryMin'])].index)"
   ]
  },
  {
   "cell_type": "markdown",
   "metadata": {},
   "source": [
    "## Quay lại bước khám phá dữ liệu "
   ]
  },
  {
   "cell_type": "markdown",
   "metadata": {},
   "source": [
    "### Với mỗi cột có kiểu dữ liệu dạng categorical, ta tìm hiểu sự phân bố các giá trị"
   ]
  },
  {
   "cell_type": "markdown",
   "metadata": {},
   "source": [
    "Ngoài các cột có dữ liệu thuộc nhóm numeric đã nêu ở trên ta xét các cột còn lại.\n",
    "\n",
    "Với mỗi cột categorical, ta thực hiện tính % giá trị thiếu(từ 0 - 100), số lượng giá trị khác nhau(không xét giá trị thiếu), list/array các giá trị khác nhau(không xét giá trị thiếu) và lưu kết quả vào`cate_col_profiles_df`. Dataframe này có 3 dòng là \"missing_ratio\", \"num_diff_vals\", \"diff_vals\"; và có các cột là các cột dữ liệu thuộc nhóm categorical."
   ]
  },
  {
   "cell_type": "code",
   "execution_count": 21,
   "metadata": {},
   "outputs": [
    {
     "data": {
      "text/plain": [
       "Index(['jobId', 'jobTitle', 'userId', 'companyLogo', 'alias', 'approvedOn',\n",
       "       'expiredOn', 'companyName', 'companyId', 'isAnonymous',\n",
       "       'isSalaryVisible', 'isShowLogo', 'salary', 'salaryMax', 'salaryMin',\n",
       "       'typeWorkingId', 'skills', 'benefits', 'workingLocations', 'industries',\n",
       "       'jobLevel', 'jobLevelVI', 'companySize', 'languageSelected',\n",
       "       'simpleServices', 'services', 'durationDays', 'numOfApplications',\n",
       "       'isMobileHotJob', 'isMobileTopJob', 'isBoldAndRedJob', 'isUrgentJob',\n",
       "       'isUrgentJobM', 'onlineOn', 'visibilityDisplay', 'priorityOrder'],\n",
       "      dtype='object')"
      ]
     },
     "execution_count": 21,
     "metadata": {},
     "output_type": "execute_result"
    }
   ],
   "source": [
    "data_df.columns"
   ]
  },
  {
   "cell_type": "code",
   "execution_count": 22,
   "metadata": {},
   "outputs": [
    {
     "data": {
      "text/html": [
       "<div>\n",
       "<style scoped>\n",
       "    .dataframe tbody tr th:only-of-type {\n",
       "        vertical-align: middle;\n",
       "    }\n",
       "\n",
       "    .dataframe tbody tr th {\n",
       "        vertical-align: top;\n",
       "    }\n",
       "\n",
       "    .dataframe thead th {\n",
       "        text-align: right;\n",
       "    }\n",
       "</style>\n",
       "<table border=\"1\" class=\"dataframe\">\n",
       "  <thead>\n",
       "    <tr style=\"text-align: right;\">\n",
       "      <th></th>\n",
       "      <th>jobId</th>\n",
       "      <th>jobTitle</th>\n",
       "      <th>userId</th>\n",
       "      <th>companyLogo</th>\n",
       "      <th>alias</th>\n",
       "      <th>companyName</th>\n",
       "      <th>companyId</th>\n",
       "      <th>isAnonymous</th>\n",
       "      <th>isSalaryVisible</th>\n",
       "      <th>isShowLogo</th>\n",
       "      <th>...</th>\n",
       "      <th>jobLevel</th>\n",
       "      <th>jobLevelVI</th>\n",
       "      <th>simpleServices</th>\n",
       "      <th>services</th>\n",
       "      <th>isMobileHotJob</th>\n",
       "      <th>isMobileTopJob</th>\n",
       "      <th>isBoldAndRedJob</th>\n",
       "      <th>isUrgentJob</th>\n",
       "      <th>isUrgentJobM</th>\n",
       "      <th>visibilityDisplay</th>\n",
       "    </tr>\n",
       "  </thead>\n",
       "  <tbody>\n",
       "    <tr>\n",
       "      <th>missing_ratio</th>\n",
       "      <td>0.0</td>\n",
       "      <td>0.0</td>\n",
       "      <td>0.0</td>\n",
       "      <td>4.126274</td>\n",
       "      <td>0.0</td>\n",
       "      <td>0.0</td>\n",
       "      <td>0.0</td>\n",
       "      <td>0.0</td>\n",
       "      <td>0.0</td>\n",
       "      <td>0.0</td>\n",
       "      <td>...</td>\n",
       "      <td>0.0</td>\n",
       "      <td>0.0</td>\n",
       "      <td>80.909769</td>\n",
       "      <td>10.328113</td>\n",
       "      <td>0.0</td>\n",
       "      <td>0.0</td>\n",
       "      <td>0.0</td>\n",
       "      <td>0.0</td>\n",
       "      <td>0.0</td>\n",
       "      <td>0.0</td>\n",
       "    </tr>\n",
       "    <tr>\n",
       "      <th>num_diff_vals</th>\n",
       "      <td>8046</td>\n",
       "      <td>7071</td>\n",
       "      <td>3173</td>\n",
       "      <td>2973</td>\n",
       "      <td>8046</td>\n",
       "      <td>3334</td>\n",
       "      <td>3173</td>\n",
       "      <td>2</td>\n",
       "      <td>2</td>\n",
       "      <td>2</td>\n",
       "      <td>...</td>\n",
       "      <td>5</td>\n",
       "      <td>5</td>\n",
       "      <td>6</td>\n",
       "      <td>7210</td>\n",
       "      <td>2</td>\n",
       "      <td>2</td>\n",
       "      <td>2</td>\n",
       "      <td>2</td>\n",
       "      <td>2</td>\n",
       "      <td>2</td>\n",
       "    </tr>\n",
       "    <tr>\n",
       "      <th>diff_vals</th>\n",
       "      <td>[1581202, 1593683, 1594103, 1589116, 1589145, ...</td>\n",
       "      <td>[Project Management Manager - Attractive Salar...</td>\n",
       "      <td>[5975282, 417756, 2859613, 1465669, 4394304, 1...</td>\n",
       "      <td>[https://images.vietnamworks.com/pictureofcomp...</td>\n",
       "      <td>[project-management-manager-attractive-salary,...</td>\n",
       "      <td>[Công Ty TNHH Công Nghệ Welco Việt Nam, Ngân H...</td>\n",
       "      <td>[313962, 2332, 136607, 60453, 243840, 34798, 3...</td>\n",
       "      <td>[False, True]</td>\n",
       "      <td>[False, True]</td>\n",
       "      <td>[True, False]</td>\n",
       "      <td>...</td>\n",
       "      <td>[Manager, Experienced (non-manager), Fresher/E...</td>\n",
       "      <td>[Trưởng phòng, Nhân viên, Mới Tốt Nghiệp, Giám...</td>\n",
       "      <td>[['isUrgentJob'], ['isUrgentJobM', 'isUrgentJo...</td>\n",
       "      <td>[[{'serviceCode': 'TP', 'startOn': '2022-10-14...</td>\n",
       "      <td>[False, True]</td>\n",
       "      <td>[False, True]</td>\n",
       "      <td>[False, True]</td>\n",
       "      <td>[False, True]</td>\n",
       "      <td>[False, True]</td>\n",
       "      <td>[False, True]</td>\n",
       "    </tr>\n",
       "  </tbody>\n",
       "</table>\n",
       "<p>3 rows × 24 columns</p>\n",
       "</div>"
      ],
      "text/plain": [
       "                                                           jobId  \\\n",
       "missing_ratio                                                0.0   \n",
       "num_diff_vals                                               8046   \n",
       "diff_vals      [1581202, 1593683, 1594103, 1589116, 1589145, ...   \n",
       "\n",
       "                                                        jobTitle  \\\n",
       "missing_ratio                                                0.0   \n",
       "num_diff_vals                                               7071   \n",
       "diff_vals      [Project Management Manager - Attractive Salar...   \n",
       "\n",
       "                                                          userId  \\\n",
       "missing_ratio                                                0.0   \n",
       "num_diff_vals                                               3173   \n",
       "diff_vals      [5975282, 417756, 2859613, 1465669, 4394304, 1...   \n",
       "\n",
       "                                                     companyLogo  \\\n",
       "missing_ratio                                           4.126274   \n",
       "num_diff_vals                                               2973   \n",
       "diff_vals      [https://images.vietnamworks.com/pictureofcomp...   \n",
       "\n",
       "                                                           alias  \\\n",
       "missing_ratio                                                0.0   \n",
       "num_diff_vals                                               8046   \n",
       "diff_vals      [project-management-manager-attractive-salary,...   \n",
       "\n",
       "                                                     companyName  \\\n",
       "missing_ratio                                                0.0   \n",
       "num_diff_vals                                               3334   \n",
       "diff_vals      [Công Ty TNHH Công Nghệ Welco Việt Nam, Ngân H...   \n",
       "\n",
       "                                                       companyId  \\\n",
       "missing_ratio                                                0.0   \n",
       "num_diff_vals                                               3173   \n",
       "diff_vals      [313962, 2332, 136607, 60453, 243840, 34798, 3...   \n",
       "\n",
       "                 isAnonymous isSalaryVisible     isShowLogo  ...  \\\n",
       "missing_ratio            0.0             0.0            0.0  ...   \n",
       "num_diff_vals              2               2              2  ...   \n",
       "diff_vals      [False, True]   [False, True]  [True, False]  ...   \n",
       "\n",
       "                                                        jobLevel  \\\n",
       "missing_ratio                                                0.0   \n",
       "num_diff_vals                                                  5   \n",
       "diff_vals      [Manager, Experienced (non-manager), Fresher/E...   \n",
       "\n",
       "                                                      jobLevelVI  \\\n",
       "missing_ratio                                                0.0   \n",
       "num_diff_vals                                                  5   \n",
       "diff_vals      [Trưởng phòng, Nhân viên, Mới Tốt Nghiệp, Giám...   \n",
       "\n",
       "                                                  simpleServices  \\\n",
       "missing_ratio                                          80.909769   \n",
       "num_diff_vals                                                  6   \n",
       "diff_vals      [['isUrgentJob'], ['isUrgentJobM', 'isUrgentJo...   \n",
       "\n",
       "                                                        services  \\\n",
       "missing_ratio                                          10.328113   \n",
       "num_diff_vals                                               7210   \n",
       "diff_vals      [[{'serviceCode': 'TP', 'startOn': '2022-10-14...   \n",
       "\n",
       "              isMobileHotJob isMobileTopJob isBoldAndRedJob    isUrgentJob  \\\n",
       "missing_ratio            0.0            0.0             0.0            0.0   \n",
       "num_diff_vals              2              2               2              2   \n",
       "diff_vals      [False, True]  [False, True]   [False, True]  [False, True]   \n",
       "\n",
       "                isUrgentJobM visibilityDisplay  \n",
       "missing_ratio            0.0               0.0  \n",
       "num_diff_vals              2                 2  \n",
       "diff_vals      [False, True]     [False, True]  \n",
       "\n",
       "[3 rows x 24 columns]"
      ]
     },
     "execution_count": 22,
     "metadata": {},
     "output_type": "execute_result"
    }
   ],
   "source": [
    "col_names = ['jobId', 'jobTitle', 'userId', 'companyLogo', 'alias', 'companyName',\n",
    "            'companyId', 'isAnonymous','isSalaryVisible', 'isShowLogo','skills','benefits',\n",
    "            'workingLocations', 'industries', 'jobLevel','jobLevelVI', 'simpleServices', \n",
    "            'services', 'isMobileHotJob','isMobileTopJob', 'isBoldAndRedJob', 'isUrgentJob',\n",
    "            'isUrgentJobM', 'visibilityDisplay',]\n",
    "row_names = [\"missing_ratio\", \"num_diff_vals\", \"diff_vals\"]\n",
    "cate_col_profiles_df = pd.DataFrame(columns=col_names,index=row_names)\n",
    "\n",
    "def info_col(col_name):\n",
    "    missing_ratios = data_df[col_name].isna().sum()/len(data_df)*100\n",
    "    num_diff = data_df[col_name].dropna().nunique()\n",
    "    diff_value = list(data_df[col_name].dropna().unique())\n",
    "    return missing_ratios, num_diff, diff_value\n",
    "\n",
    "for name in col_names:\n",
    "    cate_col_profiles_df[name] = info_col(name)\n",
    "cate_col_profiles_df"
   ]
  },
  {
   "cell_type": "markdown",
   "metadata": {},
   "source": [
    "Tại đây ta thấy cần phải biến đổi/thêm một số cột để biểu diễn dữ liệu được tốt hơn\n",
    "\n",
    "Với cột \"typeWorkingId\" ta xem sự phân bổ của các giá trị "
   ]
  },
  {
   "cell_type": "code",
   "execution_count": 32,
   "metadata": {},
   "outputs": [
    {
     "data": {
      "text/html": [
       "<div>\n",
       "<style scoped>\n",
       "    .dataframe tbody tr th:only-of-type {\n",
       "        vertical-align: middle;\n",
       "    }\n",
       "\n",
       "    .dataframe tbody tr th {\n",
       "        vertical-align: top;\n",
       "    }\n",
       "\n",
       "    .dataframe thead th {\n",
       "        text-align: right;\n",
       "    }\n",
       "</style>\n",
       "<table border=\"1\" class=\"dataframe\">\n",
       "  <thead>\n",
       "    <tr style=\"text-align: right;\">\n",
       "      <th></th>\n",
       "    </tr>\n",
       "    <tr>\n",
       "      <th>typeWorkingId</th>\n",
       "    </tr>\n",
       "  </thead>\n",
       "  <tbody>\n",
       "    <tr>\n",
       "      <th>1</th>\n",
       "    </tr>\n",
       "    <tr>\n",
       "      <th>2</th>\n",
       "    </tr>\n",
       "    <tr>\n",
       "      <th>3</th>\n",
       "    </tr>\n",
       "    <tr>\n",
       "      <th>4</th>\n",
       "    </tr>\n",
       "    <tr>\n",
       "      <th>5</th>\n",
       "    </tr>\n",
       "    <tr>\n",
       "      <th>6</th>\n",
       "    </tr>\n",
       "    <tr>\n",
       "      <th>7</th>\n",
       "    </tr>\n",
       "  </tbody>\n",
       "</table>\n",
       "</div>"
      ],
      "text/plain": [
       "Empty DataFrame\n",
       "Columns: []\n",
       "Index: [1, 2, 3, 4, 5, 6, 7]"
      ]
     },
     "execution_count": 32,
     "metadata": {},
     "output_type": "execute_result"
    }
   ],
   "source": [
    "type_working_id_df = data_df[['typeWorkingId']]\n",
    "type_working_id_df = type_working_id_df.groupby('typeWorkingId').count()\n",
    "type_working_id_df"
   ]
  },
  {
   "cell_type": "markdown",
   "metadata": {},
   "source": [
    "Các trường dữ liệu tại cột \"typeWorkingId\" là dạng số và có giá trị phân bổ từ 1 -> 7.\n",
    "\n",
    "Tuy nhiên nếu để giá trị như vậy thôi thì không có nhiều ý nghĩa lắm, người đọc sẽ không hiểu nội dung chính xác của nó đang mô tả gì. Vì vậy ta cần bổ sung thêm 1 cột mới \"typeWorkingName\" để làm rõ điều này.\n"
   ]
  },
  {
   "cell_type": "markdown",
   "metadata": {},
   "source": [
    "Ngoài ra tại các cột \"skills\", \"benefits\", \"workingLocations\", \"industries\", giá trị chứa một `dictionary array`. Trong đó mỗi `dictionary` chứa các `key` khác nhau song các `key` này không bổ trợ thông tin lẫn nhau quá nhiều, ta cũng chỉ cần chọn ra một cặp `key-value` để đại diện cho nó. Do vậy, để đơn giản hóa dữ liệu, ta sẽ chuyển từ `dictionary array` đến `string/int array` với mỗi `string/int` tương ứng với một `value` được chọn ra từ cặp `key-value` điển hình của mỗi phần tử `dictionary`.\n",
    "\n",
    "Ví dụ tại cột \"skills\", ta quan sát giá trị của các trường này"
   ]
  },
  {
   "cell_type": "code",
   "execution_count": 24,
   "metadata": {},
   "outputs": [
    {
     "data": {
      "text/html": [
       "<div>\n",
       "<style scoped>\n",
       "    .dataframe tbody tr th:only-of-type {\n",
       "        vertical-align: middle;\n",
       "    }\n",
       "\n",
       "    .dataframe tbody tr th {\n",
       "        vertical-align: top;\n",
       "    }\n",
       "\n",
       "    .dataframe thead th {\n",
       "        text-align: right;\n",
       "    }\n",
       "</style>\n",
       "<table border=\"1\" class=\"dataframe\">\n",
       "  <thead>\n",
       "    <tr style=\"text-align: right;\">\n",
       "      <th></th>\n",
       "      <th>skills</th>\n",
       "    </tr>\n",
       "  </thead>\n",
       "  <tbody>\n",
       "    <tr>\n",
       "      <th>0</th>\n",
       "      <td>[{'skillId': 100, 'skillWeight': 100, 'skillName': 'English'}, {'skillId': 8, 'skillWeight': 100, 'skillName': 'Project Management'}, {'skillId': 540, 'skillWeight': 100, 'skillName': 'Communication'}, {'skillId': 338123, 'skillWeight': 100, 'skillName': 'OEM Management'}, {'skillId': 390616, 'skillWeight': 100, 'skillName': 'ISO Standards'}]</td>\n",
       "    </tr>\n",
       "    <tr>\n",
       "      <th>1</th>\n",
       "      <td>[{'skillId': 224, 'skillWeight': 100, 'skillName': 'Tiếng Anh'}, {'skillId': 3078, 'skillWeight': 100, 'skillName': 'Giám Sát Sản Xuất'}, {'skillId': 64, 'skillWeight': 100, 'skillName': 'Sản Xuất'}, {'skillId': 339, 'skillWeight': 100, 'skillName': 'Điện Tử'}, {'skillId': 704693, 'skillWeight': 100, 'skillName': 'Quản Lý'}]</td>\n",
       "    </tr>\n",
       "    <tr>\n",
       "      <th>2</th>\n",
       "      <td>[{'skillId': 98, 'skillWeight': 100, 'skillName': 'Java'}, {'skillId': 75026, 'skillWeight': 100, 'skillName': '.NET'}, {'skillId': 710627, 'skillWeight': 100, 'skillName': 'DevOps'}, {'skillId': 22172, 'skillWeight': 100, 'skillName': 'Cloud'}, {'skillId': 903150, 'skillWeight': 100, 'skillName': 'Kafka'}]</td>\n",
       "    </tr>\n",
       "    <tr>\n",
       "      <th>3</th>\n",
       "      <td>[{'skillId': 88, 'skillWeight': 100, 'skillName': 'Ngân Hàng'}]</td>\n",
       "    </tr>\n",
       "    <tr>\n",
       "      <th>4</th>\n",
       "      <td>[{'skillId': 252908, 'skillWeight': 100, 'skillName': 'Lập Trình Viên / Software Developer'}, {'skillId': 15287, 'skillWeight': 100, 'skillName': 'IT Phần Cứng'}, {'skillId': 2343, 'skillWeight': 100, 'skillName': 'Java Spring'}, {'skillId': 754054, 'skillWeight': 100, 'skillName': 'Develop Employees'}, {'skillId': 329, 'skillWeight': 100, 'skillName': 'Software Engineering'}]</td>\n",
       "    </tr>\n",
       "  </tbody>\n",
       "</table>\n",
       "</div>"
      ],
      "text/plain": [
       "                                                                                                                                                                                                                                                                                                                                                                                        skills\n",
       "0                                     [{'skillId': 100, 'skillWeight': 100, 'skillName': 'English'}, {'skillId': 8, 'skillWeight': 100, 'skillName': 'Project Management'}, {'skillId': 540, 'skillWeight': 100, 'skillName': 'Communication'}, {'skillId': 338123, 'skillWeight': 100, 'skillName': 'OEM Management'}, {'skillId': 390616, 'skillWeight': 100, 'skillName': 'ISO Standards'}]\n",
       "1                                                       [{'skillId': 224, 'skillWeight': 100, 'skillName': 'Tiếng Anh'}, {'skillId': 3078, 'skillWeight': 100, 'skillName': 'Giám Sát Sản Xuất'}, {'skillId': 64, 'skillWeight': 100, 'skillName': 'Sản Xuất'}, {'skillId': 339, 'skillWeight': 100, 'skillName': 'Điện Tử'}, {'skillId': 704693, 'skillWeight': 100, 'skillName': 'Quản Lý'}]\n",
       "2                                                                         [{'skillId': 98, 'skillWeight': 100, 'skillName': 'Java'}, {'skillId': 75026, 'skillWeight': 100, 'skillName': '.NET'}, {'skillId': 710627, 'skillWeight': 100, 'skillName': 'DevOps'}, {'skillId': 22172, 'skillWeight': 100, 'skillName': 'Cloud'}, {'skillId': 903150, 'skillWeight': 100, 'skillName': 'Kafka'}]\n",
       "3                                                                                                                                                                                                                                                                                                                              [{'skillId': 88, 'skillWeight': 100, 'skillName': 'Ngân Hàng'}]\n",
       "4  [{'skillId': 252908, 'skillWeight': 100, 'skillName': 'Lập Trình Viên / Software Developer'}, {'skillId': 15287, 'skillWeight': 100, 'skillName': 'IT Phần Cứng'}, {'skillId': 2343, 'skillWeight': 100, 'skillName': 'Java Spring'}, {'skillId': 754054, 'skillWeight': 100, 'skillName': 'Develop Employees'}, {'skillId': 329, 'skillWeight': 100, 'skillName': 'Software Engineering'}]"
      ]
     },
     "execution_count": 24,
     "metadata": {},
     "output_type": "execute_result"
    }
   ],
   "source": [
    "pd.set_option('display.max_colwidth', None)\n",
    "skill_df = data_df[['skills']]\n",
    "skill_df.head()"
   ]
  },
  {
   "cell_type": "markdown",
   "metadata": {},
   "source": [
    "Giá trị của các trường của cột \"skills\" là một `dictionary array` với mỗi phần tử `dictionary` chứa các `key` *skillId*, *skillWeight*, *skillName*. Ta sẽ chỉ lấy `value` của `key` *skillName* để đại diện cho mỗi phần tử trong `array`."
   ]
  },
  {
   "cell_type": "markdown",
   "metadata": {},
   "source": [
    "## Tiền xử lý dữ liệu"
   ]
  },
  {
   "cell_type": "markdown",
   "metadata": {},
   "source": [
    "Dựa trên việc tìm hiểu tại **VietnamWorks**, ta thêm cột \"typeWorkingName\" với quy tắc sau:\n",
    "\n",
    "- Với giá trị là 1 tại cột \"typeWorkingId\", ta có giá trị tương ứng tại cột \"typeWorkingName\" là **Full-time**\n",
    "- Với giá trị là 2 tại cột \"typeWorkingId\", ta có giá trị tương ứng tại cột \"typeWorkingName\" là **Part-time**\n",
    "- Với giá trị là 3 tại cột \"typeWorkingId\", ta có giá trị tương ứng tại cột \"typeWorkingName\" là **Internship**\n",
    "- Với giá trị là 4 tại cột \"typeWorkingId\", ta có giá trị tương ứng tại cột \"typeWorkingName\" là **Online jobs**\n",
    "- Với giá trị là 5 tại cột \"typeWorkingId\", ta có giá trị tương ứng tại cột \"typeWorkingName\" là **Freelancer**\n",
    "- Với giá trị là 6 tại cột \"typeWorkingId\", ta có giá trị tương ứng tại cột \"typeWorkingName\" là **Seasonal**\n",
    "- Với giá trị là 7 tại cột \"typeWorkingId\", ta có giá trị tương ứng tại cột \"typeWorkingName\" là **Other**"
   ]
  },
  {
   "cell_type": "code",
   "execution_count": 25,
   "metadata": {},
   "outputs": [],
   "source": [
    "def convert_typeWorkingName(id):\n",
    "    if (id == 1):\n",
    "        return 'Full-time'\n",
    "    elif (id == 2):\n",
    "        return 'Part-time'\n",
    "    elif (id == 3):\n",
    "        return 'Internship'\n",
    "    elif (id == 4):\n",
    "        return 'Online jobs'\n",
    "    elif (id == 5):\n",
    "        return 'Freelancer'\n",
    "    elif (id == 6):\n",
    "        return 'Seasonal'\n",
    "    else:\n",
    "        return 'Other'"
   ]
  },
  {
   "cell_type": "code",
   "execution_count": 26,
   "metadata": {},
   "outputs": [],
   "source": [
    "data_df['typeWorkingName'] = [convert_typeWorkingName(x) for x in data_df['typeWorkingId']]"
   ]
  },
  {
   "cell_type": "markdown",
   "metadata": {},
   "source": [
    "Với các cột \"\"skills\", \"benefits\", \"workingLocations\", \"industries\", ta chọn ra giá trị điển hình cho mỗi phần tử trong mảng để đưa về một kết quả dễ quan sát hơn."
   ]
  },
  {
   "cell_type": "markdown",
   "metadata": {},
   "source": [
    "Tại cột \"skills\" ta sẽ lấy `value` của `key` **skillName** làm giá trị."
   ]
  },
  {
   "cell_type": "code",
   "execution_count": 27,
   "metadata": {},
   "outputs": [],
   "source": [
    "data_df['skills'] = data_df['skills'].apply(lambda x: list(map(lambda u:u['skillName'],ast.literal_eval(x))))"
   ]
  },
  {
   "cell_type": "markdown",
   "metadata": {},
   "source": [
    "Tại cột \"benefits\" ta sẽ lấy `value` của `key` **benefitName** làm giá trị."
   ]
  },
  {
   "cell_type": "code",
   "execution_count": 28,
   "metadata": {},
   "outputs": [],
   "source": [
    "data_df['benefits'] = data_df['benefits'].apply(lambda x: list(map(lambda u:u['benefitName'],ast.literal_eval(x))))"
   ]
  },
  {
   "cell_type": "markdown",
   "metadata": {},
   "source": [
    "Tại cột \"workingLocations\" ta sẽ lấy `value` của `key` **cityName** làm giá trị."
   ]
  },
  {
   "cell_type": "code",
   "execution_count": 29,
   "metadata": {},
   "outputs": [],
   "source": [
    "data_df['workingLocations'] = data_df['workingLocations'].apply(lambda x: list(map(lambda u:u['cityName'],ast.literal_eval(x))))"
   ]
  },
  {
   "cell_type": "markdown",
   "metadata": {},
   "source": [
    "Tại cột \"industries\" ta sẽ lấy `value` của `key` **'industryName** làm giá trị."
   ]
  },
  {
   "cell_type": "code",
   "execution_count": 30,
   "metadata": {},
   "outputs": [],
   "source": [
    "data_df['industries'] = data_df['industries'].apply(lambda x: list(map(lambda u:u['industryName'],ast.literal_eval(x))))"
   ]
  },
  {
   "cell_type": "markdown",
   "metadata": {},
   "source": [
    "Sau khi khám phá & tiền xử lý dữ liệu xong, ta sẽ xuất ra một file .csv khác để phục vụ cho các bước tiếp theo."
   ]
  },
  {
   "cell_type": "code",
   "execution_count": 31,
   "metadata": {},
   "outputs": [],
   "source": [
    "data_df.to_csv('data/job_list.csv')  "
   ]
  }
 ],
 "metadata": {
  "kernelspec": {
   "display_name": "Python 3.9.12 ('test01')",
   "language": "python",
   "name": "python3"
  },
  "language_info": {
   "codemirror_mode": {
    "name": "ipython",
    "version": 3
   },
   "file_extension": ".py",
   "mimetype": "text/x-python",
   "name": "python",
   "nbconvert_exporter": "python",
   "pygments_lexer": "ipython3",
   "version": "3.9.12"
  },
  "orig_nbformat": 4,
  "vscode": {
   "interpreter": {
    "hash": "57790775ee70add7e11aec3d4f38327ece5559b614a55075eb06a7c4aad259d0"
   }
  }
 },
 "nbformat": 4,
 "nbformat_minor": 2
}
